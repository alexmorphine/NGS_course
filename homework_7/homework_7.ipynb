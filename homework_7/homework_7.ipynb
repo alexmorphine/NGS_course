{
 "cells": [
  {
   "cell_type": "code",
   "execution_count": 4,
   "metadata": {
    "scrolled": true
   },
   "outputs": [
    {
     "name": "stdout",
     "output_type": "stream",
     "text": [
      "Settings:\n",
      "  Output files: \"ref_hisat.index.*.ht2\"\n",
      "  Line rate: 6 (line is 64 bytes)\n",
      "  Lines per side: 1 (side is 64 bytes)\n",
      "  Offset rate: 4 (one in 16)\n",
      "  FTable chars: 10\n",
      "  Strings: unpacked\n",
      "  Local offset rate: 3 (one in 8)\n",
      "  Local fTable chars: 6\n",
      "  Local sequence length: 57344\n",
      "  Local sequence overlap between two consecutive indexes: 1024\n",
      "  Endianness: little\n",
      "  Actual local endianness: little\n",
      "  Sanity checking: disabled\n",
      "  Assertions: disabled\n",
      "  Random seed: 0\n",
      "  Sizeofs: void*:8, int:4, long:8, size_t:8\n",
      "Input files DNA, FASTA:\n",
      "  data/Saccharomyces_cerevisiae.R64-1-1.75.dna.toplevel.fa\n",
      "Reading reference sizes\n",
      "  Time reading reference sizes: 00:00:00\n",
      "Calculating joined length\n",
      "Writing header\n",
      "Reserving space for joined string\n",
      "Joining reference sequences\n",
      "  Time to join reference sequences: 00:00:00\n",
      "  Time to read SNPs and splice sites: 00:00:00\n",
      "Using parameters --bmax 2279457 --dcv 1024\n",
      "  Doing ahead-of-time memory usage test\n",
      "  Passed!  Constructing with these parameters: --bmax 2279457 --dcv 1024\n",
      "Constructing suffix-array element generator\n",
      "Converting suffix-array elements to index image\n",
      "Allocating ftab, absorbFtab\n",
      "Entering GFM loop\n",
      "Exited GFM loop\n",
      "fchr[A]: 0\n",
      "fchr[C]: 3766349\n",
      "fchr[G]: 6086925\n",
      "fchr[T]: 8404025\n",
      "fchr[$]: 12157105\n",
      "Exiting GFM::buildToDisk()\n",
      "Returning from initFromVector\n",
      "Wrote 8248111 bytes to primary GFM file: ref_hisat.index.1.ht2\n",
      "Wrote 3039284 bytes to secondary GFM file: ref_hisat.index.2.ht2\n",
      "Re-opening _in1 and _in2 as input streams\n",
      "Returning from GFM constructor\n",
      "Returning from initFromVector\n",
      "Wrote 5399069 bytes to primary GFM file: ref_hisat.index.5.ht2\n",
      "Wrote 3092708 bytes to secondary GFM file: ref_hisat.index.6.ht2\n",
      "Re-opening _in5 and _in5 as input streams\n",
      "Returning from HGFM constructor\n",
      "Headers:\n",
      "    len: 12157105\n",
      "    gbwtLen: 12157106\n",
      "    nodes: 12157106\n",
      "    sz: 3039277\n",
      "    gbwtSz: 3039277\n",
      "    lineRate: 6\n",
      "    offRate: 4\n",
      "    offMask: 0xfffffff0\n",
      "    ftabChars: 10\n",
      "    eftabLen: 0\n",
      "    eftabSz: 0\n",
      "    ftabLen: 1048577\n",
      "    ftabSz: 4194308\n",
      "    offsLen: 759820\n",
      "    offsSz: 3039280\n",
      "    lineSz: 64\n",
      "    sideSz: 64\n",
      "    sideGbwtSz: 48\n",
      "    sideGbwtLen: 192\n",
      "    numSides: 63319\n",
      "    numLines: 63319\n",
      "    gbwtTotLen: 4052416\n",
      "    gbwtTotSz: 4052416\n",
      "    reverse: 0\n",
      "    linearFM: Yes\n",
      "Total time for call to driver() for forward index: 00:00:12\n"
     ]
    }
   ],
   "source": [
    "# построение индекса\n",
    "!hisat2-build data/Saccharomyces_cerevisiae.R64-1-1.75.dna.toplevel.fa ref_hisat.index"
   ]
  },
  {
   "cell_type": "code",
   "execution_count": null,
   "metadata": {},
   "outputs": [],
   "source": [
    "# это мне надо было, чтобы понять, какая направленность у стрэндов\n",
    "!gtf2bed < data/Saccharomyces_cerevisiae.R64-1-1.75.gtf > ref.bed"
   ]
  },
  {
   "cell_type": "code",
   "execution_count": 46,
   "metadata": {},
   "outputs": [
    {
     "name": "stdout",
     "output_type": "stream",
     "text": [
      "Reading reference gene model ref.bed ... Done\n",
      "Loading SAM/BAM file ...  Total 200000 usable reads were sampled\n",
      "\n",
      "\n",
      "This is PairEnd Data\n",
      "Fraction of reads failed to determine: 0.0456\n",
      "Fraction of reads explained by \"1++,1--,2+-,2-+\": 0.4813\n",
      "Fraction of reads explained by \"1+-,1-+,2++,2--\": 0.4731\n"
     ]
    }
   ],
   "source": [
    "# как выяснилось, никакая, поэтому пришлось найти аргумент --dta-cufflinks у hisat2\n",
    "!infer_experiment.py -r ref.bed -i hisat_alignment.sam"
   ]
  },
  {
   "cell_type": "code",
   "execution_count": 12,
   "metadata": {
    "scrolled": true
   },
   "outputs": [
    {
     "name": "stdout",
     "output_type": "stream",
     "text": [
      "5725730 reads; of these:\n",
      "  5725730 (100.00%) were paired; of these:\n",
      "    1222960 (21.36%) aligned concordantly 0 times\n",
      "    4258584 (74.38%) aligned concordantly exactly 1 time\n",
      "    244186 (4.26%) aligned concordantly >1 times\n",
      "    ----\n",
      "    1222960 pairs aligned concordantly 0 times; of these:\n",
      "      128458 (10.50%) aligned discordantly 1 time\n",
      "    ----\n",
      "    1094502 pairs aligned 0 times concordantly or discordantly; of these:\n",
      "      2189004 mates make up the pairs; of these:\n",
      "        1471502 (67.22%) aligned 0 times\n",
      "        662558 (30.27%) aligned exactly 1 time\n",
      "        54944 (2.51%) aligned >1 times\n",
      "87.15% overall alignment rate\n",
      "[bam_sort_core] merging from 4 files and 1 in-memory blocks...\n"
     ]
    }
   ],
   "source": [
    "# выравнивание и получение .bam\n",
    "!hisat2 -x ref_hisat.index -p 6 -1 data/SRR453566_1.fastq -2 data/SRR453566_2.fastq --dta-cufflinks | samtools \\\n",
    "sort > hisat2.bam"
   ]
  },
  {
   "cell_type": "code",
   "execution_count": 13,
   "metadata": {},
   "outputs": [
    {
     "name": "stdout",
     "output_type": "stream",
     "text": [
      "Warning: Could not connect to update server to verify current version. Please check at the Cufflinks website (http://cufflinks.cbcb.umd.edu).\n",
      "[23:15:24] Loading reference annotation.\n",
      "[23:15:25] Inspecting maps and determining fragment length distributions.\n",
      "> Map Properties:\n",
      ">\tNormalized Map Mass: 3590493.00\n",
      ">\tRaw Map Mass: 3590609.35\n",
      ">\tFragment Length Distribution: Empirical (learned)\n",
      ">\t              Estimated Mean: 206.33\n",
      ">\t           Estimated Std Dev: 98.38\n",
      "[23:16:21] Calculating preliminary abundance estimates\n",
      "[23:16:21] Quantifying expression levels in locus.\n",
      "> Processed 6369 loci.                         [*************************] 100%\n"
     ]
    }
   ],
   "source": [
    "# в пайплайне cufflinks написано, что после этого можно использовать cuffnorm, но он хочет два .cxb файла\n",
    "# я не поняла, где надо было взять второй, поэтому использовала cufflinks\n",
    "!./cufflinks-2.2.1/cuffquant -p 6 data/Saccharomyces_cerevisiae.R64-1-1.75.gtf hisat2.bam"
   ]
  },
  {
   "cell_type": "code",
   "execution_count": 24,
   "metadata": {
    "scrolled": true
   },
   "outputs": [
    {
     "name": "stdout",
     "output_type": "stream",
     "text": [
      "Warning: Could not connect to update server to verify current version. Please check at the Cufflinks website (http://cufflinks.cbcb.umd.edu).\n",
      "[23:35:31] Loading reference annotation.\n",
      "[23:35:31] Inspecting reads and determining fragment length distribution.\n",
      "> Processed 1660 loci.                         [*************************] 100%\n",
      "> Map Properties:\n",
      ">\tNormalized Map Mass: 4988472.84\n",
      ">\tRaw Map Mass: 4988472.84\n",
      ">\tFragment Length Distribution: Empirical (learned)\n",
      ">\t              Estimated Mean: 206.32\n",
      ">\t           Estimated Std Dev: 99.09\n",
      "[23:36:45] Assembling transcripts and estimating abundances.\n",
      "> Processed 1660 loci.                         [*************************] 100%\n"
     ]
    }
   ],
   "source": [
    "# тут считается FPKM\n",
    "!./cufflinks-2.2.1/cufflinks -p 6 -g data/Saccharomyces_cerevisiae.R64-1-1.75.gtf hisat2.bam"
   ]
  },
  {
   "cell_type": "code",
   "execution_count": null,
   "metadata": {},
   "outputs": [],
   "source": [
    "%matplotlib inline\n",
    "import pandas as pd\n",
    "import matplotlib.pyplot as plt"
   ]
  },
  {
   "cell_type": "code",
   "execution_count": 32,
   "metadata": {},
   "outputs": [],
   "source": [
    "# файл с генами и их FPKM\n",
    "data = pd.read_csv('genes.fpkm_tracking', sep='\\t')"
   ]
  },
  {
   "cell_type": "code",
   "execution_count": 38,
   "metadata": {},
   "outputs": [
    {
     "data": {
      "text/plain": [
       "<matplotlib.axes._subplots.AxesSubplot at 0x7f0dd16a8650>"
      ]
     },
     "execution_count": 38,
     "metadata": {},
     "output_type": "execute_result"
    },
    {
     "data": {
      "image/png": "[encoded data removed]",
      "text/plain": [
       "<Figure size 720x360 with 1 Axes>"
      ]
     },
     "metadata": {
      "needs_background": "light"
     },
     "output_type": "display_data"
    }
   ],
   "source": [
    "# общее распределение\n",
    "plt.figure(figsize=(10, 5))\n",
    "data.FPKM.hist(bins=100)"
   ]
  },
  {
   "cell_type": "code",
   "execution_count": 37,
   "metadata": {},
   "outputs": [
    {
     "data": {
      "text/plain": [
       "<matplotlib.axes._subplots.AxesSubplot at 0x7f0dd17cf5d0>"
      ]
     },
     "execution_count": 37,
     "metadata": {},
     "output_type": "execute_result"
    },
    {
     "data": {
      "image/png": "[encoded data removed]",
      "text/plain": [
       "<Figure size 720x360 with 1 Axes>"
      ]
     },
     "metadata": {
      "needs_background": "light"
     },
     "output_type": "display_data"
    }
   ],
   "source": [
    "# выглядит одинаково... \n",
    "plt.figure(figsize=(10, 5))\n",
    "data.loc[data.FPKM < 100].FPKM.hist(bins=100)"
   ]
  },
  {
   "cell_type": "code",
   "execution_count": 36,
   "metadata": {},
   "outputs": [],
   "source": [
    "# мне понравилось число 5\n",
    "cutoff = 5"
   ]
  },
  {
   "cell_type": "code",
   "execution_count": 45,
   "metadata": {},
   "outputs": [
    {
     "name": "stdout",
     "output_type": "stream",
     "text": [
      "Процент экспрессирующихся генов с FPKM > 5 равен 27.55%\n"
     ]
    }
   ],
   "source": [
    "print(f'Процент экспрессирующихся генов с FPKM > {cutoff} равен '\n",
    "      f'{(len(data) - len(data.loc[data.FPKM > cutoff])) / len(data) * 100:.2f}%')"
   ]
  },
  {
   "cell_type": "code",
   "execution_count": null,
   "metadata": {},
   "outputs": [],
   "source": []
  }
 ],
 "metadata": {
  "kernelspec": {
   "display_name": "Python 3",
   "language": "python",
   "name": "python3"
  },
  "language_info": {
   "codemirror_mode": {
    "name": "ipython",
    "version": 3
   },
   "file_extension": ".py",
   "mimetype": "text/x-python",
   "name": "python",
   "nbconvert_exporter": "python",
   "pygments_lexer": "ipython3",
   "version": "3.7.4"
  }
 },
 "nbformat": 4,
 "nbformat_minor": 2
}
