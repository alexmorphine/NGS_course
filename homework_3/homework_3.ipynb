{
 "cells": [
  {
   "cell_type": "code",
   "execution_count": 1,
   "metadata": {},
   "outputs": [],
   "source": [
    "%matplotlib inline\n",
    "import numpy as np\n",
    "import pandas as pd\n",
    "import matplotlib.pyplot as plt\n",
    "from collections import Counter\n",
    "from cigar import Cigar"
   ]
  },
  {
   "cell_type": "markdown",
   "metadata": {},
   "source": [
    "# 0"
   ]
  },
  {
   "cell_type": "code",
   "execution_count": 3,
   "metadata": {},
   "outputs": [
    {
     "name": "stdout",
     "output_type": "stream",
     "text": [
      "[M::mm_idx_gen::0.164*0.99] collected minimizers\n",
      "[M::mm_idx_gen::0.183*1.22] sorted minimizers\n",
      "[M::main::0.183*1.22] loaded/built the index for 1 target sequence(s)\n",
      "[M::mm_mapopt_update::0.193*1.20] mid_occ = 11\n",
      "[M::mm_idx_stat] kmer size: 19; skip: 10; is_hpc: 1; #seq: 1\n",
      "[M::mm_idx_stat::0.200*1.20] distinct minimizers: 606828 (98.95% are singletons); average occurrences: 1.024; average spacing: 7.468\n",
      "[M::worker_pipeline::48.084*3.72] mapped 41447 sequences\n",
      "[M::main] Version: 2.17-r941\n",
      "[M::main] CMD: minimap2 -ax map-pb -t4 reference.fasta pacbio_40x.fq\n",
      "[M::main] Real time: 48.103 sec; CPU: 179.053 sec; Peak RSS: 2.105 GB\n"
     ]
    }
   ],
   "source": [
    "!minimap2 -ax map-pb -t4 reference.fasta pacbio_40x.fq > pacbio.sam"
   ]
  },
  {
   "cell_type": "code",
   "execution_count": 4,
   "metadata": {},
   "outputs": [
    {
     "name": "stdout",
     "output_type": "stream",
     "text": [
      "[M::mm_idx_gen::0.181*0.93] collected minimizers\n",
      "[M::mm_idx_gen::0.211*1.18] sorted minimizers\n",
      "[M::main::0.211*1.18] loaded/built the index for 1 target sequence(s)\n",
      "[M::mm_mapopt_update::0.221*1.17] mid_occ = 11\n",
      "[M::mm_idx_stat] kmer size: 19; skip: 10; is_hpc: 1; #seq: 1\n",
      "[M::mm_idx_stat::0.228*1.17] distinct minimizers: 606828 (98.95% are singletons); average occurrences: 1.024; average spacing: 7.468\n",
      "[M::worker_pipeline::13.901*3.66] mapped 30810 sequences\n",
      "[M::main] Version: 2.17-r941\n",
      "[M::main] CMD: minimap2 -ax map-pb -t4 reference.fasta SRR6334890.fastq\n",
      "[M::main] Real time: 13.911 sec; CPU: 50.934 sec; Peak RSS: 0.831 GB\n"
     ]
    }
   ],
   "source": [
    "!minimap2 -ax map-pb -t4 reference.fasta SRR6334890.fastq > on.sam"
   ]
  },
  {
   "cell_type": "code",
   "execution_count": 5,
   "metadata": {},
   "outputs": [],
   "source": [
    "!samtools view -S -b pacbio.sam | samtools sort - -o pacbio.bam\n",
    "!samtools view -S -b on.sam | samtools sort - -o on.bam"
   ]
  },
  {
   "cell_type": "code",
   "execution_count": 6,
   "metadata": {},
   "outputs": [
    {
     "name": "stdout",
     "output_type": "stream",
     "text": [
      "52081 + 0 in total (QC-passed reads + QC-failed reads)\r\n",
      "1736 + 0 secondary\r\n",
      "8898 + 0 supplementary\r\n",
      "0 + 0 duplicates\r\n",
      "51199 + 0 mapped (98.31% : N/A)\r\n",
      "0 + 0 paired in sequencing\r\n",
      "0 + 0 read1\r\n",
      "0 + 0 read2\r\n",
      "0 + 0 properly paired (N/A : N/A)\r\n",
      "0 + 0 with itself and mate mapped\r\n",
      "0 + 0 singletons (N/A : N/A)\r\n",
      "0 + 0 with mate mapped to a different chr\r\n",
      "0 + 0 with mate mapped to a different chr (mapQ>=5)\r\n"
     ]
    }
   ],
   "source": [
    "# 98.31% приложились\n",
    "!samtools flagstat pacbio.bam"
   ]
  },
  {
   "cell_type": "code",
   "execution_count": 7,
   "metadata": {
    "scrolled": true
   },
   "outputs": [
    {
     "name": "stdout",
     "output_type": "stream",
     "text": [
      "32093 + 0 in total (QC-passed reads + QC-failed reads)\r\n",
      "1063 + 0 secondary\r\n",
      "220 + 0 supplementary\r\n",
      "0 + 0 duplicates\r\n",
      "29297 + 0 mapped (91.29% : N/A)\r\n",
      "0 + 0 paired in sequencing\r\n",
      "0 + 0 read1\r\n",
      "0 + 0 read2\r\n",
      "0 + 0 properly paired (N/A : N/A)\r\n",
      "0 + 0 with itself and mate mapped\r\n",
      "0 + 0 singletons (N/A : N/A)\r\n",
      "0 + 0 with mate mapped to a different chr\r\n",
      "0 + 0 with mate mapped to a different chr (mapQ>=5)\r\n"
     ]
    }
   ],
   "source": [
    "# 91.29% приложились\n",
    "!samtools flagstat on.bam"
   ]
  },
  {
   "cell_type": "markdown",
   "metadata": {},
   "source": [
    "# 1"
   ]
  },
  {
   "cell_type": "code",
   "execution_count": 8,
   "metadata": {},
   "outputs": [],
   "source": [
    "def SAM_coverage(fasta, sam):\n",
    "    \n",
    "    with open(fasta) as file:\n",
    "        ref_length = sum([len(line.strip()) for line in file if not line.startswith('>')])\n",
    "        \n",
    "    coverage = np.zeros(ref_length)\n",
    "    \n",
    "    with open(sam) as file:\n",
    "        for i, line in enumerate(file):\n",
    "            if line.startswith('@'):\n",
    "                continue\n",
    "            data = line.strip().split()\n",
    "            start = int(data[3])\n",
    "            read_length = len(data[9])\n",
    "            end = min(start + read_length - 1, ref_length - 1)\n",
    "            coverage[start : end] += 1\n",
    "\n",
    "    return coverage"
   ]
  },
  {
   "cell_type": "code",
   "execution_count": 9,
   "metadata": {},
   "outputs": [
    {
     "name": "stdout",
     "output_type": "stream",
     "text": [
      "mean coverage = 49.00\n",
      "position coverage = 100.00\n"
     ]
    }
   ],
   "source": [
    "# PacBio\n",
    "coverage = SAM_coverage('reference.fasta', 'pacbio.sam')\n",
    "n = len(coverage)\n",
    "avg_coverage = coverage.mean()\n",
    "reference_coverage = np.where(coverage > 0)[0].shape[0] / n * 100\n",
    "print(f'mean coverage = {avg_coverage:.2f}')\n",
    "print(f'position coverage = {reference_coverage:.2f}')"
   ]
  },
  {
   "cell_type": "code",
   "execution_count": 11,
   "metadata": {},
   "outputs": [
    {
     "data": {
      "text/plain": [
       "Text(0.5, 1.0, 'Покрытие PacBio')"
      ]
     },
     "execution_count": 11,
     "metadata": {},
     "output_type": "execute_result"
    },
    {
     "data": {
      "image/png": "[encoded data removed]",
      "text/plain": [
       "<Figure size 1080x216 with 1 Axes>"
      ]
     },
     "metadata": {
      "needs_background": "light"
     },
     "output_type": "display_data"
    }
   ],
   "source": [
    "step = 10000\n",
    "\n",
    "x_axis = [i * step for i in range(0, int(n / step))]\n",
    "y = [np.mean(coverage[i : i + step]) for i in x_axis]\n",
    "\n",
    "# я не могу подобрать дурацкие width\n",
    "plt.figure(figsize=(15, 3))\n",
    "plt.bar(x_axis, y, width=[5000] * len(y))\n",
    "plt.xlabel('Позиции')\n",
    "plt.ylabel('Среднееокрытие')\n",
    "plt.title('Покрытие PacBio')"
   ]
  },
  {
   "cell_type": "code",
   "execution_count": 12,
   "metadata": {},
   "outputs": [
    {
     "name": "stdout",
     "output_type": "stream",
     "text": [
      "mean coverage = 29.08\n",
      "position coverage = 100.00\n"
     ]
    }
   ],
   "source": [
    "# Oxford Nanopores\n",
    "coverage = SAM_coverage('reference.fasta', 'on.sam')\n",
    "n = len(coverage)\n",
    "avg_coverage = coverage.mean()\n",
    "reference_coverage = np.where(coverage > 0)[0].shape[0] / n * 100\n",
    "print(f'mean coverage = {avg_coverage:.2f}')\n",
    "print(f'position coverage = {reference_coverage:.2f}')"
   ]
  },
  {
   "cell_type": "code",
   "execution_count": 13,
   "metadata": {},
   "outputs": [
    {
     "data": {
      "text/plain": [
       "Text(0.5, 1.0, 'Покрытие ON')"
      ]
     },
     "execution_count": 13,
     "metadata": {},
     "output_type": "execute_result"
    },
    {
     "data": {
      "image/png": "[encoded data removed]",
      "text/plain": [
       "<Figure size 1080x216 with 1 Axes>"
      ]
     },
     "metadata": {
      "needs_background": "light"
     },
     "output_type": "display_data"
    }
   ],
   "source": [
    "step = 10000\n",
    "\n",
    "x_axis = [i * step for i in range(0, int(n / step))]\n",
    "y = [np.mean(coverage[i : i + step]) for i in x_axis]\n",
    "\n",
    "# я не могу подобрать дурацкие width\n",
    "plt.figure(figsize=(15, 3))\n",
    "plt.bar(x_axis, y, width=[5000] * len(y))\n",
    "plt.xlabel('Позиции')\n",
    "plt.ylabel('Среднееокрытие')\n",
    "plt.title('Покрытие ON')"
   ]
  },
  {
   "cell_type": "code",
   "execution_count": 18,
   "metadata": {},
   "outputs": [],
   "source": [
    "def substitution_matrix(fasta, sam, poly=3):\n",
    "    letters = {'A': 0, 'C': 1, 'G': 2, 'T': 3, 'N': 4, '*': 5}\n",
    "    unique_ref = set()\n",
    "    unique_sam = set()\n",
    "    \n",
    "    with open(fasta) as file:\n",
    "        reference = ''.join([line.strip() for line in file if not line.startswith('>')])\n",
    "    ref_length = len(reference)\n",
    "    \n",
    "    hp = set()\n",
    "    state = []\n",
    "    for pos, ref_position in enumerate(reference):\n",
    "        if not state or ref_position == state[-1]:\n",
    "            state.append(ref_position)\n",
    "            continue\n",
    "        len_state = len(state)\n",
    "        if len_state >= poly:\n",
    "            for i in range(0, len_state - poly + 1):\n",
    "                hp.add(pos - len_state + i)\n",
    "        state = []\n",
    "        state.append(ref_position)\n",
    "    \n",
    "    sm = np.zeros([6, 6])\n",
    "    reads_length, errors = 0, 0\n",
    "    \n",
    "    with open(sam) as file:\n",
    "        cigars = Counter()\n",
    "        insertions = Counter()\n",
    "        deletions = Counter()\n",
    "        \n",
    "        qinsertions = Counter()\n",
    "        qdeletions = Counter()\n",
    "        stats = Counter()\n",
    "        sum_cnt = Counter()\n",
    "        \n",
    "        sum_quality = Counter()\n",
    "        for i, line in enumerate(file):\n",
    "            if line.startswith('@'):\n",
    "                continue\n",
    "                \n",
    "            data = line.strip().split()\n",
    "            start = int(data[3])\n",
    "            if not start:\n",
    "                continue\n",
    "            read_length = len(data[9])\n",
    "            read = list(data[9])\n",
    "            \n",
    "            end = min(start + read_length - 1, ref_length - 1)\n",
    "            reads_length += read_length\n",
    "            reference_region = reference[start - 1 : end]\n",
    "            \n",
    "            if data[5] and data[5] != '*':\n",
    "                cigar = list(Cigar(data[5]).items())\n",
    "                cigar_str = ''.join([c * cnt for (cnt, c) in cigar])\n",
    "                for (cnt, c) in cigar:\n",
    "                    cigars[c] += cnt\n",
    "                    if c == 'I':\n",
    "                        insertions[cnt] += 1\n",
    "                    elif c == 'D':\n",
    "                        deletions[cnt] += 1\n",
    "                        \n",
    "                for k, c in enumerate(cigar_str):\n",
    "                    if c in ('D', 'H'):\n",
    "                        if c == 'D':\n",
    "                            if start + k <= ref_length:\n",
    "                                qdeletions[reference[start + k - 1]] += 1\n",
    "                    elif c == 'I':\n",
    "                        try:\n",
    "                            qinsertions[read[k]] += 1\n",
    "                        except:\n",
    "                            pass\n",
    "                \n",
    "                        \n",
    "                cigar_str = ''.join([c * cnt for (cnt, c) in cigar if c not in ('D', 'H')])\n",
    "                quality = [ord(c) - 33 for c in data[10]]\n",
    "                for k, c in enumerate(cigar_str):\n",
    "                    if k >= len(quality):\n",
    "                        continue\n",
    "                    sum_cnt[c] += 1\n",
    "                    sum_quality[c] += quality[k]\n",
    "                        \n",
    "            for j, ref_position in enumerate(reference_region):\n",
    "\n",
    "                if ref_position != read[j]:\n",
    "                    sm[letters[read[j]], letters[ref_position]] += 1\n",
    "                    errors += 1    \n",
    "                if data[2] == '*' or data[5] == '*':\n",
    "                    continue\n",
    "                if j in hp:\n",
    "                    cigar_set = set(cigar_str[j : j + poly])\n",
    "                    for s in cigar_set:\n",
    "                        if s == 'M':\n",
    "                            if len(cigar_set) == 1:\n",
    "                                stats[s] += 1\n",
    "                        else:\n",
    "                            stats[s] += 1\n",
    "     \n",
    "    average_quality = {}\n",
    "    for i in cigars.keys():\n",
    "        average_quality[i] = 0 if not sum_cnt[i] else sum_quality[i] / sum_cnt[i]\n",
    "                \n",
    "    return sm, cigars, errors, reads_length, sorted(list(insertions.items())), sorted(list(deletions.items())), \\\n",
    "hp, stats, average_quality, qdeletions, qinsertions"
   ]
  },
  {
   "cell_type": "code",
   "execution_count": 19,
   "metadata": {},
   "outputs": [],
   "source": [
    "sm, cigar, errors, reads_length, insertions, deletions, hp, stats, average_quality, qdeletions, \\\n",
    "qinsertons = substitution_matrix(\n",
    "    'reference.fasta', 'pacbio.sam')"
   ]
  },
  {
   "cell_type": "code",
   "execution_count": 20,
   "metadata": {},
   "outputs": [
    {
     "data": {
      "text/html": [
       "<div>\n",
       "<style scoped>\n",
       "    .dataframe tbody tr th:only-of-type {\n",
       "        vertical-align: middle;\n",
       "    }\n",
       "\n",
       "    .dataframe tbody tr th {\n",
       "        vertical-align: top;\n",
       "    }\n",
       "\n",
       "    .dataframe thead th {\n",
       "        text-align: right;\n",
       "    }\n",
       "</style>\n",
       "<table border=\"1\" class=\"dataframe\">\n",
       "  <thead>\n",
       "    <tr style=\"text-align: right;\">\n",
       "      <th></th>\n",
       "      <th>A</th>\n",
       "      <th>C</th>\n",
       "      <th>G</th>\n",
       "      <th>T</th>\n",
       "      <th>N</th>\n",
       "      <th>*</th>\n",
       "    </tr>\n",
       "  </thead>\n",
       "  <tbody>\n",
       "    <tr>\n",
       "      <td>A</td>\n",
       "      <td>0.0</td>\n",
       "      <td>14039619.0</td>\n",
       "      <td>13966046.0</td>\n",
       "      <td>13855485.0</td>\n",
       "      <td>0.0</td>\n",
       "      <td>0.0</td>\n",
       "    </tr>\n",
       "    <tr>\n",
       "      <td>C</td>\n",
       "      <td>13892282.0</td>\n",
       "      <td>0.0</td>\n",
       "      <td>14348080.0</td>\n",
       "      <td>13843662.0</td>\n",
       "      <td>0.0</td>\n",
       "      <td>0.0</td>\n",
       "    </tr>\n",
       "    <tr>\n",
       "      <td>G</td>\n",
       "      <td>13855952.0</td>\n",
       "      <td>14352337.0</td>\n",
       "      <td>0.0</td>\n",
       "      <td>13854375.0</td>\n",
       "      <td>0.0</td>\n",
       "      <td>0.0</td>\n",
       "    </tr>\n",
       "    <tr>\n",
       "      <td>T</td>\n",
       "      <td>13846703.0</td>\n",
       "      <td>13998339.0</td>\n",
       "      <td>13968197.0</td>\n",
       "      <td>0.0</td>\n",
       "      <td>0.0</td>\n",
       "      <td>0.0</td>\n",
       "    </tr>\n",
       "    <tr>\n",
       "      <td>N</td>\n",
       "      <td>0.0</td>\n",
       "      <td>0.0</td>\n",
       "      <td>0.0</td>\n",
       "      <td>0.0</td>\n",
       "      <td>0.0</td>\n",
       "      <td>0.0</td>\n",
       "    </tr>\n",
       "    <tr>\n",
       "      <td>*</td>\n",
       "      <td>365.0</td>\n",
       "      <td>367.0</td>\n",
       "      <td>542.0</td>\n",
       "      <td>462.0</td>\n",
       "      <td>0.0</td>\n",
       "      <td>0.0</td>\n",
       "    </tr>\n",
       "  </tbody>\n",
       "</table>\n",
       "</div>"
      ],
      "text/plain": [
       "            A           C           G           T    N    *\n",
       "A         0.0  14039619.0  13966046.0  13855485.0  0.0  0.0\n",
       "C  13892282.0         0.0  14348080.0  13843662.0  0.0  0.0\n",
       "G  13855952.0  14352337.0         0.0  13854375.0  0.0  0.0\n",
       "T  13846703.0  13998339.0  13968197.0         0.0  0.0  0.0\n",
       "N         0.0         0.0         0.0         0.0  0.0  0.0\n",
       "*       365.0       367.0       542.0       462.0  0.0  0.0"
      ]
     },
     "execution_count": 20,
     "metadata": {},
     "output_type": "execute_result"
    }
   ],
   "source": [
    "# распределение замен\n",
    "letters = ['A', 'C', 'G', 'T', 'N', '*']\n",
    "sm = pd.DataFrame(sm, index=letters, columns=letters)\n",
    "sm"
   ]
  },
  {
   "cell_type": "code",
   "execution_count": 42,
   "metadata": {},
   "outputs": [
    {
     "name": "stdout",
     "output_type": "stream",
     "text": [
      "Процент ошибок 39.066%\n"
     ]
    }
   ],
   "source": [
    "pr_errors = (sum(cigar.values()) - cigar['M']) / sum(cigar.values())\n",
    "print(f'Процент ошибок {pr_errors * 100 :.3f}%')"
   ]
  },
  {
   "cell_type": "code",
   "execution_count": 23,
   "metadata": {},
   "outputs": [
    {
     "data": {
      "text/plain": [
       "Text(0, 0.5, 'Частота, log')"
      ]
     },
     "execution_count": 23,
     "metadata": {},
     "output_type": "execute_result"
    },
    {
     "data": {
      "image/png": "[encoded data removed]",
      "text/plain": [
       "<Figure size 432x288 with 1 Axes>"
      ]
     },
     "metadata": {
      "needs_background": "light"
     },
     "output_type": "display_data"
    }
   ],
   "source": [
    "# раньше было лучше...\n",
    "insertions = pd.DataFrame(insertions, columns=['x', 'y'])\n",
    "deletions = pd.DataFrame(deletions, columns=['x', 'y'])\n",
    "# plt.scatter(insertions.x, np.log(insertions.y))\n",
    "plt.plot(insertions.x, np.log(insertions.y), label='Insertions')\n",
    "\n",
    "# plt.scatter(deletions.x, np.log(deletions.y))\n",
    "plt.plot(deletions.x, np.log(deletions.y), label='Deletions')\n",
    "\n",
    "plt.legend()\n",
    "plt.title('Распределение длин вставок и удалений, PacBio')\n",
    "plt.xlabel('Длина')\n",
    "plt.ylabel('Частота, log')"
   ]
  },
  {
   "cell_type": "code",
   "execution_count": 24,
   "metadata": {},
   "outputs": [
    {
     "name": "stdout",
     "output_type": "stream",
     "text": [
      "Average quality\n",
      "\tS: 8.599%\n",
      "\tM: 10.102%\n",
      "\tI: 6.782%\n",
      "\tD: 0.000%\n",
      "\tH: 0.000%\n",
      "Freq of insertions\n",
      "\tC: 24.937%\n",
      "\tT: 25.031%\n",
      "\tA: 25.127%\n",
      "\tG: 24.905%\n",
      "Freq of deletions\n",
      "\tA: 24.728%\n",
      "\tT: 24.661%\n",
      "\tG: 25.294%\n",
      "\tC: 25.317%\n"
     ]
    }
   ],
   "source": [
    "print('Average quality')\n",
    "for letter in average_quality:\n",
    "    print(f'\\t{letter}: {average_quality[letter]:.3f}%')\n",
    "    \n",
    "# вставки\n",
    "print('Freq of insertions')\n",
    "for letter in qinsertons:\n",
    "    print(f'\\t{letter}: {qinsertons[letter] / sum(qinsertons.values()) * 100:.3f}%')\n",
    "    \n",
    "# удаления\n",
    "print('Freq of deletions')\n",
    "for letter in qdeletions:\n",
    "    print(f'\\t{letter}: {qdeletions[letter] / sum(qdeletions.values()) * 100:.3f}%')"
   ]
  },
  {
   "cell_type": "code",
   "execution_count": 25,
   "metadata": {},
   "outputs": [],
   "source": [
    "sm, cigar, errors, reads_length, insertions, deletions, hp, stats, average_quality, qdeletions, \\\n",
    "qinsertons = substitution_matrix(\n",
    "    'reference.fasta', 'on.sam')"
   ]
  },
  {
   "cell_type": "code",
   "execution_count": 26,
   "metadata": {},
   "outputs": [
    {
     "data": {
      "text/html": [
       "<div>\n",
       "<style scoped>\n",
       "    .dataframe tbody tr th:only-of-type {\n",
       "        vertical-align: middle;\n",
       "    }\n",
       "\n",
       "    .dataframe tbody tr th {\n",
       "        vertical-align: top;\n",
       "    }\n",
       "\n",
       "    .dataframe thead th {\n",
       "        text-align: right;\n",
       "    }\n",
       "</style>\n",
       "<table border=\"1\" class=\"dataframe\">\n",
       "  <thead>\n",
       "    <tr style=\"text-align: right;\">\n",
       "      <th></th>\n",
       "      <th>*</th>\n",
       "      <th>A</th>\n",
       "      <th>C</th>\n",
       "      <th>G</th>\n",
       "      <th>N</th>\n",
       "      <th>T</th>\n",
       "    </tr>\n",
       "  </thead>\n",
       "  <tbody>\n",
       "    <tr>\n",
       "      <td>*</td>\n",
       "      <td>0.0</td>\n",
       "      <td>7822084.0</td>\n",
       "      <td>7794303.0</td>\n",
       "      <td>7643673.0</td>\n",
       "      <td>0.0</td>\n",
       "      <td>0.0</td>\n",
       "    </tr>\n",
       "    <tr>\n",
       "      <td>A</td>\n",
       "      <td>7826354.0</td>\n",
       "      <td>0.0</td>\n",
       "      <td>8223934.0</td>\n",
       "      <td>7813521.0</td>\n",
       "      <td>0.0</td>\n",
       "      <td>0.0</td>\n",
       "    </tr>\n",
       "    <tr>\n",
       "      <td>C</td>\n",
       "      <td>7803531.0</td>\n",
       "      <td>8227569.0</td>\n",
       "      <td>0.0</td>\n",
       "      <td>7807681.0</td>\n",
       "      <td>0.0</td>\n",
       "      <td>0.0</td>\n",
       "    </tr>\n",
       "    <tr>\n",
       "      <td>G</td>\n",
       "      <td>7644615.0</td>\n",
       "      <td>7803051.0</td>\n",
       "      <td>7804903.0</td>\n",
       "      <td>0.0</td>\n",
       "      <td>0.0</td>\n",
       "      <td>0.0</td>\n",
       "    </tr>\n",
       "    <tr>\n",
       "      <td>N</td>\n",
       "      <td>0.0</td>\n",
       "      <td>0.0</td>\n",
       "      <td>0.0</td>\n",
       "      <td>0.0</td>\n",
       "      <td>0.0</td>\n",
       "      <td>0.0</td>\n",
       "    </tr>\n",
       "    <tr>\n",
       "      <td>T</td>\n",
       "      <td>268.0</td>\n",
       "      <td>227.0</td>\n",
       "      <td>306.0</td>\n",
       "      <td>262.0</td>\n",
       "      <td>0.0</td>\n",
       "      <td>0.0</td>\n",
       "    </tr>\n",
       "  </tbody>\n",
       "</table>\n",
       "</div>"
      ],
      "text/plain": [
       "           *          A          C          G    N    T\n",
       "*        0.0  7822084.0  7794303.0  7643673.0  0.0  0.0\n",
       "A  7826354.0        0.0  8223934.0  7813521.0  0.0  0.0\n",
       "C  7803531.0  8227569.0        0.0  7807681.0  0.0  0.0\n",
       "G  7644615.0  7803051.0  7804903.0        0.0  0.0  0.0\n",
       "N        0.0        0.0        0.0        0.0  0.0  0.0\n",
       "T      268.0      227.0      306.0      262.0  0.0  0.0"
      ]
     },
     "execution_count": 26,
     "metadata": {},
     "output_type": "execute_result"
    }
   ],
   "source": [
    "# распределение замен\n",
    "letters = sorted(['A', 'C', 'G', 'T', 'N', '*'])\n",
    "sm = pd.DataFrame(sm, index=letters, columns=letters)\n",
    "sm"
   ]
  },
  {
   "cell_type": "code",
   "execution_count": 46,
   "metadata": {},
   "outputs": [
    {
     "name": "stdout",
     "output_type": "stream",
     "text": [
      "Процент ошибок 8.593%\n"
     ]
    }
   ],
   "source": [
    "pr_errors = (sum(cigar.values()) - cigar['M']) / sum(cigar.values())\n",
    "print(f'Процент ошибок {pr_errors * 100 :.3f}%')"
   ]
  },
  {
   "cell_type": "code",
   "execution_count": 27,
   "metadata": {},
   "outputs": [
    {
     "data": {
      "text/plain": [
       "Text(0, 0.5, 'Частота, log')"
      ]
     },
     "execution_count": 27,
     "metadata": {},
     "output_type": "execute_result"
    },
    {
     "data": {
      "image/png": "[encoded data removed]",
      "text/plain": [
       "<Figure size 432x288 with 1 Axes>"
      ]
     },
     "metadata": {
      "needs_background": "light"
     },
     "output_type": "display_data"
    }
   ],
   "source": [
    "insertions = pd.DataFrame(insertions, columns=['x', 'y'])\n",
    "deletions = pd.DataFrame(deletions, columns=['x', 'y'])\n",
    "plt.scatter(insertions.x, np.log(insertions.y))\n",
    "plt.plot(insertions.x, np.log(insertions.y), label='Insertions')\n",
    "\n",
    "plt.scatter(deletions.x, np.log(deletions.y))\n",
    "plt.plot(deletions.x, np.log(deletions.y), label='Deletions')\n",
    "\n",
    "plt.legend()\n",
    "plt.title('Распределение длин вставок и удалений, Oxford Nanopores')\n",
    "plt.xlabel('Длина')\n",
    "plt.ylabel('Частота, log')"
   ]
  },
  {
   "cell_type": "code",
   "execution_count": 28,
   "metadata": {},
   "outputs": [
    {
     "name": "stdout",
     "output_type": "stream",
     "text": [
      "Average quality\n",
      "\tS: 12.486%\n",
      "\tM: 22.242%\n",
      "\tD: 0.000%\n",
      "\tI: 11.086%\n",
      "\tH: 0.000%\n",
      "Freq of insertions\n",
      "\tT: 24.462%\n",
      "\tG: 25.595%\n",
      "\tC: 25.462%\n",
      "\tA: 24.481%\n",
      "Freq of deletions\n",
      "\tA: 24.566%\n",
      "\tC: 25.459%\n",
      "\tT: 24.531%\n",
      "\tG: 25.444%\n"
     ]
    }
   ],
   "source": [
    "print('Average quality')\n",
    "for letter in average_quality:\n",
    "    print(f'\\t{letter}: {average_quality[letter]:.3f}%')\n",
    "    \n",
    "# вставки\n",
    "print('Freq of insertions')\n",
    "for letter in qinsertons:\n",
    "    print(f'\\t{letter}: {qinsertons[letter] / sum(qinsertons.values()) * 100:.3f}%')\n",
    "    \n",
    "# удаления\n",
    "print('Freq of deletions')\n",
    "for letter in qdeletions:\n",
    "    print(f'\\t{letter}: {qdeletions[letter] / sum(qdeletions.values()) * 100:.3f}%')"
   ]
  },
  {
   "cell_type": "code",
   "execution_count": null,
   "metadata": {},
   "outputs": [],
   "source": [
    "# если сравнивать с предыдущими ДЗ, то ошибок значительно больше получается (я не уверена, что моя прога \n",
    "# правильно посчитала % ощибок у PacBio, вроде так не должно быть)"
   ]
  }
 ],
 "metadata": {
  "kernelspec": {
   "display_name": "Python 3",
   "language": "python",
   "name": "python3"
  },
  "language_info": {
   "codemirror_mode": {
    "name": "ipython",
    "version": 3
   },
   "file_extension": ".py",
   "mimetype": "text/x-python",
   "name": "python",
   "nbconvert_exporter": "python",
   "pygments_lexer": "ipython3",
   "version": "3.7.4"
  }
 },
 "nbformat": 4,
 "nbformat_minor": 2
}
