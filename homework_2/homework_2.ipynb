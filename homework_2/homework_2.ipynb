{
 "cells": [
  {
   "cell_type": "code",
   "execution_count": 3,
   "metadata": {},
   "outputs": [],
   "source": [
    "%matplotlib inline\n",
    "import numpy as np\n",
    "import pandas as pd\n",
    "import matplotlib.pyplot as plt\n",
    "from collections import Counter\n",
    "from cigar import Cigar"
   ]
  },
  {
   "cell_type": "markdown",
   "metadata": {},
   "source": [
    "# Часть 1"
   ]
  },
  {
   "cell_type": "markdown",
   "metadata": {},
   "source": [
    "## 0"
   ]
  },
  {
   "cell_type": "code",
   "execution_count": 3,
   "metadata": {},
   "outputs": [
    {
     "name": "stdout",
     "output_type": "stream",
     "text": [
      "[bwa_index] Pack FASTA... 0.03 sec\n",
      "[bwa_index] Construct BWT for the packed sequence...\n",
      "[bwa_index] 1.37 seconds elapse.\n",
      "[bwa_index] Update BWT... 0.02 sec\n",
      "[bwa_index] Pack forward-only FASTA... 0.02 sec\n",
      "[bwa_index] Construct SA from BWT and Occ... 0.66 sec\n",
      "[main] Version: 0.7.17-r1188\n",
      "[main] CMD: bwa index data/B.faecium/ref.fasta\n",
      "[main] Real time: 2.235 sec; CPU: 2.109 sec\n"
     ]
    }
   ],
   "source": [
    "!bwa index data/B.faecium/ref.fasta"
   ]
  },
  {
   "cell_type": "code",
   "execution_count": 5,
   "metadata": {
    "scrolled": true
   },
   "outputs": [
    {
     "name": "stdout",
     "output_type": "stream",
     "text": [
      "[M::bwa_idx_load_from_disk] read 0 ALT contigs\n",
      "[M::process] read 66668 sequences (10000200 bp)...\n",
      "[M::process] read 66668 sequences (10000200 bp)...\n",
      "[M::mem_pestat] # candidate unique pairs for (FF, FR, RF, RR): (0, 32626, 1, 1)\n",
      "[M::mem_pestat] skip orientation FF as there are not enough pairs\n",
      "[M::mem_pestat] analyzing insert size distribution for orientation FR...\n",
      "[M::mem_pestat] (25, 50, 75) percentile: (221, 257, 304)\n",
      "[M::mem_pestat] low and high boundaries for computing mean and std.dev: (55, 470)\n",
      "[M::mem_pestat] mean and std.dev: (266.18, 60.78)\n",
      "[M::mem_pestat] low and high boundaries for proper pairs: (1, 553)\n",
      "[M::mem_pestat] skip orientation RF as there are not enough pairs\n",
      "[M::mem_pestat] skip orientation RR as there are not enough pairs\n",
      "[M::mem_process_seqs] Processed 66668 reads in 8.291 CPU sec, 8.195 real sec\n",
      "[M::process] read 66668 sequences (10000200 bp)...\n",
      "[M::mem_pestat] # candidate unique pairs for (FF, FR, RF, RR): (2, 32605, 0, 1)\n",
      "[M::mem_pestat] skip orientation FF as there are not enough pairs\n",
      "[M::mem_pestat] analyzing insert size distribution for orientation FR...\n",
      "[M::mem_pestat] (25, 50, 75) percentile: (222, 258, 306)\n",
      "[M::mem_pestat] low and high boundaries for computing mean and std.dev: (54, 474)\n",
      "[M::mem_pestat] mean and std.dev: (267.48, 62.01)\n",
      "[M::mem_pestat] low and high boundaries for proper pairs: (1, 558)\n",
      "[M::mem_pestat] skip orientation RF as there are not enough pairs\n",
      "[M::mem_pestat] skip orientation RR as there are not enough pairs\n",
      "[M::mem_process_seqs] Processed 66668 reads in 6.902 CPU sec, 6.785 real sec\n",
      "[M::process] read 66668 sequences (10000200 bp)...\n",
      "[M::mem_pestat] # candidate unique pairs for (FF, FR, RF, RR): (1, 32601, 0, 0)\n",
      "[M::mem_pestat] skip orientation FF as there are not enough pairs\n",
      "[M::mem_pestat] analyzing insert size distribution for orientation FR...\n",
      "[M::mem_pestat] (25, 50, 75) percentile: (221, 258, 306)\n",
      "[M::mem_pestat] low and high boundaries for computing mean and std.dev: (51, 476)\n",
      "[M::mem_pestat] mean and std.dev: (267.15, 61.93)\n",
      "[M::mem_pestat] low and high boundaries for proper pairs: (1, 561)\n",
      "[M::mem_pestat] skip orientation RF as there are not enough pairs\n",
      "[M::mem_pestat] skip orientation RR as there are not enough pairs\n",
      "[M::mem_process_seqs] Processed 66668 reads in 6.976 CPU sec, 6.833 real sec\n",
      "[M::process] read 66668 sequences (10000200 bp)...\n",
      "[M::mem_pestat] # candidate unique pairs for (FF, FR, RF, RR): (0, 32586, 0, 0)\n",
      "[M::mem_pestat] skip orientation FF as there are not enough pairs\n",
      "[M::mem_pestat] analyzing insert size distribution for orientation FR...\n",
      "[M::mem_pestat] (25, 50, 75) percentile: (221, 258, 306)\n",
      "[M::mem_pestat] low and high boundaries for computing mean and std.dev: (51, 476)\n",
      "[M::mem_pestat] mean and std.dev: (267.15, 62.12)\n",
      "[M::mem_pestat] low and high boundaries for proper pairs: (1, 561)\n",
      "[M::mem_pestat] skip orientation RF as there are not enough pairs\n",
      "[M::mem_pestat] skip orientation RR as there are not enough pairs\n",
      "[M::mem_process_seqs] Processed 66668 reads in 6.614 CPU sec, 6.498 real sec\n",
      "[M::process] read 66668 sequences (10000200 bp)...\n",
      "[M::mem_pestat] # candidate unique pairs for (FF, FR, RF, RR): (1, 32633, 0, 0)\n",
      "[M::mem_pestat] skip orientation FF as there are not enough pairs\n",
      "[M::mem_pestat] analyzing insert size distribution for orientation FR...\n",
      "[M::mem_pestat] (25, 50, 75) percentile: (222, 259, 305)\n",
      "[M::mem_pestat] low and high boundaries for computing mean and std.dev: (56, 471)\n",
      "[M::mem_pestat] mean and std.dev: (266.92, 61.05)\n",
      "[M::mem_pestat] low and high boundaries for proper pairs: (1, 554)\n",
      "[M::mem_pestat] skip orientation RF as there are not enough pairs\n",
      "[M::mem_pestat] skip orientation RR as there are not enough pairs\n",
      "[M::mem_process_seqs] Processed 66668 reads in 6.356 CPU sec, 6.280 real sec\n",
      "[M::process] read 66668 sequences (10000200 bp)...\n",
      "[M::mem_pestat] # candidate unique pairs for (FF, FR, RF, RR): (1, 32588, 0, 0)\n",
      "[M::mem_pestat] skip orientation FF as there are not enough pairs\n",
      "[M::mem_pestat] analyzing insert size distribution for orientation FR...\n",
      "[M::mem_pestat] (25, 50, 75) percentile: (221, 258, 305)\n",
      "[M::mem_pestat] low and high boundaries for computing mean and std.dev: (53, 473)\n",
      "[M::mem_pestat] mean and std.dev: (266.87, 61.74)\n",
      "[M::mem_pestat] low and high boundaries for proper pairs: (1, 557)\n",
      "[M::mem_pestat] skip orientation RF as there are not enough pairs\n",
      "[M::mem_pestat] skip orientation RR as there are not enough pairs\n",
      "[M::mem_process_seqs] Processed 66668 reads in 6.276 CPU sec, 6.176 real sec\n",
      "[M::process] read 66668 sequences (10000200 bp)...\n",
      "[M::mem_pestat] # candidate unique pairs for (FF, FR, RF, RR): (0, 32635, 0, 1)\n",
      "[M::mem_pestat] skip orientation FF as there are not enough pairs\n",
      "[M::mem_pestat] analyzing insert size distribution for orientation FR...\n",
      "[M::mem_pestat] (25, 50, 75) percentile: (221, 258, 305)\n",
      "[M::mem_pestat] low and high boundaries for computing mean and std.dev: (53, 473)\n",
      "[M::mem_pestat] mean and std.dev: (266.47, 61.28)\n",
      "[M::mem_pestat] low and high boundaries for proper pairs: (1, 557)\n",
      "[M::mem_pestat] skip orientation RF as there are not enough pairs\n",
      "[M::mem_pestat] skip orientation RR as there are not enough pairs\n",
      "[M::mem_process_seqs] Processed 66668 reads in 6.777 CPU sec, 6.670 real sec\n",
      "[M::process] read 66668 sequences (10000200 bp)...\n",
      "[M::mem_pestat] # candidate unique pairs for (FF, FR, RF, RR): (1, 32610, 0, 1)\n",
      "[M::mem_pestat] skip orientation FF as there are not enough pairs\n",
      "[M::mem_pestat] analyzing insert size distribution for orientation FR...\n",
      "[M::mem_pestat] (25, 50, 75) percentile: (221, 258, 305)\n",
      "[M::mem_pestat] low and high boundaries for computing mean and std.dev: (53, 473)\n",
      "[M::mem_pestat] mean and std.dev: (266.66, 61.46)\n",
      "[M::mem_pestat] low and high boundaries for proper pairs: (1, 557)\n",
      "[M::mem_pestat] skip orientation RF as there are not enough pairs\n",
      "[M::mem_pestat] skip orientation RR as there are not enough pairs\n",
      "[M::mem_process_seqs] Processed 66668 reads in 8.027 CPU sec, 7.853 real sec\n",
      "[M::process] read 66668 sequences (10000200 bp)...\n",
      "[M::mem_pestat] # candidate unique pairs for (FF, FR, RF, RR): (0, 32573, 0, 0)\n",
      "[M::mem_pestat] skip orientation FF as there are not enough pairs\n",
      "[M::mem_pestat] analyzing insert size distribution for orientation FR...\n",
      "[M::mem_pestat] (25, 50, 75) percentile: (222, 258, 305)\n",
      "[M::mem_pestat] low and high boundaries for computing mean and std.dev: (56, 471)\n",
      "[M::mem_pestat] mean and std.dev: (266.82, 61.28)\n",
      "[M::mem_pestat] low and high boundaries for proper pairs: (1, 554)\n",
      "[M::mem_pestat] skip orientation RF as there are not enough pairs\n",
      "[M::mem_pestat] skip orientation RR as there are not enough pairs\n",
      "[M::mem_process_seqs] Processed 66668 reads in 5.978 CPU sec, 5.871 real sec\n",
      "[M::process] read 66668 sequences (10000200 bp)...\n",
      "[M::mem_pestat] # candidate unique pairs for (FF, FR, RF, RR): (1, 32617, 0, 0)\n",
      "[M::mem_pestat] skip orientation FF as there are not enough pairs\n",
      "[M::mem_pestat] analyzing insert size distribution for orientation FR...\n",
      "[M::mem_pestat] (25, 50, 75) percentile: (222, 259, 305)\n",
      "[M::mem_pestat] low and high boundaries for computing mean and std.dev: (56, 471)\n",
      "[M::mem_pestat] mean and std.dev: (267.29, 61.54)\n",
      "[M::mem_pestat] low and high boundaries for proper pairs: (1, 554)\n",
      "[M::mem_pestat] skip orientation RF as there are not enough pairs\n",
      "[M::mem_pestat] skip orientation RR as there are not enough pairs\n",
      "[M::mem_process_seqs] Processed 66668 reads in 5.928 CPU sec, 5.821 real sec\n",
      "[M::process] read 66668 sequences (10000200 bp)...\n",
      "[M::mem_pestat] # candidate unique pairs for (FF, FR, RF, RR): (1, 32574, 0, 0)\n",
      "[M::mem_pestat] skip orientation FF as there are not enough pairs\n",
      "[M::mem_pestat] analyzing insert size distribution for orientation FR...\n",
      "[M::mem_pestat] (25, 50, 75) percentile: (222, 259, 306)\n",
      "[M::mem_pestat] low and high boundaries for computing mean and std.dev: (54, 474)\n",
      "[M::mem_pestat] mean and std.dev: (267.44, 61.67)\n",
      "[M::mem_pestat] low and high boundaries for proper pairs: (1, 558)\n",
      "[M::mem_pestat] skip orientation RF as there are not enough pairs\n",
      "[M::mem_pestat] skip orientation RR as there are not enough pairs\n",
      "[M::mem_process_seqs] Processed 66668 reads in 5.956 CPU sec, 5.852 real sec\n",
      "[M::process] read 66668 sequences (10000200 bp)...\n"
     ]
    },
    {
     "name": "stdout",
     "output_type": "stream",
     "text": [
      "[M::mem_pestat] # candidate unique pairs for (FF, FR, RF, RR): (0, 32582, 0, 0)\n",
      "[M::mem_pestat] skip orientation FF as there are not enough pairs\n",
      "[M::mem_pestat] analyzing insert size distribution for orientation FR...\n",
      "[M::mem_pestat] (25, 50, 75) percentile: (221, 258, 305)\n",
      "[M::mem_pestat] low and high boundaries for computing mean and std.dev: (53, 473)\n",
      "[M::mem_pestat] mean and std.dev: (266.69, 61.29)\n",
      "[M::mem_pestat] low and high boundaries for proper pairs: (1, 557)\n",
      "[M::mem_pestat] skip orientation RF as there are not enough pairs\n",
      "[M::mem_pestat] skip orientation RR as there are not enough pairs\n",
      "[M::mem_process_seqs] Processed 66668 reads in 6.042 CPU sec, 5.934 real sec\n",
      "[M::process] read 66668 sequences (10000200 bp)...\n",
      "[M::mem_pestat] # candidate unique pairs for (FF, FR, RF, RR): (2, 32586, 0, 0)\n",
      "[M::mem_pestat] skip orientation FF as there are not enough pairs\n",
      "[M::mem_pestat] analyzing insert size distribution for orientation FR...\n",
      "[M::mem_pestat] (25, 50, 75) percentile: (221, 258, 305)\n",
      "[M::mem_pestat] low and high boundaries for computing mean and std.dev: (53, 473)\n",
      "[M::mem_pestat] mean and std.dev: (266.83, 61.39)\n",
      "[M::mem_pestat] low and high boundaries for proper pairs: (1, 557)\n",
      "[M::mem_pestat] skip orientation RF as there are not enough pairs\n",
      "[M::mem_pestat] skip orientation RR as there are not enough pairs\n",
      "[M::mem_process_seqs] Processed 66668 reads in 5.991 CPU sec, 5.859 real sec\n",
      "[M::process] read 66668 sequences (10000200 bp)...\n",
      "[M::mem_pestat] # candidate unique pairs for (FF, FR, RF, RR): (1, 32580, 0, 0)\n",
      "[M::mem_pestat] skip orientation FF as there are not enough pairs\n",
      "[M::mem_pestat] analyzing insert size distribution for orientation FR...\n",
      "[M::mem_pestat] (25, 50, 75) percentile: (222, 259, 306)\n",
      "[M::mem_pestat] low and high boundaries for computing mean and std.dev: (54, 474)\n",
      "[M::mem_pestat] mean and std.dev: (267.49, 61.68)\n",
      "[M::mem_pestat] low and high boundaries for proper pairs: (1, 558)\n",
      "[M::mem_pestat] skip orientation RF as there are not enough pairs\n",
      "[M::mem_pestat] skip orientation RR as there are not enough pairs\n",
      "[M::mem_process_seqs] Processed 66668 reads in 5.897 CPU sec, 5.781 real sec\n",
      "[M::process] read 66668 sequences (10000200 bp)...\n",
      "[M::mem_pestat] # candidate unique pairs for (FF, FR, RF, RR): (1, 32591, 1, 0)\n",
      "[M::mem_pestat] skip orientation FF as there are not enough pairs\n",
      "[M::mem_pestat] analyzing insert size distribution for orientation FR...\n",
      "[M::mem_pestat] (25, 50, 75) percentile: (221, 258, 305)\n",
      "[M::mem_pestat] low and high boundaries for computing mean and std.dev: (53, 473)\n",
      "[M::mem_pestat] mean and std.dev: (266.73, 61.14)\n",
      "[M::mem_pestat] low and high boundaries for proper pairs: (1, 557)\n",
      "[M::mem_pestat] skip orientation RF as there are not enough pairs\n",
      "[M::mem_pestat] skip orientation RR as there are not enough pairs\n",
      "[M::mem_process_seqs] Processed 66668 reads in 6.012 CPU sec, 5.880 real sec\n",
      "[M::process] read 66668 sequences (10000200 bp)...\n",
      "[M::mem_pestat] # candidate unique pairs for (FF, FR, RF, RR): (2, 32591, 0, 0)\n",
      "[M::mem_pestat] skip orientation FF as there are not enough pairs\n",
      "[M::mem_pestat] analyzing insert size distribution for orientation FR...\n",
      "[M::mem_pestat] (25, 50, 75) percentile: (221, 258, 306)\n",
      "[M::mem_pestat] low and high boundaries for computing mean and std.dev: (51, 476)\n",
      "[M::mem_pestat] mean and std.dev: (266.91, 61.75)\n",
      "[M::mem_pestat] low and high boundaries for proper pairs: (1, 561)\n",
      "[M::mem_pestat] skip orientation RF as there are not enough pairs\n",
      "[M::mem_pestat] skip orientation RR as there are not enough pairs\n",
      "[M::mem_process_seqs] Processed 66668 reads in 6.050 CPU sec, 5.942 real sec\n",
      "[M::process] read 66668 sequences (10000200 bp)...\n",
      "[M::mem_pestat] # candidate unique pairs for (FF, FR, RF, RR): (0, 32550, 0, 0)\n",
      "[M::mem_pestat] skip orientation FF as there are not enough pairs\n",
      "[M::mem_pestat] analyzing insert size distribution for orientation FR...\n",
      "[M::mem_pestat] (25, 50, 75) percentile: (221, 257, 305)\n",
      "[M::mem_pestat] low and high boundaries for computing mean and std.dev: (53, 473)\n",
      "[M::mem_pestat] mean and std.dev: (266.37, 61.36)\n",
      "[M::mem_pestat] low and high boundaries for proper pairs: (1, 557)\n",
      "[M::mem_pestat] skip orientation RF as there are not enough pairs\n",
      "[M::mem_pestat] skip orientation RR as there are not enough pairs\n",
      "[M::mem_process_seqs] Processed 66668 reads in 6.109 CPU sec, 5.990 real sec\n",
      "[M::process] read 66668 sequences (10000200 bp)...\n",
      "[M::mem_pestat] # candidate unique pairs for (FF, FR, RF, RR): (0, 32590, 0, 0)\n",
      "[M::mem_pestat] skip orientation FF as there are not enough pairs\n",
      "[M::mem_pestat] analyzing insert size distribution for orientation FR...\n",
      "[M::mem_pestat] (25, 50, 75) percentile: (221, 258, 306)\n",
      "[M::mem_pestat] low and high boundaries for computing mean and std.dev: (51, 476)\n",
      "[M::mem_pestat] mean and std.dev: (267.18, 61.70)\n",
      "[M::mem_pestat] low and high boundaries for proper pairs: (1, 561)\n",
      "[M::mem_pestat] skip orientation RF as there are not enough pairs\n",
      "[M::mem_pestat] skip orientation RR as there are not enough pairs\n",
      "[M::mem_process_seqs] Processed 66668 reads in 6.592 CPU sec, 6.445 real sec\n",
      "[M::process] read 66668 sequences (10000200 bp)...\n",
      "[M::mem_pestat] # candidate unique pairs for (FF, FR, RF, RR): (1, 32577, 0, 0)\n",
      "[M::mem_pestat] skip orientation FF as there are not enough pairs\n",
      "[M::mem_pestat] analyzing insert size distribution for orientation FR...\n",
      "[M::mem_pestat] (25, 50, 75) percentile: (222, 258, 305)\n",
      "[M::mem_pestat] low and high boundaries for computing mean and std.dev: (56, 471)\n",
      "[M::mem_pestat] mean and std.dev: (266.74, 61.38)\n",
      "[M::mem_pestat] low and high boundaries for proper pairs: (1, 554)\n",
      "[M::mem_pestat] skip orientation RF as there are not enough pairs\n",
      "[M::mem_pestat] skip orientation RR as there are not enough pairs\n",
      "[M::mem_process_seqs] Processed 66668 reads in 6.342 CPU sec, 6.227 real sec\n",
      "[M::process] read 66668 sequences (10000200 bp)...\n",
      "[M::mem_pestat] # candidate unique pairs for (FF, FR, RF, RR): (0, 32606, 1, 0)\n",
      "[M::mem_pestat] skip orientation FF as there are not enough pairs\n",
      "[M::mem_pestat] analyzing insert size distribution for orientation FR...\n",
      "[M::mem_pestat] (25, 50, 75) percentile: (221, 257, 306)\n",
      "[M::mem_pestat] low and high boundaries for computing mean and std.dev: (51, 476)\n",
      "[M::mem_pestat] mean and std.dev: (266.74, 61.92)\n",
      "[M::mem_pestat] low and high boundaries for proper pairs: (1, 561)\n",
      "[M::mem_pestat] skip orientation RF as there are not enough pairs\n",
      "[M::mem_pestat] skip orientation RR as there are not enough pairs\n",
      "[M::mem_process_seqs] Processed 66668 reads in 5.905 CPU sec, 5.782 real sec\n",
      "[M::process] read 66668 sequences (10000200 bp)...\n",
      "[M::mem_pestat] # candidate unique pairs for (FF, FR, RF, RR): (0, 32602, 0, 0)\n",
      "[M::mem_pestat] skip orientation FF as there are not enough pairs\n",
      "[M::mem_pestat] analyzing insert size distribution for orientation FR...\n",
      "[M::mem_pestat] (25, 50, 75) percentile: (222, 258, 306)\n",
      "[M::mem_pestat] low and high boundaries for computing mean and std.dev: (54, 474)\n",
      "[M::mem_pestat] mean and std.dev: (267.22, 61.36)\n",
      "[M::mem_pestat] low and high boundaries for proper pairs: (1, 558)\n",
      "[M::mem_pestat] skip orientation RF as there are not enough pairs\n",
      "[M::mem_pestat] skip orientation RR as there are not enough pairs\n",
      "[M::mem_process_seqs] Processed 66668 reads in 5.861 CPU sec, 5.746 real sec\n",
      "[M::process] read 66668 sequences (10000200 bp)...\n",
      "[M::mem_pestat] # candidate unique pairs for (FF, FR, RF, RR): (1, 32574, 0, 0)\n",
      "[M::mem_pestat] skip orientation FF as there are not enough pairs\n",
      "[M::mem_pestat] analyzing insert size distribution for orientation FR...\n",
      "[M::mem_pestat] (25, 50, 75) percentile: (222, 259, 306)\n",
      "[M::mem_pestat] low and high boundaries for computing mean and std.dev: (54, 474)\n",
      "[M::mem_pestat] mean and std.dev: (267.60, 61.83)\n",
      "[M::mem_pestat] low and high boundaries for proper pairs: (1, 558)\n",
      "[M::mem_pestat] skip orientation RF as there are not enough pairs\n",
      "[M::mem_pestat] skip orientation RR as there are not enough pairs\n",
      "[M::mem_process_seqs] Processed 66668 reads in 6.697 CPU sec, 6.561 real sec\n",
      "[M::process] read 66668 sequences (10000200 bp)...\n",
      "[M::mem_pestat] # candidate unique pairs for (FF, FR, RF, RR): (1, 32635, 0, 0)\n",
      "[M::mem_pestat] skip orientation FF as there are not enough pairs\n",
      "[M::mem_pestat] analyzing insert size distribution for orientation FR...\n",
      "[M::mem_pestat] (25, 50, 75) percentile: (222, 258, 306)\n",
      "[M::mem_pestat] low and high boundaries for computing mean and std.dev: (54, 474)\n",
      "[M::mem_pestat] mean and std.dev: (267.37, 61.53)\n",
      "[M::mem_pestat] low and high boundaries for proper pairs: (1, 558)\n",
      "[M::mem_pestat] skip orientation RF as there are not enough pairs\n",
      "[M::mem_pestat] skip orientation RR as there are not enough pairs\n"
     ]
    },
    {
     "name": "stdout",
     "output_type": "stream",
     "text": [
      "[M::mem_process_seqs] Processed 66668 reads in 8.870 CPU sec, 8.713 real sec\n",
      "[M::process] read 66668 sequences (10000200 bp)...\n",
      "[M::mem_pestat] # candidate unique pairs for (FF, FR, RF, RR): (0, 32632, 0, 0)\n",
      "[M::mem_pestat] skip orientation FF as there are not enough pairs\n",
      "[M::mem_pestat] analyzing insert size distribution for orientation FR...\n",
      "[M::mem_pestat] (25, 50, 75) percentile: (221, 258, 304)\n",
      "[M::mem_pestat] low and high boundaries for computing mean and std.dev: (55, 470)\n",
      "[M::mem_pestat] mean and std.dev: (266.27, 60.83)\n",
      "[M::mem_pestat] low and high boundaries for proper pairs: (1, 553)\n",
      "[M::mem_pestat] skip orientation RF as there are not enough pairs\n",
      "[M::mem_pestat] skip orientation RR as there are not enough pairs\n",
      "[M::mem_process_seqs] Processed 66668 reads in 8.120 CPU sec, 7.918 real sec\n",
      "[M::process] read 66668 sequences (10000200 bp)...\n",
      "[M::mem_pestat] # candidate unique pairs for (FF, FR, RF, RR): (1, 32642, 0, 0)\n",
      "[M::mem_pestat] skip orientation FF as there are not enough pairs\n",
      "[M::mem_pestat] analyzing insert size distribution for orientation FR...\n",
      "[M::mem_pestat] (25, 50, 75) percentile: (222, 259, 306)\n",
      "[M::mem_pestat] low and high boundaries for computing mean and std.dev: (54, 474)\n",
      "[M::mem_pestat] mean and std.dev: (267.83, 61.77)\n",
      "[M::mem_pestat] low and high boundaries for proper pairs: (1, 558)\n",
      "[M::mem_pestat] skip orientation RF as there are not enough pairs\n",
      "[M::mem_pestat] skip orientation RR as there are not enough pairs\n",
      "[M::mem_process_seqs] Processed 66668 reads in 8.391 CPU sec, 8.273 real sec\n",
      "[M::process] read 66668 sequences (10000200 bp)...\n",
      "[M::mem_pestat] # candidate unique pairs for (FF, FR, RF, RR): (0, 32619, 0, 1)\n",
      "[M::mem_pestat] skip orientation FF as there are not enough pairs\n",
      "[M::mem_pestat] analyzing insert size distribution for orientation FR...\n",
      "[M::mem_pestat] (25, 50, 75) percentile: (222, 258, 304)\n",
      "[M::mem_pestat] low and high boundaries for computing mean and std.dev: (58, 468)\n",
      "[M::mem_pestat] mean and std.dev: (266.85, 61.40)\n",
      "[M::mem_pestat] low and high boundaries for proper pairs: (1, 550)\n",
      "[M::mem_pestat] skip orientation RF as there are not enough pairs\n",
      "[M::mem_pestat] skip orientation RR as there are not enough pairs\n",
      "[M::mem_process_seqs] Processed 66668 reads in 7.555 CPU sec, 7.266 real sec\n",
      "[M::process] read 66668 sequences (10000200 bp)...\n",
      "[M::mem_pestat] # candidate unique pairs for (FF, FR, RF, RR): (1, 32576, 0, 0)\n",
      "[M::mem_pestat] skip orientation FF as there are not enough pairs\n",
      "[M::mem_pestat] analyzing insert size distribution for orientation FR...\n",
      "[M::mem_pestat] (25, 50, 75) percentile: (222, 258, 305)\n",
      "[M::mem_pestat] low and high boundaries for computing mean and std.dev: (56, 471)\n",
      "[M::mem_pestat] mean and std.dev: (266.67, 61.49)\n",
      "[M::mem_pestat] low and high boundaries for proper pairs: (1, 554)\n",
      "[M::mem_pestat] skip orientation RF as there are not enough pairs\n",
      "[M::mem_pestat] skip orientation RR as there are not enough pairs\n",
      "[M::mem_process_seqs] Processed 66668 reads in 6.825 CPU sec, 6.726 real sec\n",
      "[M::process] read 66668 sequences (10000200 bp)...\n",
      "[M::mem_pestat] # candidate unique pairs for (FF, FR, RF, RR): (2, 32557, 1, 0)\n",
      "[M::mem_pestat] skip orientation FF as there are not enough pairs\n",
      "[M::mem_pestat] analyzing insert size distribution for orientation FR...\n",
      "[M::mem_pestat] (25, 50, 75) percentile: (221, 258, 305)\n",
      "[M::mem_pestat] low and high boundaries for computing mean and std.dev: (53, 473)\n",
      "[M::mem_pestat] mean and std.dev: (266.83, 61.49)\n",
      "[M::mem_pestat] low and high boundaries for proper pairs: (1, 557)\n",
      "[M::mem_pestat] skip orientation RF as there are not enough pairs\n",
      "[M::mem_pestat] skip orientation RR as there are not enough pairs\n",
      "[M::mem_process_seqs] Processed 66668 reads in 6.157 CPU sec, 6.028 real sec\n",
      "[M::process] read 66668 sequences (10000200 bp)...\n",
      "[M::mem_pestat] # candidate unique pairs for (FF, FR, RF, RR): (0, 32634, 0, 0)\n",
      "[M::mem_pestat] skip orientation FF as there are not enough pairs\n",
      "[M::mem_pestat] analyzing insert size distribution for orientation FR...\n",
      "[M::mem_pestat] (25, 50, 75) percentile: (222, 258, 305)\n",
      "[M::mem_pestat] low and high boundaries for computing mean and std.dev: (56, 471)\n",
      "[M::mem_pestat] mean and std.dev: (266.97, 61.37)\n",
      "[M::mem_pestat] low and high boundaries for proper pairs: (1, 554)\n",
      "[M::mem_pestat] skip orientation RF as there are not enough pairs\n",
      "[M::mem_pestat] skip orientation RR as there are not enough pairs\n",
      "[M::mem_process_seqs] Processed 66668 reads in 6.987 CPU sec, 6.854 real sec\n",
      "[M::process] read 66668 sequences (10000200 bp)...\n",
      "[M::mem_pestat] # candidate unique pairs for (FF, FR, RF, RR): (3, 32626, 0, 0)\n",
      "[M::mem_pestat] skip orientation FF as there are not enough pairs\n",
      "[M::mem_pestat] analyzing insert size distribution for orientation FR...\n",
      "[M::mem_pestat] (25, 50, 75) percentile: (221, 258, 306)\n",
      "[M::mem_pestat] low and high boundaries for computing mean and std.dev: (51, 476)\n",
      "[M::mem_pestat] mean and std.dev: (267.19, 61.96)\n",
      "[M::mem_pestat] low and high boundaries for proper pairs: (1, 561)\n",
      "[M::mem_pestat] skip orientation RF as there are not enough pairs\n",
      "[M::mem_pestat] skip orientation RR as there are not enough pairs\n",
      "[M::mem_process_seqs] Processed 66668 reads in 6.780 CPU sec, 6.662 real sec\n",
      "[M::process] read 66668 sequences (10000200 bp)...\n",
      "[M::mem_pestat] # candidate unique pairs for (FF, FR, RF, RR): (0, 32572, 0, 0)\n",
      "[M::mem_pestat] skip orientation FF as there are not enough pairs\n",
      "[M::mem_pestat] analyzing insert size distribution for orientation FR...\n",
      "[M::mem_pestat] (25, 50, 75) percentile: (221, 257, 304)\n",
      "[M::mem_pestat] low and high boundaries for computing mean and std.dev: (55, 470)\n",
      "[M::mem_pestat] mean and std.dev: (265.87, 60.95)\n",
      "[M::mem_pestat] low and high boundaries for proper pairs: (1, 553)\n",
      "[M::mem_pestat] skip orientation RF as there are not enough pairs\n",
      "[M::mem_pestat] skip orientation RR as there are not enough pairs\n",
      "[M::mem_process_seqs] Processed 66668 reads in 6.640 CPU sec, 6.517 real sec\n",
      "[M::process] read 66668 sequences (10000200 bp)...\n",
      "[M::mem_pestat] # candidate unique pairs for (FF, FR, RF, RR): (0, 32626, 0, 0)\n",
      "[M::mem_pestat] skip orientation FF as there are not enough pairs\n",
      "[M::mem_pestat] analyzing insert size distribution for orientation FR...\n",
      "[M::mem_pestat] (25, 50, 75) percentile: (222, 259, 306)\n",
      "[M::mem_pestat] low and high boundaries for computing mean and std.dev: (54, 474)\n",
      "[M::mem_pestat] mean and std.dev: (267.52, 61.74)\n",
      "[M::mem_pestat] low and high boundaries for proper pairs: (1, 558)\n",
      "[M::mem_pestat] skip orientation RF as there are not enough pairs\n",
      "[M::mem_pestat] skip orientation RR as there are not enough pairs\n",
      "[M::mem_process_seqs] Processed 66668 reads in 7.906 CPU sec, 7.679 real sec\n",
      "[M::process] read 66668 sequences (10000200 bp)...\n",
      "[M::mem_pestat] # candidate unique pairs for (FF, FR, RF, RR): (0, 32559, 0, 0)\n",
      "[M::mem_pestat] skip orientation FF as there are not enough pairs\n",
      "[M::mem_pestat] analyzing insert size distribution for orientation FR...\n",
      "[M::mem_pestat] (25, 50, 75) percentile: (222, 258, 305)\n",
      "[M::mem_pestat] low and high boundaries for computing mean and std.dev: (56, 471)\n",
      "[M::mem_pestat] mean and std.dev: (266.74, 61.04)\n",
      "[M::mem_pestat] low and high boundaries for proper pairs: (1, 554)\n",
      "[M::mem_pestat] skip orientation RF as there are not enough pairs\n",
      "[M::mem_pestat] skip orientation RR as there are not enough pairs\n",
      "[M::mem_process_seqs] Processed 66668 reads in 6.145 CPU sec, 6.037 real sec\n",
      "[M::process] read 66668 sequences (10000200 bp)...\n",
      "[M::mem_pestat] # candidate unique pairs for (FF, FR, RF, RR): (2, 32607, 1, 0)\n",
      "[M::mem_pestat] skip orientation FF as there are not enough pairs\n",
      "[M::mem_pestat] analyzing insert size distribution for orientation FR...\n",
      "[M::mem_pestat] (25, 50, 75) percentile: (222, 258, 305)\n",
      "[M::mem_pestat] low and high boundaries for computing mean and std.dev: (56, 471)\n",
      "[M::mem_pestat] mean and std.dev: (266.70, 61.52)\n",
      "[M::mem_pestat] low and high boundaries for proper pairs: (1, 554)\n",
      "[M::mem_pestat] skip orientation RF as there are not enough pairs\n",
      "[M::mem_pestat] skip orientation RR as there are not enough pairs\n",
      "[M::mem_process_seqs] Processed 66668 reads in 6.951 CPU sec, 6.833 real sec\n",
      "[M::process] read 66668 sequences (10000200 bp)...\n"
     ]
    },
    {
     "name": "stdout",
     "output_type": "stream",
     "text": [
      "[M::mem_pestat] # candidate unique pairs for (FF, FR, RF, RR): (2, 32588, 0, 0)\n",
      "[M::mem_pestat] skip orientation FF as there are not enough pairs\n",
      "[M::mem_pestat] analyzing insert size distribution for orientation FR...\n",
      "[M::mem_pestat] (25, 50, 75) percentile: (222, 258, 306)\n",
      "[M::mem_pestat] low and high boundaries for computing mean and std.dev: (54, 474)\n",
      "[M::mem_pestat] mean and std.dev: (267.22, 61.54)\n",
      "[M::mem_pestat] low and high boundaries for proper pairs: (1, 558)\n",
      "[M::mem_pestat] skip orientation RF as there are not enough pairs\n",
      "[M::mem_pestat] skip orientation RR as there are not enough pairs\n",
      "[M::mem_process_seqs] Processed 66668 reads in 6.389 CPU sec, 6.269 real sec\n",
      "[M::process] read 66668 sequences (10000200 bp)...\n",
      "[M::mem_pestat] # candidate unique pairs for (FF, FR, RF, RR): (2, 32605, 0, 0)\n",
      "[M::mem_pestat] skip orientation FF as there are not enough pairs\n",
      "[M::mem_pestat] analyzing insert size distribution for orientation FR...\n",
      "[M::mem_pestat] (25, 50, 75) percentile: (222, 258, 305)\n",
      "[M::mem_pestat] low and high boundaries for computing mean and std.dev: (56, 471)\n",
      "[M::mem_pestat] mean and std.dev: (266.69, 61.18)\n",
      "[M::mem_pestat] low and high boundaries for proper pairs: (1, 554)\n",
      "[M::mem_pestat] skip orientation RF as there are not enough pairs\n",
      "[M::mem_pestat] skip orientation RR as there are not enough pairs\n",
      "[M::mem_process_seqs] Processed 66668 reads in 6.545 CPU sec, 6.412 real sec\n",
      "[M::process] read 66668 sequences (10000200 bp)...\n",
      "[M::mem_pestat] # candidate unique pairs for (FF, FR, RF, RR): (0, 32628, 0, 0)\n",
      "[M::mem_pestat] skip orientation FF as there are not enough pairs\n",
      "[M::mem_pestat] analyzing insert size distribution for orientation FR...\n",
      "[M::mem_pestat] (25, 50, 75) percentile: (222, 258, 305)\n",
      "[M::mem_pestat] low and high boundaries for computing mean and std.dev: (56, 471)\n",
      "[M::mem_pestat] mean and std.dev: (266.65, 61.35)\n",
      "[M::mem_pestat] low and high boundaries for proper pairs: (1, 554)\n",
      "[M::mem_pestat] skip orientation RF as there are not enough pairs\n",
      "[M::mem_pestat] skip orientation RR as there are not enough pairs\n",
      "[M::mem_process_seqs] Processed 66668 reads in 6.688 CPU sec, 6.558 real sec\n",
      "[M::process] read 66668 sequences (10000200 bp)...\n",
      "[M::mem_pestat] # candidate unique pairs for (FF, FR, RF, RR): (1, 32602, 0, 0)\n",
      "[M::mem_pestat] skip orientation FF as there are not enough pairs\n",
      "[M::mem_pestat] analyzing insert size distribution for orientation FR...\n",
      "[M::mem_pestat] (25, 50, 75) percentile: (222, 257, 305)\n",
      "[M::mem_pestat] low and high boundaries for computing mean and std.dev: (56, 471)\n",
      "[M::mem_pestat] mean and std.dev: (266.60, 61.27)\n",
      "[M::mem_pestat] low and high boundaries for proper pairs: (1, 554)\n",
      "[M::mem_pestat] skip orientation RF as there are not enough pairs\n",
      "[M::mem_pestat] skip orientation RR as there are not enough pairs\n",
      "[M::mem_process_seqs] Processed 66668 reads in 6.627 CPU sec, 6.539 real sec\n",
      "[M::process] read 66668 sequences (10000200 bp)...\n",
      "[M::mem_pestat] # candidate unique pairs for (FF, FR, RF, RR): (0, 32581, 0, 1)\n",
      "[M::mem_pestat] skip orientation FF as there are not enough pairs\n",
      "[M::mem_pestat] analyzing insert size distribution for orientation FR...\n",
      "[M::mem_pestat] (25, 50, 75) percentile: (222, 259, 306)\n",
      "[M::mem_pestat] low and high boundaries for computing mean and std.dev: (54, 474)\n",
      "[M::mem_pestat] mean and std.dev: (267.59, 61.68)\n",
      "[M::mem_pestat] low and high boundaries for proper pairs: (1, 558)\n",
      "[M::mem_pestat] skip orientation RF as there are not enough pairs\n",
      "[M::mem_pestat] skip orientation RR as there are not enough pairs\n",
      "[M::mem_process_seqs] Processed 66668 reads in 6.733 CPU sec, 6.602 real sec\n",
      "[M::process] read 66668 sequences (10000200 bp)...\n",
      "[M::mem_pestat] # candidate unique pairs for (FF, FR, RF, RR): (0, 32600, 0, 1)\n",
      "[M::mem_pestat] skip orientation FF as there are not enough pairs\n",
      "[M::mem_pestat] analyzing insert size distribution for orientation FR...\n",
      "[M::mem_pestat] (25, 50, 75) percentile: (221, 258, 306)\n",
      "[M::mem_pestat] low and high boundaries for computing mean and std.dev: (51, 476)\n",
      "[M::mem_pestat] mean and std.dev: (266.97, 61.83)\n",
      "[M::mem_pestat] low and high boundaries for proper pairs: (1, 561)\n",
      "[M::mem_pestat] skip orientation RF as there are not enough pairs\n",
      "[M::mem_pestat] skip orientation RR as there are not enough pairs\n",
      "[M::mem_process_seqs] Processed 66668 reads in 6.387 CPU sec, 6.322 real sec\n",
      "[M::process] read 66668 sequences (10000200 bp)...\n",
      "[M::mem_pestat] # candidate unique pairs for (FF, FR, RF, RR): (0, 32598, 0, 0)\n",
      "[M::mem_pestat] skip orientation FF as there are not enough pairs\n",
      "[M::mem_pestat] analyzing insert size distribution for orientation FR...\n",
      "[M::mem_pestat] (25, 50, 75) percentile: (221, 258, 306)\n",
      "[M::mem_pestat] low and high boundaries for computing mean and std.dev: (51, 476)\n",
      "[M::mem_pestat] mean and std.dev: (267.24, 61.91)\n",
      "[M::mem_pestat] low and high boundaries for proper pairs: (1, 561)\n",
      "[M::mem_pestat] skip orientation RF as there are not enough pairs\n",
      "[M::mem_pestat] skip orientation RR as there are not enough pairs\n",
      "[M::mem_process_seqs] Processed 66668 reads in 6.027 CPU sec, 5.910 real sec\n",
      "[M::process] read 66668 sequences (10000200 bp)...\n",
      "[M::mem_pestat] # candidate unique pairs for (FF, FR, RF, RR): (1, 32587, 0, 0)\n",
      "[M::mem_pestat] skip orientation FF as there are not enough pairs\n",
      "[M::mem_pestat] analyzing insert size distribution for orientation FR...\n",
      "[M::mem_pestat] (25, 50, 75) percentile: (222, 258, 306)\n",
      "[M::mem_pestat] low and high boundaries for computing mean and std.dev: (54, 474)\n",
      "[M::mem_pestat] mean and std.dev: (267.26, 61.57)\n",
      "[M::mem_pestat] low and high boundaries for proper pairs: (1, 558)\n",
      "[M::mem_pestat] skip orientation RF as there are not enough pairs\n",
      "[M::mem_pestat] skip orientation RR as there are not enough pairs\n",
      "[M::mem_process_seqs] Processed 66668 reads in 6.090 CPU sec, 5.997 real sec\n",
      "[M::process] read 66668 sequences (10000200 bp)...\n",
      "[M::mem_pestat] # candidate unique pairs for (FF, FR, RF, RR): (1, 32564, 0, 0)\n",
      "[M::mem_pestat] skip orientation FF as there are not enough pairs\n",
      "[M::mem_pestat] analyzing insert size distribution for orientation FR...\n",
      "[M::mem_pestat] (25, 50, 75) percentile: (222, 258, 305)\n",
      "[M::mem_pestat] low and high boundaries for computing mean and std.dev: (56, 471)\n",
      "[M::mem_pestat] mean and std.dev: (266.81, 61.25)\n",
      "[M::mem_pestat] low and high boundaries for proper pairs: (1, 554)\n",
      "[M::mem_pestat] skip orientation RF as there are not enough pairs\n",
      "[M::mem_pestat] skip orientation RR as there are not enough pairs\n",
      "[M::mem_process_seqs] Processed 66668 reads in 6.784 CPU sec, 6.668 real sec\n",
      "[M::process] read 66668 sequences (10000200 bp)...\n",
      "[M::mem_pestat] # candidate unique pairs for (FF, FR, RF, RR): (0, 32599, 0, 0)\n",
      "[M::mem_pestat] skip orientation FF as there are not enough pairs\n",
      "[M::mem_pestat] analyzing insert size distribution for orientation FR...\n",
      "[M::mem_pestat] (25, 50, 75) percentile: (222, 258, 306)\n",
      "[M::mem_pestat] low and high boundaries for computing mean and std.dev: (54, 474)\n",
      "[M::mem_pestat] mean and std.dev: (267.42, 61.79)\n",
      "[M::mem_pestat] low and high boundaries for proper pairs: (1, 558)\n",
      "[M::mem_pestat] skip orientation RF as there are not enough pairs\n",
      "[M::mem_pestat] skip orientation RR as there are not enough pairs\n",
      "[M::mem_process_seqs] Processed 66668 reads in 6.358 CPU sec, 6.222 real sec\n",
      "[M::process] read 66668 sequences (10000200 bp)...\n",
      "[M::mem_pestat] # candidate unique pairs for (FF, FR, RF, RR): (1, 32618, 0, 0)\n",
      "[M::mem_pestat] skip orientation FF as there are not enough pairs\n",
      "[M::mem_pestat] analyzing insert size distribution for orientation FR...\n",
      "[M::mem_pestat] (25, 50, 75) percentile: (222, 259, 306)\n",
      "[M::mem_pestat] low and high boundaries for computing mean and std.dev: (54, 474)\n",
      "[M::mem_pestat] mean and std.dev: (267.36, 61.39)\n",
      "[M::mem_pestat] low and high boundaries for proper pairs: (1, 558)\n",
      "[M::mem_pestat] skip orientation RF as there are not enough pairs\n",
      "[M::mem_pestat] skip orientation RR as there are not enough pairs\n",
      "[M::mem_process_seqs] Processed 66668 reads in 5.837 CPU sec, 5.719 real sec\n",
      "[M::process] read 66668 sequences (10000200 bp)...\n",
      "[M::mem_pestat] # candidate unique pairs for (FF, FR, RF, RR): (1, 32602, 0, 0)\n",
      "[M::mem_pestat] skip orientation FF as there are not enough pairs\n",
      "[M::mem_pestat] analyzing insert size distribution for orientation FR...\n",
      "[M::mem_pestat] (25, 50, 75) percentile: (222, 258, 306)\n",
      "[M::mem_pestat] low and high boundaries for computing mean and std.dev: (54, 474)\n",
      "[M::mem_pestat] mean and std.dev: (267.23, 61.57)\n",
      "[M::mem_pestat] low and high boundaries for proper pairs: (1, 558)\n",
      "[M::mem_pestat] skip orientation RF as there are not enough pairs\n",
      "[M::mem_pestat] skip orientation RR as there are not enough pairs\n"
     ]
    },
    {
     "name": "stdout",
     "output_type": "stream",
     "text": [
      "[M::mem_process_seqs] Processed 66668 reads in 5.862 CPU sec, 5.745 real sec\n",
      "[M::process] read 66668 sequences (10000200 bp)...\n",
      "[M::mem_pestat] # candidate unique pairs for (FF, FR, RF, RR): (1, 32604, 0, 0)\n",
      "[M::mem_pestat] skip orientation FF as there are not enough pairs\n",
      "[M::mem_pestat] analyzing insert size distribution for orientation FR...\n",
      "[M::mem_pestat] (25, 50, 75) percentile: (221, 258, 305)\n",
      "[M::mem_pestat] low and high boundaries for computing mean and std.dev: (53, 473)\n",
      "[M::mem_pestat] mean and std.dev: (266.60, 61.19)\n",
      "[M::mem_pestat] low and high boundaries for proper pairs: (1, 557)\n",
      "[M::mem_pestat] skip orientation RF as there are not enough pairs\n",
      "[M::mem_pestat] skip orientation RR as there are not enough pairs\n",
      "[M::mem_process_seqs] Processed 66668 reads in 5.886 CPU sec, 5.761 real sec\n",
      "[M::process] read 66668 sequences (10000200 bp)...\n",
      "[M::mem_pestat] # candidate unique pairs for (FF, FR, RF, RR): (0, 32649, 0, 0)\n",
      "[M::mem_pestat] skip orientation FF as there are not enough pairs\n",
      "[M::mem_pestat] analyzing insert size distribution for orientation FR...\n",
      "[M::mem_pestat] (25, 50, 75) percentile: (222, 258, 305)\n",
      "[M::mem_pestat] low and high boundaries for computing mean and std.dev: (56, 471)\n",
      "[M::mem_pestat] mean and std.dev: (266.79, 61.29)\n",
      "[M::mem_pestat] low and high boundaries for proper pairs: (1, 554)\n",
      "[M::mem_pestat] skip orientation RF as there are not enough pairs\n",
      "[M::mem_pestat] skip orientation RR as there are not enough pairs\n",
      "[M::mem_process_seqs] Processed 66668 reads in 5.921 CPU sec, 5.810 real sec\n",
      "[M::process] read 66668 sequences (10000200 bp)...\n",
      "[M::mem_pestat] # candidate unique pairs for (FF, FR, RF, RR): (1, 32600, 0, 0)\n",
      "[M::mem_pestat] skip orientation FF as there are not enough pairs\n",
      "[M::mem_pestat] analyzing insert size distribution for orientation FR...\n",
      "[M::mem_pestat] (25, 50, 75) percentile: (222, 259, 306)\n",
      "[M::mem_pestat] low and high boundaries for computing mean and std.dev: (54, 474)\n",
      "[M::mem_pestat] mean and std.dev: (267.48, 61.59)\n",
      "[M::mem_pestat] low and high boundaries for proper pairs: (1, 558)\n",
      "[M::mem_pestat] skip orientation RF as there are not enough pairs\n",
      "[M::mem_pestat] skip orientation RR as there are not enough pairs\n",
      "[M::mem_process_seqs] Processed 66668 reads in 5.820 CPU sec, 5.711 real sec\n",
      "[M::process] read 66668 sequences (10000200 bp)...\n",
      "[M::mem_pestat] # candidate unique pairs for (FF, FR, RF, RR): (0, 32598, 0, 0)\n",
      "[M::mem_pestat] skip orientation FF as there are not enough pairs\n",
      "[M::mem_pestat] analyzing insert size distribution for orientation FR...\n",
      "[M::mem_pestat] (25, 50, 75) percentile: (221, 259, 306)\n",
      "[M::mem_pestat] low and high boundaries for computing mean and std.dev: (51, 476)\n",
      "[M::mem_pestat] mean and std.dev: (267.29, 61.75)\n",
      "[M::mem_pestat] low and high boundaries for proper pairs: (1, 561)\n",
      "[M::mem_pestat] skip orientation RF as there are not enough pairs\n",
      "[M::mem_pestat] skip orientation RR as there are not enough pairs\n",
      "[M::mem_process_seqs] Processed 66668 reads in 5.858 CPU sec, 5.745 real sec\n",
      "[M::process] read 32296 sequences (4844400 bp)...\n",
      "[M::mem_pestat] # candidate unique pairs for (FF, FR, RF, RR): (2, 32641, 0, 0)\n",
      "[M::mem_pestat] skip orientation FF as there are not enough pairs\n",
      "[M::mem_pestat] analyzing insert size distribution for orientation FR...\n",
      "[M::mem_pestat] (25, 50, 75) percentile: (221, 258, 305)\n",
      "[M::mem_pestat] low and high boundaries for computing mean and std.dev: (53, 473)\n",
      "[M::mem_pestat] mean and std.dev: (266.63, 61.42)\n",
      "[M::mem_pestat] low and high boundaries for proper pairs: (1, 557)\n",
      "[M::mem_pestat] skip orientation RF as there are not enough pairs\n",
      "[M::mem_pestat] skip orientation RR as there are not enough pairs\n",
      "[M::mem_process_seqs] Processed 66668 reads in 5.997 CPU sec, 5.908 real sec\n",
      "[M::mem_pestat] # candidate unique pairs for (FF, FR, RF, RR): (0, 15814, 0, 0)\n",
      "[M::mem_pestat] skip orientation FF as there are not enough pairs\n",
      "[M::mem_pestat] analyzing insert size distribution for orientation FR...\n",
      "[M::mem_pestat] (25, 50, 75) percentile: (222, 258, 307)\n",
      "[M::mem_pestat] low and high boundaries for computing mean and std.dev: (52, 477)\n",
      "[M::mem_pestat] mean and std.dev: (267.71, 61.86)\n",
      "[M::mem_pestat] low and high boundaries for proper pairs: (1, 562)\n",
      "[M::mem_pestat] skip orientation RF as there are not enough pairs\n",
      "[M::mem_pestat] skip orientation RR as there are not enough pairs\n",
      "[M::mem_process_seqs] Processed 32296 reads in 2.841 CPU sec, 2.777 real sec\n",
      "[main] Version: 0.7.17-r1188\n",
      "[main] CMD: bwa mem -v 3 data/B.faecium/ref.fasta data/B.faecium/frag.R1.fastq data/B.faecium/frag.R2.fastq\n",
      "[main] Real time: 331.351 sec; CPU: 337.696 sec\n"
     ]
    }
   ],
   "source": [
    "!bwa mem -v 3 data/B.faecium/ref.fasta data/B.faecium/frag.R1.fastq data/B.faecium/frag.R2.fastq > frag.sam"
   ]
  },
  {
   "cell_type": "code",
   "execution_count": 6,
   "metadata": {
    "scrolled": true
   },
   "outputs": [
    {
     "name": "stdout",
     "output_type": "stream",
     "text": [
      "[M::bwa_idx_load_from_disk] read 0 ALT contigs\n",
      "[M::process] read 91006 sequences (10000068 bp)...\n",
      "[M::process] read 90918 sequences (10000242 bp)...\n",
      "[M::mem_pestat] # candidate unique pairs for (FF, FR, RF, RR): (12, 38830, 1, 13)\n",
      "[M::mem_pestat] analyzing insert size distribution for orientation FF...\n",
      "[M::mem_pestat] (25, 50, 75) percentile: (1181, 6990, 8310)\n",
      "[M::mem_pestat] low and high boundaries for computing mean and std.dev: (1, 22568)\n",
      "[M::mem_pestat] mean and std.dev: (5069.42, 3608.83)\n",
      "[M::mem_pestat] low and high boundaries for proper pairs: (1, 29697)\n",
      "[M::mem_pestat] analyzing insert size distribution for orientation FR...\n",
      "[M::mem_pestat] (25, 50, 75) percentile: (6731, 7379, 8247)\n",
      "[M::mem_pestat] low and high boundaries for computing mean and std.dev: (3699, 11279)\n",
      "[M::mem_pestat] mean and std.dev: (7569.46, 999.13)\n",
      "[M::mem_pestat] low and high boundaries for proper pairs: (2183, 12795)\n",
      "[M::mem_pestat] skip orientation RF as there are not enough pairs\n",
      "[M::mem_pestat] analyzing insert size distribution for orientation RR...\n",
      "[M::mem_pestat] (25, 50, 75) percentile: (5997, 6969, 7943)\n",
      "[M::mem_pestat] low and high boundaries for computing mean and std.dev: (2105, 11835)\n",
      "[M::mem_pestat] mean and std.dev: (7406.64, 1085.25)\n",
      "[M::mem_pestat] low and high boundaries for proper pairs: (159, 13781)\n",
      "[M::mem_pestat] skip orientation FF\n",
      "[M::mem_pestat] skip orientation RR\n",
      "[M::mem_process_seqs] Processed 91006 reads in 7.821 CPU sec, 7.739 real sec\n",
      "[M::process] read 90988 sequences (10000113 bp)...\n",
      "[M::mem_pestat] # candidate unique pairs for (FF, FR, RF, RR): (5, 38675, 6, 13)\n",
      "[M::mem_pestat] skip orientation FF as there are not enough pairs\n",
      "[M::mem_pestat] analyzing insert size distribution for orientation FR...\n",
      "[M::mem_pestat] (25, 50, 75) percentile: (6711, 7371, 8257)\n",
      "[M::mem_pestat] low and high boundaries for computing mean and std.dev: (3619, 11349)\n",
      "[M::mem_pestat] mean and std.dev: (7560.61, 1001.51)\n",
      "[M::mem_pestat] low and high boundaries for proper pairs: (2073, 12895)\n",
      "[M::mem_pestat] skip orientation RF as there are not enough pairs\n",
      "[M::mem_pestat] analyzing insert size distribution for orientation RR...\n",
      "[M::mem_pestat] (25, 50, 75) percentile: (4773, 6236, 7343)\n",
      "[M::mem_pestat] low and high boundaries for computing mean and std.dev: (1, 12483)\n",
      "[M::mem_pestat] mean and std.dev: (5564.69, 2091.63)\n",
      "[M::mem_pestat] low and high boundaries for proper pairs: (1, 15053)\n",
      "[M::mem_pestat] skip orientation RR\n",
      "[M::mem_process_seqs] Processed 90918 reads in 7.896 CPU sec, 7.740 real sec\n",
      "[M::process] read 90934 sequences (10000177 bp)...\n",
      "[M::mem_pestat] # candidate unique pairs for (FF, FR, RF, RR): (6, 38571, 6, 14)\n",
      "[M::mem_pestat] skip orientation FF as there are not enough pairs\n",
      "[M::mem_pestat] analyzing insert size distribution for orientation FR...\n",
      "[M::mem_pestat] (25, 50, 75) percentile: (6723, 7378, 8278)\n",
      "[M::mem_pestat] low and high boundaries for computing mean and std.dev: (3613, 11388)\n",
      "[M::mem_pestat] mean and std.dev: (7572.99, 1006.54)\n",
      "[M::mem_pestat] low and high boundaries for proper pairs: (2058, 12943)\n",
      "[M::mem_pestat] skip orientation RF as there are not enough pairs\n",
      "[M::mem_pestat] analyzing insert size distribution for orientation RR...\n",
      "[M::mem_pestat] (25, 50, 75) percentile: (6289, 6791, 7403)\n",
      "[M::mem_pestat] low and high boundaries for computing mean and std.dev: (4061, 9631)\n",
      "[M::mem_pestat] mean and std.dev: (7072.50, 731.20)\n",
      "[M::mem_pestat] low and high boundaries for proper pairs: (2947, 10745)\n",
      "[M::mem_pestat] skip orientation RR\n",
      "[M::mem_process_seqs] Processed 90988 reads in 7.945 CPU sec, 7.796 real sec\n",
      "[M::process] read 90816 sequences (10000109 bp)...\n",
      "[M::mem_pestat] # candidate unique pairs for (FF, FR, RF, RR): (6, 38516, 6, 14)\n",
      "[M::mem_pestat] skip orientation FF as there are not enough pairs\n",
      "[M::mem_pestat] analyzing insert size distribution for orientation FR...\n",
      "[M::mem_pestat] (25, 50, 75) percentile: (6720, 7381, 8262)\n",
      "[M::mem_pestat] low and high boundaries for computing mean and std.dev: (3636, 11346)\n",
      "[M::mem_pestat] mean and std.dev: (7571.74, 1005.73)\n",
      "[M::mem_pestat] low and high boundaries for proper pairs: (2094, 12888)\n",
      "[M::mem_pestat] skip orientation RF as there are not enough pairs\n",
      "[M::mem_pestat] analyzing insert size distribution for orientation RR...\n",
      "[M::mem_pestat] (25, 50, 75) percentile: (2010, 6648, 7495)\n",
      "[M::mem_pestat] low and high boundaries for computing mean and std.dev: (1, 18465)\n",
      "[M::mem_pestat] mean and std.dev: (5150.14, 2621.62)\n",
      "[M::mem_pestat] low and high boundaries for proper pairs: (1, 23950)\n",
      "[M::mem_pestat] skip orientation RR\n",
      "[M::mem_process_seqs] Processed 90934 reads in 7.996 CPU sec, 7.841 real sec\n",
      "[M::process] read 91006 sequences (10000162 bp)...\n",
      "[M::mem_pestat] # candidate unique pairs for (FF, FR, RF, RR): (1, 38669, 8, 9)\n",
      "[M::mem_pestat] skip orientation FF as there are not enough pairs\n",
      "[M::mem_pestat] analyzing insert size distribution for orientation FR...\n",
      "[M::mem_pestat] (25, 50, 75) percentile: (6725, 7384, 8270)\n",
      "[M::mem_pestat] low and high boundaries for computing mean and std.dev: (3635, 11360)\n",
      "[M::mem_pestat] mean and std.dev: (7576.39, 1006.07)\n",
      "[M::mem_pestat] low and high boundaries for proper pairs: (2090, 12905)\n",
      "[M::mem_pestat] skip orientation RF as there are not enough pairs\n",
      "[M::mem_pestat] skip orientation RR as there are not enough pairs\n",
      "[M::mem_process_seqs] Processed 90816 reads in 7.976 CPU sec, 7.851 real sec\n",
      "[M::process] read 90978 sequences (10000197 bp)...\n",
      "[M::mem_pestat] # candidate unique pairs for (FF, FR, RF, RR): (7, 38648, 5, 9)\n",
      "[M::mem_pestat] skip orientation FF as there are not enough pairs\n",
      "[M::mem_pestat] analyzing insert size distribution for orientation FR...\n",
      "[M::mem_pestat] (25, 50, 75) percentile: (6731, 7388, 8269)\n",
      "[M::mem_pestat] low and high boundaries for computing mean and std.dev: (3655, 11345)\n",
      "[M::mem_pestat] mean and std.dev: (7575.83, 1009.09)\n",
      "[M::mem_pestat] low and high boundaries for proper pairs: (2117, 12883)\n",
      "[M::mem_pestat] skip orientation RF as there are not enough pairs\n",
      "[M::mem_pestat] skip orientation RR as there are not enough pairs\n",
      "[M::mem_process_seqs] Processed 91006 reads in 7.989 CPU sec, 7.850 real sec\n",
      "[M::process] read 90830 sequences (10000234 bp)...\n",
      "[M::mem_pestat] # candidate unique pairs for (FF, FR, RF, RR): (6, 38595, 8, 8)\n",
      "[M::mem_pestat] skip orientation FF as there are not enough pairs\n",
      "[M::mem_pestat] analyzing insert size distribution for orientation FR...\n",
      "[M::mem_pestat] (25, 50, 75) percentile: (6723, 7365, 8251)\n",
      "[M::mem_pestat] low and high boundaries for computing mean and std.dev: (3667, 11307)\n",
      "[M::mem_pestat] mean and std.dev: (7563.20, 999.75)\n",
      "[M::mem_pestat] low and high boundaries for proper pairs: (2139, 12835)\n",
      "[M::mem_pestat] skip orientation RF as there are not enough pairs\n",
      "[M::mem_pestat] skip orientation RR as there are not enough pairs\n",
      "[M::mem_process_seqs] Processed 90978 reads in 8.070 CPU sec, 7.939 real sec\n",
      "[M::process] read 90964 sequences (10000021 bp)...\n",
      "[M::mem_pestat] # candidate unique pairs for (FF, FR, RF, RR): (12, 38784, 5, 17)\n",
      "[M::mem_pestat] analyzing insert size distribution for orientation FF...\n",
      "[M::mem_pestat] (25, 50, 75) percentile: (3185, 6119, 7324)\n",
      "[M::mem_pestat] low and high boundaries for computing mean and std.dev: (1, 15602)\n",
      "[M::mem_pestat] mean and std.dev: (5029.67, 2600.32)\n",
      "[M::mem_pestat] low and high boundaries for proper pairs: (1, 19741)\n",
      "[M::mem_pestat] analyzing insert size distribution for orientation FR...\n",
      "[M::mem_pestat] (25, 50, 75) percentile: (6725, 7385, 8279)\n",
      "[M::mem_pestat] low and high boundaries for computing mean and std.dev: (3617, 11387)\n",
      "[M::mem_pestat] mean and std.dev: (7575.39, 1006.46)\n",
      "[M::mem_pestat] low and high boundaries for proper pairs: (2063, 12941)\n",
      "[M::mem_pestat] skip orientation RF as there are not enough pairs\n",
      "[M::mem_pestat] analyzing insert size distribution for orientation RR...\n",
      "[M::mem_pestat] (25, 50, 75) percentile: (3340, 6330, 7470)\n",
      "[M::mem_pestat] low and high boundaries for computing mean and std.dev: (1, 15730)\n",
      "[M::mem_pestat] mean and std.dev: (5222.12, 2803.55)\n",
      "[M::mem_pestat] low and high boundaries for proper pairs: (1, 19860)\n",
      "[M::mem_pestat] skip orientation FF\n",
      "[M::mem_pestat] skip orientation RR\n",
      "[M::mem_process_seqs] Processed 90830 reads in 7.855 CPU sec, 7.700 real sec\n"
     ]
    },
    {
     "name": "stdout",
     "output_type": "stream",
     "text": [
      "[M::process] read 90916 sequences (10000240 bp)...\n",
      "[M::mem_pestat] # candidate unique pairs for (FF, FR, RF, RR): (7, 38654, 3, 11)\n",
      "[M::mem_pestat] skip orientation FF as there are not enough pairs\n",
      "[M::mem_pestat] analyzing insert size distribution for orientation FR...\n",
      "[M::mem_pestat] (25, 50, 75) percentile: (6724, 7375, 8258)\n",
      "[M::mem_pestat] low and high boundaries for computing mean and std.dev: (3656, 11326)\n",
      "[M::mem_pestat] mean and std.dev: (7564.56, 1006.17)\n",
      "[M::mem_pestat] low and high boundaries for proper pairs: (2122, 12860)\n",
      "[M::mem_pestat] skip orientation RF as there are not enough pairs\n",
      "[M::mem_pestat] analyzing insert size distribution for orientation RR...\n",
      "[M::mem_pestat] (25, 50, 75) percentile: (4434, 6306, 7725)\n",
      "[M::mem_pestat] low and high boundaries for computing mean and std.dev: (1, 14307)\n",
      "[M::mem_pestat] mean and std.dev: (5460.64, 2353.70)\n",
      "[M::mem_pestat] low and high boundaries for proper pairs: (1, 17598)\n",
      "[M::mem_pestat] skip orientation RR\n",
      "[M::mem_process_seqs] Processed 90964 reads in 7.844 CPU sec, 7.726 real sec\n",
      "[M::process] read 90786 sequences (10000187 bp)...\n",
      "[M::mem_pestat] # candidate unique pairs for (FF, FR, RF, RR): (8, 38469, 8, 12)\n",
      "[M::mem_pestat] skip orientation FF as there are not enough pairs\n",
      "[M::mem_pestat] analyzing insert size distribution for orientation FR...\n",
      "[M::mem_pestat] (25, 50, 75) percentile: (6732, 7380, 8265)\n",
      "[M::mem_pestat] low and high boundaries for computing mean and std.dev: (3666, 11331)\n",
      "[M::mem_pestat] mean and std.dev: (7576.54, 1003.44)\n",
      "[M::mem_pestat] low and high boundaries for proper pairs: (2133, 12864)\n",
      "[M::mem_pestat] skip orientation RF as there are not enough pairs\n",
      "[M::mem_pestat] analyzing insert size distribution for orientation RR...\n",
      "[M::mem_pestat] (25, 50, 75) percentile: (5230, 7228, 7639)\n",
      "[M::mem_pestat] low and high boundaries for computing mean and std.dev: (412, 12457)\n",
      "[M::mem_pestat] mean and std.dev: (6382.92, 2234.57)\n",
      "[M::mem_pestat] low and high boundaries for proper pairs: (1, 15321)\n",
      "[M::mem_pestat] skip orientation RR\n",
      "[M::mem_process_seqs] Processed 90916 reads in 7.934 CPU sec, 7.844 real sec\n",
      "[M::process] read 90938 sequences (10000125 bp)...\n",
      "[M::mem_pestat] # candidate unique pairs for (FF, FR, RF, RR): (9, 38561, 5, 9)\n",
      "[M::mem_pestat] skip orientation FF as there are not enough pairs\n",
      "[M::mem_pestat] analyzing insert size distribution for orientation FR...\n",
      "[M::mem_pestat] (25, 50, 75) percentile: (6719, 7370, 8265)\n",
      "[M::mem_pestat] low and high boundaries for computing mean and std.dev: (3627, 11357)\n",
      "[M::mem_pestat] mean and std.dev: (7566.60, 1001.88)\n",
      "[M::mem_pestat] low and high boundaries for proper pairs: (2081, 12903)\n",
      "[M::mem_pestat] skip orientation RF as there are not enough pairs\n",
      "[M::mem_pestat] skip orientation RR as there are not enough pairs\n",
      "[M::mem_process_seqs] Processed 90786 reads in 7.873 CPU sec, 7.744 real sec\n",
      "[M::process] read 90960 sequences (10000020 bp)...\n",
      "[M::mem_pestat] # candidate unique pairs for (FF, FR, RF, RR): (6, 38528, 9, 12)\n",
      "[M::mem_pestat] skip orientation FF as there are not enough pairs\n",
      "[M::mem_pestat] analyzing insert size distribution for orientation FR...\n",
      "[M::mem_pestat] (25, 50, 75) percentile: (6720, 7371, 8263)\n",
      "[M::mem_pestat] low and high boundaries for computing mean and std.dev: (3634, 11349)\n",
      "[M::mem_pestat] mean and std.dev: (7570.32, 1008.81)\n",
      "[M::mem_pestat] low and high boundaries for proper pairs: (2091, 12892)\n",
      "[M::mem_pestat] skip orientation RF as there are not enough pairs\n",
      "[M::mem_pestat] analyzing insert size distribution for orientation RR...\n",
      "[M::mem_pestat] (25, 50, 75) percentile: (4697, 6331, 7104)\n",
      "[M::mem_pestat] low and high boundaries for computing mean and std.dev: (1, 11918)\n",
      "[M::mem_pestat] mean and std.dev: (5667.58, 2071.01)\n",
      "[M::mem_pestat] low and high boundaries for proper pairs: (1, 14325)\n",
      "[M::mem_pestat] skip orientation RR\n",
      "[M::mem_process_seqs] Processed 90938 reads in 8.189 CPU sec, 8.066 real sec\n",
      "[M::process] read 90868 sequences (10000155 bp)...\n",
      "[M::mem_pestat] # candidate unique pairs for (FF, FR, RF, RR): (9, 38682, 8, 4)\n",
      "[M::mem_pestat] skip orientation FF as there are not enough pairs\n",
      "[M::mem_pestat] analyzing insert size distribution for orientation FR...\n",
      "[M::mem_pestat] (25, 50, 75) percentile: (6721, 7378, 8270)\n",
      "[M::mem_pestat] low and high boundaries for computing mean and std.dev: (3623, 11368)\n",
      "[M::mem_pestat] mean and std.dev: (7570.59, 1005.38)\n",
      "[M::mem_pestat] low and high boundaries for proper pairs: (2074, 12917)\n",
      "[M::mem_pestat] skip orientation RF as there are not enough pairs\n",
      "[M::mem_pestat] skip orientation RR as there are not enough pairs\n",
      "[M::mem_process_seqs] Processed 90960 reads in 9.775 CPU sec, 9.594 real sec\n",
      "[M::process] read 90802 sequences (10000066 bp)...\n",
      "[M::mem_pestat] # candidate unique pairs for (FF, FR, RF, RR): (6, 38712, 8, 11)\n",
      "[M::mem_pestat] skip orientation FF as there are not enough pairs\n",
      "[M::mem_pestat] analyzing insert size distribution for orientation FR...\n",
      "[M::mem_pestat] (25, 50, 75) percentile: (6712, 7369, 8258)\n",
      "[M::mem_pestat] low and high boundaries for computing mean and std.dev: (3620, 11350)\n",
      "[M::mem_pestat] mean and std.dev: (7564.14, 1005.76)\n",
      "[M::mem_pestat] low and high boundaries for proper pairs: (2074, 12896)\n",
      "[M::mem_pestat] skip orientation RF as there are not enough pairs\n",
      "[M::mem_pestat] analyzing insert size distribution for orientation RR...\n",
      "[M::mem_pestat] (25, 50, 75) percentile: (3875, 6623, 7048)\n",
      "[M::mem_pestat] low and high boundaries for computing mean and std.dev: (1, 13394)\n",
      "[M::mem_pestat] mean and std.dev: (5260.09, 2524.21)\n",
      "[M::mem_pestat] low and high boundaries for proper pairs: (1, 16567)\n",
      "[M::mem_pestat] skip orientation RR\n",
      "[M::mem_process_seqs] Processed 90868 reads in 8.124 CPU sec, 7.982 real sec\n",
      "[M::process] read 90886 sequences (10000095 bp)...\n",
      "[M::mem_pestat] # candidate unique pairs for (FF, FR, RF, RR): (10, 38699, 4, 16)\n",
      "[M::mem_pestat] analyzing insert size distribution for orientation FF...\n",
      "[M::mem_pestat] (25, 50, 75) percentile: (3816, 5927, 7592)\n",
      "[M::mem_pestat] low and high boundaries for computing mean and std.dev: (1, 15144)\n",
      "[M::mem_pestat] mean and std.dev: (5474.30, 2189.26)\n",
      "[M::mem_pestat] low and high boundaries for proper pairs: (1, 18920)\n",
      "[M::mem_pestat] analyzing insert size distribution for orientation FR...\n",
      "[M::mem_pestat] (25, 50, 75) percentile: (6717, 7373, 8264)\n",
      "[M::mem_pestat] low and high boundaries for computing mean and std.dev: (3623, 11358)\n",
      "[M::mem_pestat] mean and std.dev: (7567.22, 1007.49)\n",
      "[M::mem_pestat] low and high boundaries for proper pairs: (2076, 12905)\n",
      "[M::mem_pestat] skip orientation RF as there are not enough pairs\n",
      "[M::mem_pestat] analyzing insert size distribution for orientation RR...\n",
      "[M::mem_pestat] (25, 50, 75) percentile: (2876, 6038, 7263)\n",
      "[M::mem_pestat] low and high boundaries for computing mean and std.dev: (1, 16037)\n",
      "[M::mem_pestat] mean and std.dev: (5178.94, 2790.68)\n",
      "[M::mem_pestat] low and high boundaries for proper pairs: (1, 20424)\n",
      "[M::mem_pestat] skip orientation FF\n",
      "[M::mem_pestat] skip orientation RR\n",
      "[M::mem_process_seqs] Processed 90802 reads in 8.531 CPU sec, 8.424 real sec\n",
      "[M::process] read 91090 sequences (10000117 bp)...\n",
      "[M::mem_pestat] # candidate unique pairs for (FF, FR, RF, RR): (6, 38700, 8, 9)\n",
      "[M::mem_pestat] skip orientation FF as there are not enough pairs\n",
      "[M::mem_pestat] analyzing insert size distribution for orientation FR...\n",
      "[M::mem_pestat] (25, 50, 75) percentile: (6718, 7369, 8253)\n",
      "[M::mem_pestat] low and high boundaries for computing mean and std.dev: (3648, 11323)\n",
      "[M::mem_pestat] mean and std.dev: (7564.81, 996.75)\n",
      "[M::mem_pestat] low and high boundaries for proper pairs: (2113, 12858)\n",
      "[M::mem_pestat] skip orientation RF as there are not enough pairs\n",
      "[M::mem_pestat] skip orientation RR as there are not enough pairs\n",
      "[M::mem_process_seqs] Processed 90886 reads in 9.707 CPU sec, 9.562 real sec\n",
      "[M::process] read 90892 sequences (10000197 bp)...\n",
      "[M::mem_pestat] # candidate unique pairs for (FF, FR, RF, RR): (10, 38688, 4, 16)\n",
      "[M::mem_pestat] analyzing insert size distribution for orientation FF...\n",
      "[M::mem_pestat] (25, 50, 75) percentile: (1879, 5376, 6495)\n",
      "[M::mem_pestat] low and high boundaries for computing mean and std.dev: (1, 15727)\n",
      "[M::mem_pestat] mean and std.dev: (4715.70, 2801.07)\n",
      "[M::mem_pestat] low and high boundaries for proper pairs: (1, 20343)\n",
      "[M::mem_pestat] analyzing insert size distribution for orientation FR...\n",
      "[M::mem_pestat] (25, 50, 75) percentile: (6723, 7369, 8261)\n",
      "[M::mem_pestat] low and high boundaries for computing mean and std.dev: (3647, 11337)\n",
      "[M::mem_pestat] mean and std.dev: (7567.36, 998.29)\n",
      "[M::mem_pestat] low and high boundaries for proper pairs: (2109, 12875)\n",
      "[M::mem_pestat] skip orientation RF as there are not enough pairs\n",
      "[M::mem_pestat] analyzing insert size distribution for orientation RR...\n",
      "[M::mem_pestat] (25, 50, 75) percentile: (3319, 5209, 7136)\n",
      "[M::mem_pestat] low and high boundaries for computing mean and std.dev: (1, 14770)\n",
      "[M::mem_pestat] mean and std.dev: (5269.19, 2212.51)\n",
      "[M::mem_pestat] low and high boundaries for proper pairs: (1, 18587)\n",
      "[M::mem_pestat] skip orientation FF\n",
      "[M::mem_pestat] skip orientation RR\n"
     ]
    },
    {
     "name": "stdout",
     "output_type": "stream",
     "text": [
      "[M::mem_process_seqs] Processed 91090 reads in 8.572 CPU sec, 8.423 real sec\n",
      "[M::process] read 90814 sequences (10000010 bp)...\n",
      "[M::mem_pestat] # candidate unique pairs for (FF, FR, RF, RR): (9, 38594, 3, 17)\n",
      "[M::mem_pestat] skip orientation FF as there are not enough pairs\n",
      "[M::mem_pestat] analyzing insert size distribution for orientation FR...\n",
      "[M::mem_pestat] (25, 50, 75) percentile: (6725, 7383, 8255)\n",
      "[M::mem_pestat] low and high boundaries for computing mean and std.dev: (3665, 11315)\n",
      "[M::mem_pestat] mean and std.dev: (7570.72, 997.46)\n",
      "[M::mem_pestat] low and high boundaries for proper pairs: (2135, 12845)\n",
      "[M::mem_pestat] skip orientation RF as there are not enough pairs\n",
      "[M::mem_pestat] analyzing insert size distribution for orientation RR...\n",
      "[M::mem_pestat] (25, 50, 75) percentile: (4783, 7210, 7570)\n",
      "[M::mem_pestat] low and high boundaries for computing mean and std.dev: (1, 13144)\n",
      "[M::mem_pestat] mean and std.dev: (5602.71, 2903.58)\n",
      "[M::mem_pestat] low and high boundaries for proper pairs: (1, 17217)\n",
      "[M::mem_pestat] skip orientation RR\n",
      "[M::mem_process_seqs] Processed 90892 reads in 8.286 CPU sec, 8.128 real sec\n",
      "[M::process] read 91006 sequences (10000032 bp)...\n",
      "[M::mem_pestat] # candidate unique pairs for (FF, FR, RF, RR): (15, 38685, 4, 19)\n",
      "[M::mem_pestat] analyzing insert size distribution for orientation FF...\n",
      "[M::mem_pestat] (25, 50, 75) percentile: (4497, 7342, 7814)\n",
      "[M::mem_pestat] low and high boundaries for computing mean and std.dev: (1, 14448)\n",
      "[M::mem_pestat] mean and std.dev: (6414.13, 2397.60)\n",
      "[M::mem_pestat] low and high boundaries for proper pairs: (1, 17765)\n",
      "[M::mem_pestat] analyzing insert size distribution for orientation FR...\n",
      "[M::mem_pestat] (25, 50, 75) percentile: (6732, 7381, 8269)\n",
      "[M::mem_pestat] low and high boundaries for computing mean and std.dev: (3658, 11343)\n",
      "[M::mem_pestat] mean and std.dev: (7577.48, 1001.31)\n",
      "[M::mem_pestat] low and high boundaries for proper pairs: (2121, 12880)\n",
      "[M::mem_pestat] skip orientation RF as there are not enough pairs\n",
      "[M::mem_pestat] analyzing insert size distribution for orientation RR...\n",
      "[M::mem_pestat] (25, 50, 75) percentile: (2311, 5641, 6802)\n",
      "[M::mem_pestat] low and high boundaries for computing mean and std.dev: (1, 15784)\n",
      "[M::mem_pestat] mean and std.dev: (4853.53, 2627.55)\n",
      "[M::mem_pestat] low and high boundaries for proper pairs: (1, 20275)\n",
      "[M::mem_pestat] skip orientation FF\n",
      "[M::mem_pestat] skip orientation RR\n",
      "[M::mem_process_seqs] Processed 90814 reads in 9.103 CPU sec, 8.915 real sec\n",
      "[M::process] read 90830 sequences (10000132 bp)...\n",
      "[M::mem_pestat] # candidate unique pairs for (FF, FR, RF, RR): (21, 38615, 8, 12)\n",
      "[M::mem_pestat] analyzing insert size distribution for orientation FF...\n",
      "[M::mem_pestat] (25, 50, 75) percentile: (3174, 4701, 8635)\n",
      "[M::mem_pestat] low and high boundaries for computing mean and std.dev: (1, 19557)\n",
      "[M::mem_pestat] mean and std.dev: (5223.19, 3147.28)\n",
      "[M::mem_pestat] low and high boundaries for proper pairs: (1, 25018)\n",
      "[M::mem_pestat] analyzing insert size distribution for orientation FR...\n",
      "[M::mem_pestat] (25, 50, 75) percentile: (6717, 7365, 8250)\n",
      "[M::mem_pestat] low and high boundaries for computing mean and std.dev: (3651, 11316)\n",
      "[M::mem_pestat] mean and std.dev: (7559.74, 1006.83)\n",
      "[M::mem_pestat] low and high boundaries for proper pairs: (2118, 12849)\n",
      "[M::mem_pestat] skip orientation RF as there are not enough pairs\n",
      "[M::mem_pestat] analyzing insert size distribution for orientation RR...\n",
      "[M::mem_pestat] (25, 50, 75) percentile: (4836, 6363, 8646)\n",
      "[M::mem_pestat] low and high boundaries for computing mean and std.dev: (1, 16266)\n",
      "[M::mem_pestat] mean and std.dev: (5691.00, 2768.70)\n",
      "[M::mem_pestat] low and high boundaries for proper pairs: (1, 20076)\n",
      "[M::mem_pestat] skip orientation FF\n",
      "[M::mem_pestat] skip orientation RR\n",
      "[M::mem_process_seqs] Processed 91006 reads in 8.864 CPU sec, 8.725 real sec\n",
      "[M::process] read 90780 sequences (10000186 bp)...\n",
      "[M::mem_pestat] # candidate unique pairs for (FF, FR, RF, RR): (10, 38621, 4, 16)\n",
      "[M::mem_pestat] analyzing insert size distribution for orientation FF...\n",
      "[M::mem_pestat] (25, 50, 75) percentile: (4978, 6462, 7136)\n",
      "[M::mem_pestat] low and high boundaries for computing mean and std.dev: (662, 11452)\n",
      "[M::mem_pestat] mean and std.dev: (6013.20, 1837.39)\n",
      "[M::mem_pestat] low and high boundaries for proper pairs: (1, 13610)\n",
      "[M::mem_pestat] analyzing insert size distribution for orientation FR...\n",
      "[M::mem_pestat] (25, 50, 75) percentile: (6725, 7378, 8261)\n",
      "[M::mem_pestat] low and high boundaries for computing mean and std.dev: (3653, 11333)\n",
      "[M::mem_pestat] mean and std.dev: (7567.50, 1002.18)\n",
      "[M::mem_pestat] low and high boundaries for proper pairs: (2117, 12869)\n",
      "[M::mem_pestat] skip orientation RF as there are not enough pairs\n",
      "[M::mem_pestat] analyzing insert size distribution for orientation RR...\n",
      "[M::mem_pestat] (25, 50, 75) percentile: (5498, 6627, 8893)\n",
      "[M::mem_pestat] low and high boundaries for computing mean and std.dev: (1, 15683)\n",
      "[M::mem_pestat] mean and std.dev: (6719.62, 2265.61)\n",
      "[M::mem_pestat] low and high boundaries for proper pairs: (1, 19078)\n",
      "[M::mem_pestat] skip orientation FF\n",
      "[M::mem_pestat] skip orientation RR\n",
      "[M::mem_process_seqs] Processed 90830 reads in 8.142 CPU sec, 8.031 real sec\n",
      "[M::process] read 90998 sequences (10000016 bp)...\n",
      "[M::mem_pestat] # candidate unique pairs for (FF, FR, RF, RR): (6, 38483, 7, 9)\n",
      "[M::mem_pestat] skip orientation FF as there are not enough pairs\n",
      "[M::mem_pestat] analyzing insert size distribution for orientation FR...\n",
      "[M::mem_pestat] (25, 50, 75) percentile: (6720, 7378, 8265)\n",
      "[M::mem_pestat] low and high boundaries for computing mean and std.dev: (3630, 11355)\n",
      "[M::mem_pestat] mean and std.dev: (7567.94, 1006.66)\n",
      "[M::mem_pestat] low and high boundaries for proper pairs: (2085, 12900)\n",
      "[M::mem_pestat] skip orientation RF as there are not enough pairs\n",
      "[M::mem_pestat] skip orientation RR as there are not enough pairs\n",
      "[M::mem_process_seqs] Processed 90780 reads in 8.231 CPU sec, 8.060 real sec\n",
      "[M::process] read 90926 sequences (10000227 bp)...\n",
      "[M::mem_pestat] # candidate unique pairs for (FF, FR, RF, RR): (2, 38523, 3, 14)\n",
      "[M::mem_pestat] skip orientation FF as there are not enough pairs\n",
      "[M::mem_pestat] analyzing insert size distribution for orientation FR...\n",
      "[M::mem_pestat] (25, 50, 75) percentile: (6717, 7369, 8244)\n",
      "[M::mem_pestat] low and high boundaries for computing mean and std.dev: (3663, 11298)\n",
      "[M::mem_pestat] mean and std.dev: (7560.64, 1004.15)\n",
      "[M::mem_pestat] low and high boundaries for proper pairs: (2136, 12825)\n",
      "[M::mem_pestat] skip orientation RF as there are not enough pairs\n",
      "[M::mem_pestat] analyzing insert size distribution for orientation RR...\n",
      "[M::mem_pestat] (25, 50, 75) percentile: (4054, 6828, 8308)\n",
      "[M::mem_pestat] low and high boundaries for computing mean and std.dev: (1, 16816)\n",
      "[M::mem_pestat] mean and std.dev: (5776.21, 2750.98)\n",
      "[M::mem_pestat] low and high boundaries for proper pairs: (1, 21070)\n",
      "[M::mem_pestat] skip orientation RR\n",
      "[M::mem_process_seqs] Processed 90998 reads in 8.763 CPU sec, 8.511 real sec\n",
      "[M::process] read 90808 sequences (10000144 bp)...\n",
      "[M::mem_pestat] # candidate unique pairs for (FF, FR, RF, RR): (6, 38699, 3, 15)\n",
      "[M::mem_pestat] skip orientation FF as there are not enough pairs\n",
      "[M::mem_pestat] analyzing insert size distribution for orientation FR...\n",
      "[M::mem_pestat] (25, 50, 75) percentile: (6719, 7370, 8273)\n",
      "[M::mem_pestat] low and high boundaries for computing mean and std.dev: (3611, 11381)\n",
      "[M::mem_pestat] mean and std.dev: (7567.98, 1004.34)\n",
      "[M::mem_pestat] low and high boundaries for proper pairs: (2057, 12935)\n",
      "[M::mem_pestat] skip orientation RF as there are not enough pairs\n",
      "[M::mem_pestat] analyzing insert size distribution for orientation RR...\n",
      "[M::mem_pestat] (25, 50, 75) percentile: (5572, 6843, 7302)\n",
      "[M::mem_pestat] low and high boundaries for computing mean and std.dev: (2112, 10762)\n",
      "[M::mem_pestat] mean and std.dev: (6687.08, 1356.32)\n",
      "[M::mem_pestat] low and high boundaries for proper pairs: (382, 12492)\n",
      "[M::mem_pestat] skip orientation RR\n",
      "[M::mem_process_seqs] Processed 90926 reads in 8.104 CPU sec, 7.971 real sec\n",
      "[M::process] read 91060 sequences (10000057 bp)...\n",
      "[M::mem_pestat] # candidate unique pairs for (FF, FR, RF, RR): (4, 38621, 7, 12)\n",
      "[M::mem_pestat] skip orientation FF as there are not enough pairs\n",
      "[M::mem_pestat] analyzing insert size distribution for orientation FR...\n",
      "[M::mem_pestat] (25, 50, 75) percentile: (6726, 7381, 8269)\n",
      "[M::mem_pestat] low and high boundaries for computing mean and std.dev: (3640, 11355)\n",
      "[M::mem_pestat] mean and std.dev: (7572.93, 1003.45)\n",
      "[M::mem_pestat] low and high boundaries for proper pairs: (2097, 12898)\n",
      "[M::mem_pestat] skip orientation RF as there are not enough pairs\n",
      "[M::mem_pestat] analyzing insert size distribution for orientation RR...\n",
      "[M::mem_pestat] (25, 50, 75) percentile: (6059, 6429, 8952)\n",
      "[M::mem_pestat] low and high boundaries for computing mean and std.dev: (273, 14738)\n",
      "[M::mem_pestat] mean and std.dev: (7046.09, 2255.49)\n",
      "[M::mem_pestat] low and high boundaries for proper pairs: (1, 17631)\n",
      "[M::mem_pestat] skip orientation RR\n"
     ]
    },
    {
     "name": "stdout",
     "output_type": "stream",
     "text": [
      "[M::mem_process_seqs] Processed 90808 reads in 8.059 CPU sec, 7.916 real sec\n",
      "[M::process] read 91008 sequences (10000033 bp)...\n",
      "[M::mem_pestat] # candidate unique pairs for (FF, FR, RF, RR): (6, 38736, 3, 14)\n",
      "[M::mem_pestat] skip orientation FF as there are not enough pairs\n",
      "[M::mem_pestat] analyzing insert size distribution for orientation FR...\n",
      "[M::mem_pestat] (25, 50, 75) percentile: (6728, 7371, 8262)\n",
      "[M::mem_pestat] low and high boundaries for computing mean and std.dev: (3660, 11330)\n",
      "[M::mem_pestat] mean and std.dev: (7573.30, 1002.11)\n",
      "[M::mem_pestat] low and high boundaries for proper pairs: (2126, 12864)\n",
      "[M::mem_pestat] skip orientation RF as there are not enough pairs\n",
      "[M::mem_pestat] analyzing insert size distribution for orientation RR...\n",
      "[M::mem_pestat] (25, 50, 75) percentile: (3266, 6292, 7135)\n",
      "[M::mem_pestat] low and high boundaries for computing mean and std.dev: (1, 14873)\n",
      "[M::mem_pestat] mean and std.dev: (5026.93, 2431.01)\n",
      "[M::mem_pestat] low and high boundaries for proper pairs: (1, 18742)\n",
      "[M::mem_pestat] skip orientation RR\n",
      "[M::mem_process_seqs] Processed 91060 reads in 8.022 CPU sec, 7.913 real sec\n",
      "[M::process] read 90922 sequences (10000070 bp)...\n",
      "[M::mem_pestat] # candidate unique pairs for (FF, FR, RF, RR): (12, 38728, 8, 11)\n",
      "[M::mem_pestat] analyzing insert size distribution for orientation FF...\n",
      "[M::mem_pestat] (25, 50, 75) percentile: (1543, 2417, 4249)\n",
      "[M::mem_pestat] low and high boundaries for computing mean and std.dev: (1, 9661)\n",
      "[M::mem_pestat] mean and std.dev: (2934.75, 2261.82)\n",
      "[M::mem_pestat] low and high boundaries for proper pairs: (1, 12367)\n",
      "[M::mem_pestat] analyzing insert size distribution for orientation FR...\n",
      "[M::mem_pestat] (25, 50, 75) percentile: (6722, 7366, 8258)\n",
      "[M::mem_pestat] low and high boundaries for computing mean and std.dev: (3650, 11330)\n",
      "[M::mem_pestat] mean and std.dev: (7565.90, 1001.13)\n",
      "[M::mem_pestat] low and high boundaries for proper pairs: (2114, 12866)\n",
      "[M::mem_pestat] skip orientation RF as there are not enough pairs\n",
      "[M::mem_pestat] analyzing insert size distribution for orientation RR...\n",
      "[M::mem_pestat] (25, 50, 75) percentile: (4598, 7370, 8768)\n",
      "[M::mem_pestat] low and high boundaries for computing mean and std.dev: (1, 17108)\n",
      "[M::mem_pestat] mean and std.dev: (6071.73, 3063.55)\n",
      "[M::mem_pestat] low and high boundaries for proper pairs: (1, 21278)\n",
      "[M::mem_pestat] skip orientation FF\n",
      "[M::mem_pestat] skip orientation RR\n",
      "[M::mem_process_seqs] Processed 91008 reads in 8.077 CPU sec, 7.937 real sec\n",
      "[M::process] read 90984 sequences (10000126 bp)...\n",
      "[M::mem_pestat] # candidate unique pairs for (FF, FR, RF, RR): (4, 38600, 8, 11)\n",
      "[M::mem_pestat] skip orientation FF as there are not enough pairs\n",
      "[M::mem_pestat] analyzing insert size distribution for orientation FR...\n",
      "[M::mem_pestat] (25, 50, 75) percentile: (6712, 7366, 8259)\n",
      "[M::mem_pestat] low and high boundaries for computing mean and std.dev: (3618, 11353)\n",
      "[M::mem_pestat] mean and std.dev: (7563.06, 1007.61)\n",
      "[M::mem_pestat] low and high boundaries for proper pairs: (2071, 12900)\n",
      "[M::mem_pestat] skip orientation RF as there are not enough pairs\n",
      "[M::mem_pestat] analyzing insert size distribution for orientation RR...\n",
      "[M::mem_pestat] (25, 50, 75) percentile: (6763, 7859, 8869)\n",
      "[M::mem_pestat] low and high boundaries for computing mean and std.dev: (2551, 13081)\n",
      "[M::mem_pestat] mean and std.dev: (7445.91, 1807.70)\n",
      "[M::mem_pestat] low and high boundaries for proper pairs: (215, 15187)\n",
      "[M::mem_pestat] skip orientation RR\n",
      "[M::mem_process_seqs] Processed 90922 reads in 8.315 CPU sec, 8.168 real sec\n",
      "[M::process] read 91008 sequences (10000227 bp)...\n",
      "[M::mem_pestat] # candidate unique pairs for (FF, FR, RF, RR): (11, 38478, 2, 16)\n",
      "[M::mem_pestat] analyzing insert size distribution for orientation FF...\n",
      "[M::mem_pestat] (25, 50, 75) percentile: (5039, 6056, 6509)\n",
      "[M::mem_pestat] low and high boundaries for computing mean and std.dev: (2099, 9449)\n",
      "[M::mem_pestat] mean and std.dev: (5768.90, 1637.46)\n",
      "[M::mem_pestat] low and high boundaries for proper pairs: (1, 12319)\n",
      "[M::mem_pestat] analyzing insert size distribution for orientation FR...\n",
      "[M::mem_pestat] (25, 50, 75) percentile: (6727, 7387, 8279)\n",
      "[M::mem_pestat] low and high boundaries for computing mean and std.dev: (3623, 11383)\n",
      "[M::mem_pestat] mean and std.dev: (7578.41, 1005.60)\n",
      "[M::mem_pestat] low and high boundaries for proper pairs: (2071, 12935)\n",
      "[M::mem_pestat] skip orientation RF as there are not enough pairs\n",
      "[M::mem_pestat] analyzing insert size distribution for orientation RR...\n",
      "[M::mem_pestat] (25, 50, 75) percentile: (6424, 7555, 8290)\n",
      "[M::mem_pestat] low and high boundaries for computing mean and std.dev: (2692, 12022)\n",
      "[M::mem_pestat] mean and std.dev: (7593.69, 1166.29)\n",
      "[M::mem_pestat] low and high boundaries for proper pairs: (826, 13888)\n",
      "[M::mem_pestat] skip orientation FF\n",
      "[M::mem_pestat] skip orientation RR\n",
      "[M::mem_process_seqs] Processed 90984 reads in 8.213 CPU sec, 8.071 real sec\n",
      "[M::process] read 90926 sequences (10000048 bp)...\n",
      "[M::mem_pestat] # candidate unique pairs for (FF, FR, RF, RR): (10, 38683, 6, 13)\n",
      "[M::mem_pestat] analyzing insert size distribution for orientation FF...\n",
      "[M::mem_pestat] (25, 50, 75) percentile: (2612, 6598, 6893)\n",
      "[M::mem_pestat] low and high boundaries for computing mean and std.dev: (1, 15455)\n",
      "[M::mem_pestat] mean and std.dev: (5486.30, 2482.90)\n",
      "[M::mem_pestat] low and high boundaries for proper pairs: (1, 19736)\n",
      "[M::mem_pestat] analyzing insert size distribution for orientation FR...\n",
      "[M::mem_pestat] (25, 50, 75) percentile: (6708, 7371, 8266)\n",
      "[M::mem_pestat] low and high boundaries for computing mean and std.dev: (3592, 11382)\n",
      "[M::mem_pestat] mean and std.dev: (7563.11, 1010.92)\n",
      "[M::mem_pestat] low and high boundaries for proper pairs: (2034, 12940)\n",
      "[M::mem_pestat] skip orientation RF as there are not enough pairs\n",
      "[M::mem_pestat] analyzing insert size distribution for orientation RR...\n",
      "[M::mem_pestat] (25, 50, 75) percentile: (2632, 6910, 8461)\n",
      "[M::mem_pestat] low and high boundaries for computing mean and std.dev: (1, 20119)\n",
      "[M::mem_pestat] mean and std.dev: (5967.31, 3043.60)\n",
      "[M::mem_pestat] low and high boundaries for proper pairs: (1, 25948)\n",
      "[M::mem_pestat] skip orientation FF\n",
      "[M::mem_pestat] skip orientation RR\n",
      "[M::mem_process_seqs] Processed 91008 reads in 8.390 CPU sec, 8.249 real sec\n",
      "[M::process] read 91200 sequences (10000067 bp)...\n",
      "[M::mem_pestat] # candidate unique pairs for (FF, FR, RF, RR): (7, 38567, 5, 10)\n",
      "[M::mem_pestat] skip orientation FF as there are not enough pairs\n",
      "[M::mem_pestat] analyzing insert size distribution for orientation FR...\n",
      "[M::mem_pestat] (25, 50, 75) percentile: (6730, 7386, 8264)\n",
      "[M::mem_pestat] low and high boundaries for computing mean and std.dev: (3662, 11332)\n",
      "[M::mem_pestat] mean and std.dev: (7574.31, 999.25)\n",
      "[M::mem_pestat] low and high boundaries for proper pairs: (2128, 12866)\n",
      "[M::mem_pestat] skip orientation RF as there are not enough pairs\n",
      "[M::mem_pestat] analyzing insert size distribution for orientation RR...\n",
      "[M::mem_pestat] (25, 50, 75) percentile: (5761, 6253, 7096)\n",
      "[M::mem_pestat] low and high boundaries for computing mean and std.dev: (3091, 9766)\n",
      "[M::mem_pestat] mean and std.dev: (6180.40, 1056.41)\n",
      "[M::mem_pestat] low and high boundaries for proper pairs: (1756, 11101)\n",
      "[M::mem_pestat] skip orientation RR\n",
      "[M::mem_process_seqs] Processed 90926 reads in 8.666 CPU sec, 8.521 real sec\n",
      "[M::process] read 90976 sequences (10000173 bp)...\n",
      "[M::mem_pestat] # candidate unique pairs for (FF, FR, RF, RR): (12, 38783, 10, 12)\n",
      "[M::mem_pestat] analyzing insert size distribution for orientation FF...\n",
      "[M::mem_pestat] (25, 50, 75) percentile: (2236, 5095, 7709)\n",
      "[M::mem_pestat] low and high boundaries for computing mean and std.dev: (1, 18655)\n",
      "[M::mem_pestat] mean and std.dev: (4668.08, 2862.51)\n",
      "[M::mem_pestat] low and high boundaries for proper pairs: (1, 24128)\n",
      "[M::mem_pestat] analyzing insert size distribution for orientation FR...\n",
      "[M::mem_pestat] (25, 50, 75) percentile: (6717, 7375, 8275)\n",
      "[M::mem_pestat] low and high boundaries for computing mean and std.dev: (3601, 11391)\n",
      "[M::mem_pestat] mean and std.dev: (7573.11, 1010.10)\n",
      "[M::mem_pestat] low and high boundaries for proper pairs: (2043, 12949)\n",
      "[M::mem_pestat] analyzing insert size distribution for orientation RF...\n",
      "[M::mem_pestat] (25, 50, 75) percentile: (3496, 4948, 8052)\n",
      "[M::mem_pestat] low and high boundaries for computing mean and std.dev: (1, 17164)\n",
      "[M::mem_pestat] mean and std.dev: (5071.60, 2550.40)\n",
      "[M::mem_pestat] low and high boundaries for proper pairs: (1, 21720)\n",
      "[M::mem_pestat] analyzing insert size distribution for orientation RR...\n",
      "[M::mem_pestat] (25, 50, 75) percentile: (6513, 7370, 7656)\n",
      "[M::mem_pestat] low and high boundaries for computing mean and std.dev: (4227, 9942)\n",
      "[M::mem_pestat] mean and std.dev: (7399.00, 602.03)\n",
      "[M::mem_pestat] low and high boundaries for proper pairs: (3084, 11085)\n",
      "[M::mem_pestat] skip orientation FF\n",
      "[M::mem_pestat] skip orientation RF\n",
      "[M::mem_pestat] skip orientation RR\n"
     ]
    },
    {
     "name": "stdout",
     "output_type": "stream",
     "text": [
      "[M::mem_process_seqs] Processed 91200 reads in 8.447 CPU sec, 8.300 real sec\n",
      "[M::process] read 90990 sequences (10000033 bp)...\n",
      "[M::mem_pestat] # candidate unique pairs for (FF, FR, RF, RR): (2, 38765, 5, 8)\n",
      "[M::mem_pestat] skip orientation FF as there are not enough pairs\n",
      "[M::mem_pestat] analyzing insert size distribution for orientation FR...\n",
      "[M::mem_pestat] (25, 50, 75) percentile: (6724, 7380, 8262)\n",
      "[M::mem_pestat] low and high boundaries for computing mean and std.dev: (3648, 11338)\n",
      "[M::mem_pestat] mean and std.dev: (7570.40, 1002.62)\n",
      "[M::mem_pestat] low and high boundaries for proper pairs: (2110, 12876)\n",
      "[M::mem_pestat] skip orientation RF as there are not enough pairs\n",
      "[M::mem_pestat] skip orientation RR as there are not enough pairs\n",
      "[M::mem_process_seqs] Processed 90976 reads in 9.602 CPU sec, 9.454 real sec\n",
      "[M::process] read 90768 sequences (10000140 bp)...\n",
      "[M::mem_pestat] # candidate unique pairs for (FF, FR, RF, RR): (9, 38728, 5, 7)\n",
      "[M::mem_pestat] skip orientation FF as there are not enough pairs\n",
      "[M::mem_pestat] analyzing insert size distribution for orientation FR...\n",
      "[M::mem_pestat] (25, 50, 75) percentile: (6717, 7364, 8257)\n",
      "[M::mem_pestat] low and high boundaries for computing mean and std.dev: (3637, 11337)\n",
      "[M::mem_pestat] mean and std.dev: (7565.45, 1006.05)\n",
      "[M::mem_pestat] low and high boundaries for proper pairs: (2097, 12877)\n",
      "[M::mem_pestat] skip orientation RF as there are not enough pairs\n",
      "[M::mem_pestat] skip orientation RR as there are not enough pairs\n",
      "[M::mem_process_seqs] Processed 90990 reads in 9.022 CPU sec, 8.924 real sec\n",
      "[M::process] read 90718 sequences (10000111 bp)...\n",
      "[M::mem_pestat] # candidate unique pairs for (FF, FR, RF, RR): (5, 38547, 9, 12)\n",
      "[M::mem_pestat] skip orientation FF as there are not enough pairs\n",
      "[M::mem_pestat] analyzing insert size distribution for orientation FR...\n",
      "[M::mem_pestat] (25, 50, 75) percentile: (6719, 7370, 8252)\n",
      "[M::mem_pestat] low and high boundaries for computing mean and std.dev: (3653, 11318)\n",
      "[M::mem_pestat] mean and std.dev: (7561.33, 1001.37)\n",
      "[M::mem_pestat] low and high boundaries for proper pairs: (2120, 12851)\n",
      "[M::mem_pestat] skip orientation RF as there are not enough pairs\n",
      "[M::mem_pestat] analyzing insert size distribution for orientation RR...\n",
      "[M::mem_pestat] (25, 50, 75) percentile: (6174, 7033, 8694)\n",
      "[M::mem_pestat] low and high boundaries for computing mean and std.dev: (1134, 13734)\n",
      "[M::mem_pestat] mean and std.dev: (6605.00, 2224.57)\n",
      "[M::mem_pestat] low and high boundaries for proper pairs: (1, 16254)\n",
      "[M::mem_pestat] skip orientation RR\n",
      "[M::mem_process_seqs] Processed 90768 reads in 10.017 CPU sec, 9.904 real sec\n",
      "[M::process] read 90900 sequences (10000148 bp)...\n",
      "[M::mem_pestat] # candidate unique pairs for (FF, FR, RF, RR): (9, 38594, 2, 8)\n",
      "[M::mem_pestat] skip orientation FF as there are not enough pairs\n",
      "[M::mem_pestat] analyzing insert size distribution for orientation FR...\n",
      "[M::mem_pestat] (25, 50, 75) percentile: (6718, 7379, 8263)\n",
      "[M::mem_pestat] low and high boundaries for computing mean and std.dev: (3628, 11353)\n",
      "[M::mem_pestat] mean and std.dev: (7568.41, 1002.90)\n",
      "[M::mem_pestat] low and high boundaries for proper pairs: (2083, 12898)\n",
      "[M::mem_pestat] skip orientation RF as there are not enough pairs\n",
      "[M::mem_pestat] skip orientation RR as there are not enough pairs\n",
      "[M::mem_process_seqs] Processed 90718 reads in 9.179 CPU sec, 8.951 real sec\n",
      "[M::process] read 91014 sequences (10000079 bp)...\n",
      "[M::mem_pestat] # candidate unique pairs for (FF, FR, RF, RR): (9, 38646, 2, 14)\n",
      "[M::mem_pestat] skip orientation FF as there are not enough pairs\n",
      "[M::mem_pestat] analyzing insert size distribution for orientation FR...\n",
      "[M::mem_pestat] (25, 50, 75) percentile: (6724, 7369, 8266)\n",
      "[M::mem_pestat] low and high boundaries for computing mean and std.dev: (3640, 11350)\n",
      "[M::mem_pestat] mean and std.dev: (7568.14, 1007.15)\n",
      "[M::mem_pestat] low and high boundaries for proper pairs: (2098, 12892)\n",
      "[M::mem_pestat] skip orientation RF as there are not enough pairs\n",
      "[M::mem_pestat] analyzing insert size distribution for orientation RR...\n",
      "[M::mem_pestat] (25, 50, 75) percentile: (2250, 5899, 7627)\n",
      "[M::mem_pestat] low and high boundaries for computing mean and std.dev: (1, 18381)\n",
      "[M::mem_pestat] mean and std.dev: (4863.00, 2971.44)\n",
      "[M::mem_pestat] low and high boundaries for proper pairs: (1, 23758)\n",
      "[M::mem_pestat] skip orientation RR\n",
      "[M::mem_process_seqs] Processed 90900 reads in 8.477 CPU sec, 8.330 real sec\n",
      "[M::process] read 90772 sequences (10000151 bp)...\n",
      "[M::mem_pestat] # candidate unique pairs for (FF, FR, RF, RR): (10, 38651, 4, 16)\n",
      "[M::mem_pestat] analyzing insert size distribution for orientation FF...\n",
      "[M::mem_pestat] (25, 50, 75) percentile: (956, 6935, 7345)\n",
      "[M::mem_pestat] low and high boundaries for computing mean and std.dev: (1, 20123)\n",
      "[M::mem_pestat] mean and std.dev: (4306.90, 3084.02)\n",
      "[M::mem_pestat] low and high boundaries for proper pairs: (1, 26512)\n",
      "[M::mem_pestat] analyzing insert size distribution for orientation FR...\n",
      "[M::mem_pestat] (25, 50, 75) percentile: (6720, 7378, 8271)\n",
      "[M::mem_pestat] low and high boundaries for computing mean and std.dev: (3618, 11373)\n",
      "[M::mem_pestat] mean and std.dev: (7570.78, 1006.01)\n",
      "[M::mem_pestat] low and high boundaries for proper pairs: (2067, 12924)\n",
      "[M::mem_pestat] skip orientation RF as there are not enough pairs\n",
      "[M::mem_pestat] analyzing insert size distribution for orientation RR...\n",
      "[M::mem_pestat] (25, 50, 75) percentile: (2795, 6456, 8158)\n",
      "[M::mem_pestat] low and high boundaries for computing mean and std.dev: (1, 18884)\n",
      "[M::mem_pestat] mean and std.dev: (5224.69, 2742.92)\n",
      "[M::mem_pestat] low and high boundaries for proper pairs: (1, 24247)\n",
      "[M::mem_pestat] skip orientation FF\n",
      "[M::mem_pestat] skip orientation RR\n",
      "[M::mem_process_seqs] Processed 91014 reads in 7.898 CPU sec, 7.762 real sec\n",
      "[M::process] read 91006 sequences (10000145 bp)...\n",
      "[M::mem_pestat] # candidate unique pairs for (FF, FR, RF, RR): (10, 38412, 2, 7)\n",
      "[M::mem_pestat] analyzing insert size distribution for orientation FF...\n",
      "[M::mem_pestat] (25, 50, 75) percentile: (1875, 6254, 8928)\n",
      "[M::mem_pestat] low and high boundaries for computing mean and std.dev: (1, 23034)\n",
      "[M::mem_pestat] mean and std.dev: (5484.40, 3513.33)\n",
      "[M::mem_pestat] low and high boundaries for proper pairs: (1, 30087)\n",
      "[M::mem_pestat] analyzing insert size distribution for orientation FR...\n",
      "[M::mem_pestat] (25, 50, 75) percentile: (6726, 7369, 8257)\n",
      "[M::mem_pestat] low and high boundaries for computing mean and std.dev: (3664, 11319)\n",
      "[M::mem_pestat] mean and std.dev: (7570.66, 1005.00)\n",
      "[M::mem_pestat] low and high boundaries for proper pairs: (2133, 12850)\n",
      "[M::mem_pestat] skip orientation RF as there are not enough pairs\n",
      "[M::mem_pestat] skip orientation RR as there are not enough pairs\n",
      "[M::mem_pestat] skip orientation FF\n",
      "[M::mem_process_seqs] Processed 90772 reads in 7.917 CPU sec, 7.788 real sec\n",
      "[M::process] read 90710 sequences (10000062 bp)...\n",
      "[M::mem_pestat] # candidate unique pairs for (FF, FR, RF, RR): (8, 38747, 8, 10)\n",
      "[M::mem_pestat] skip orientation FF as there are not enough pairs\n",
      "[M::mem_pestat] analyzing insert size distribution for orientation FR...\n",
      "[M::mem_pestat] (25, 50, 75) percentile: (6722, 7372, 8258)\n",
      "[M::mem_pestat] low and high boundaries for computing mean and std.dev: (3650, 11330)\n",
      "[M::mem_pestat] mean and std.dev: (7565.63, 1000.16)\n",
      "[M::mem_pestat] low and high boundaries for proper pairs: (2114, 12866)\n",
      "[M::mem_pestat] skip orientation RF as there are not enough pairs\n",
      "[M::mem_pestat] analyzing insert size distribution for orientation RR...\n",
      "[M::mem_pestat] (25, 50, 75) percentile: (5489, 6609, 7415)\n",
      "[M::mem_pestat] low and high boundaries for computing mean and std.dev: (1637, 11267)\n",
      "[M::mem_pestat] mean and std.dev: (6704.40, 1670.63)\n",
      "[M::mem_pestat] low and high boundaries for proper pairs: (1, 13387)\n",
      "[M::mem_pestat] skip orientation RR\n",
      "[M::mem_process_seqs] Processed 91006 reads in 7.848 CPU sec, 7.727 real sec\n",
      "[M::process] read 90896 sequences (10000104 bp)...\n",
      "[M::mem_pestat] # candidate unique pairs for (FF, FR, RF, RR): (7, 38559, 5, 12)\n",
      "[M::mem_pestat] skip orientation FF as there are not enough pairs\n",
      "[M::mem_pestat] analyzing insert size distribution for orientation FR...\n"
     ]
    },
    {
     "name": "stdout",
     "output_type": "stream",
     "text": [
      "[M::mem_pestat] (25, 50, 75) percentile: (6728, 7377, 8272)\n",
      "[M::mem_pestat] low and high boundaries for computing mean and std.dev: (3640, 11360)\n",
      "[M::mem_pestat] mean and std.dev: (7573.34, 1002.53)\n",
      "[M::mem_pestat] low and high boundaries for proper pairs: (2096, 12904)\n",
      "[M::mem_pestat] skip orientation RF as there are not enough pairs\n",
      "[M::mem_pestat] analyzing insert size distribution for orientation RR...\n",
      "[M::mem_pestat] (25, 50, 75) percentile: (5452, 7077, 7926)\n",
      "[M::mem_pestat] low and high boundaries for computing mean and std.dev: (504, 12874)\n",
      "[M::mem_pestat] mean and std.dev: (6328.73, 2228.32)\n",
      "[M::mem_pestat] low and high boundaries for proper pairs: (1, 15348)\n",
      "[M::mem_pestat] skip orientation RR\n",
      "[M::mem_process_seqs] Processed 90710 reads in 8.087 CPU sec, 7.903 real sec\n",
      "[M::process] read 90936 sequences (10000054 bp)...\n",
      "[M::mem_pestat] # candidate unique pairs for (FF, FR, RF, RR): (10, 38597, 6, 5)\n",
      "[M::mem_pestat] analyzing insert size distribution for orientation FF...\n",
      "[M::mem_pestat] (25, 50, 75) percentile: (1786, 3627, 6043)\n",
      "[M::mem_pestat] low and high boundaries for computing mean and std.dev: (1, 14557)\n",
      "[M::mem_pestat] mean and std.dev: (3954.20, 2553.03)\n",
      "[M::mem_pestat] low and high boundaries for proper pairs: (1, 18814)\n",
      "[M::mem_pestat] analyzing insert size distribution for orientation FR...\n",
      "[M::mem_pestat] (25, 50, 75) percentile: (6724, 7366, 8270)\n",
      "[M::mem_pestat] low and high boundaries for computing mean and std.dev: (3632, 11362)\n",
      "[M::mem_pestat] mean and std.dev: (7568.11, 1005.60)\n",
      "[M::mem_pestat] low and high boundaries for proper pairs: (2086, 12908)\n",
      "[M::mem_pestat] skip orientation RF as there are not enough pairs\n",
      "[M::mem_pestat] skip orientation RR as there are not enough pairs\n",
      "[M::mem_pestat] skip orientation FF\n",
      "[M::mem_process_seqs] Processed 90896 reads in 7.976 CPU sec, 7.839 real sec\n",
      "[M::process] read 90834 sequences (10000079 bp)...\n",
      "[M::mem_pestat] # candidate unique pairs for (FF, FR, RF, RR): (7, 38724, 8, 15)\n",
      "[M::mem_pestat] skip orientation FF as there are not enough pairs\n",
      "[M::mem_pestat] analyzing insert size distribution for orientation FR...\n",
      "[M::mem_pestat] (25, 50, 75) percentile: (6723, 7381, 8271)\n",
      "[M::mem_pestat] low and high boundaries for computing mean and std.dev: (3627, 11367)\n",
      "[M::mem_pestat] mean and std.dev: (7570.48, 1013.10)\n",
      "[M::mem_pestat] low and high boundaries for proper pairs: (2079, 12915)\n",
      "[M::mem_pestat] skip orientation RF as there are not enough pairs\n",
      "[M::mem_pestat] analyzing insert size distribution for orientation RR...\n",
      "[M::mem_pestat] (25, 50, 75) percentile: (6108, 7022, 8213)\n",
      "[M::mem_pestat] low and high boundaries for computing mean and std.dev: (1898, 12423)\n",
      "[M::mem_pestat] mean and std.dev: (6548.43, 2156.67)\n",
      "[M::mem_pestat] low and high boundaries for proper pairs: (1, 15175)\n",
      "[M::mem_pestat] skip orientation RR\n",
      "[M::mem_process_seqs] Processed 90936 reads in 8.004 CPU sec, 7.842 real sec\n",
      "[M::process] read 90934 sequences (10000134 bp)...\n",
      "[M::mem_pestat] # candidate unique pairs for (FF, FR, RF, RR): (4, 38737, 11, 8)\n",
      "[M::mem_pestat] skip orientation FF as there are not enough pairs\n",
      "[M::mem_pestat] analyzing insert size distribution for orientation FR...\n",
      "[M::mem_pestat] (25, 50, 75) percentile: (6719, 7366, 8263)\n",
      "[M::mem_pestat] low and high boundaries for computing mean and std.dev: (3631, 11351)\n",
      "[M::mem_pestat] mean and std.dev: (7567.09, 1003.93)\n",
      "[M::mem_pestat] low and high boundaries for proper pairs: (2087, 12895)\n",
      "[M::mem_pestat] analyzing insert size distribution for orientation RF...\n",
      "[M::mem_pestat] (25, 50, 75) percentile: (2028, 3543, 5086)\n",
      "[M::mem_pestat] low and high boundaries for computing mean and std.dev: (1, 11202)\n",
      "[M::mem_pestat] mean and std.dev: (3352.55, 2026.23)\n",
      "[M::mem_pestat] low and high boundaries for proper pairs: (1, 14260)\n",
      "[M::mem_pestat] skip orientation RR as there are not enough pairs\n",
      "[M::mem_pestat] skip orientation RF\n",
      "[M::mem_process_seqs] Processed 90834 reads in 7.928 CPU sec, 7.779 real sec\n",
      "[M::process] read 90928 sequences (10000108 bp)...\n",
      "[M::mem_pestat] # candidate unique pairs for (FF, FR, RF, RR): (7, 38567, 7, 13)\n",
      "[M::mem_pestat] skip orientation FF as there are not enough pairs\n",
      "[M::mem_pestat] analyzing insert size distribution for orientation FR...\n",
      "[M::mem_pestat] (25, 50, 75) percentile: (6725, 7377, 8277)\n",
      "[M::mem_pestat] low and high boundaries for computing mean and std.dev: (3621, 11381)\n",
      "[M::mem_pestat] mean and std.dev: (7572.50, 1007.76)\n",
      "[M::mem_pestat] low and high boundaries for proper pairs: (2069, 12933)\n",
      "[M::mem_pestat] skip orientation RF as there are not enough pairs\n",
      "[M::mem_pestat] analyzing insert size distribution for orientation RR...\n",
      "[M::mem_pestat] (25, 50, 75) percentile: (6156, 7275, 8164)\n",
      "[M::mem_pestat] low and high boundaries for computing mean and std.dev: (2140, 12180)\n",
      "[M::mem_pestat] mean and std.dev: (7422.82, 1132.73)\n",
      "[M::mem_pestat] low and high boundaries for proper pairs: (132, 14188)\n",
      "[M::mem_pestat] skip orientation RR\n",
      "[M::mem_process_seqs] Processed 90934 reads in 9.587 CPU sec, 9.433 real sec\n",
      "[M::process] read 91086 sequences (10000164 bp)...\n",
      "[M::mem_pestat] # candidate unique pairs for (FF, FR, RF, RR): (10, 38575, 5, 7)\n",
      "[M::mem_pestat] analyzing insert size distribution for orientation FF...\n",
      "[M::mem_pestat] (25, 50, 75) percentile: (2850, 5384, 8324)\n",
      "[M::mem_pestat] low and high boundaries for computing mean and std.dev: (1, 19272)\n",
      "[M::mem_pestat] mean and std.dev: (5103.70, 2929.05)\n",
      "[M::mem_pestat] low and high boundaries for proper pairs: (1, 24746)\n",
      "[M::mem_pestat] analyzing insert size distribution for orientation FR...\n",
      "[M::mem_pestat] (25, 50, 75) percentile: (6725, 7370, 8258)\n",
      "[M::mem_pestat] low and high boundaries for computing mean and std.dev: (3659, 11324)\n",
      "[M::mem_pestat] mean and std.dev: (7566.00, 999.83)\n",
      "[M::mem_pestat] low and high boundaries for proper pairs: (2126, 12857)\n",
      "[M::mem_pestat] skip orientation RF as there are not enough pairs\n",
      "[M::mem_pestat] skip orientation RR as there are not enough pairs\n",
      "[M::mem_pestat] skip orientation FF\n",
      "[M::mem_process_seqs] Processed 90928 reads in 8.731 CPU sec, 8.562 real sec\n",
      "[M::process] read 42284 sequences (4642071 bp)...\n",
      "[M::mem_pestat] # candidate unique pairs for (FF, FR, RF, RR): (12, 38744, 5, 9)\n",
      "[M::mem_pestat] analyzing insert size distribution for orientation FF...\n",
      "[M::mem_pestat] (25, 50, 75) percentile: (4399, 5789, 7468)\n",
      "[M::mem_pestat] low and high boundaries for computing mean and std.dev: (1, 13606)\n",
      "[M::mem_pestat] mean and std.dev: (5247.42, 2851.65)\n",
      "[M::mem_pestat] low and high boundaries for proper pairs: (1, 16675)\n",
      "[M::mem_pestat] analyzing insert size distribution for orientation FR...\n",
      "[M::mem_pestat] (25, 50, 75) percentile: (6727, 7379, 8274)\n",
      "[M::mem_pestat] low and high boundaries for computing mean and std.dev: (3633, 11368)\n",
      "[M::mem_pestat] mean and std.dev: (7575.77, 1005.71)\n",
      "[M::mem_pestat] low and high boundaries for proper pairs: (2086, 12915)\n",
      "[M::mem_pestat] skip orientation RF as there are not enough pairs\n",
      "[M::mem_pestat] skip orientation RR as there are not enough pairs\n",
      "[M::mem_pestat] skip orientation FF\n",
      "[M::mem_process_seqs] Processed 91086 reads in 8.171 CPU sec, 8.054 real sec\n",
      "[M::mem_pestat] # candidate unique pairs for (FF, FR, RF, RR): (5, 17887, 8, 5)\n",
      "[M::mem_pestat] skip orientation FF as there are not enough pairs\n",
      "[M::mem_pestat] analyzing insert size distribution for orientation FR...\n",
      "[M::mem_pestat] (25, 50, 75) percentile: (6724, 7368, 8266)\n",
      "[M::mem_pestat] low and high boundaries for computing mean and std.dev: (3640, 11350)\n",
      "[M::mem_pestat] mean and std.dev: (7563.40, 1008.52)\n",
      "[M::mem_pestat] low and high boundaries for proper pairs: (2098, 12892)\n",
      "[M::mem_pestat] skip orientation RF as there are not enough pairs\n",
      "[M::mem_pestat] skip orientation RR as there are not enough pairs\n",
      "[M::mem_process_seqs] Processed 42284 reads in 4.358 CPU sec, 4.280 real sec\n",
      "[main] Version: 0.7.17-r1188\n",
      "[main] CMD: bwa mem -v 3 data/B.faecium/ref.fasta data/B.faecium/jump.R1.fastq data/B.faecium/jump.R2.fastq\n",
      "[main] Real time: 392.094 sec; CPU: 398.721 sec\n"
     ]
    }
   ],
   "source": [
    "!bwa mem -v 3 data/B.faecium/ref.fasta data/B.faecium/jump.R1.fastq data/B.faecium/jump.R2.fastq > jump.sam"
   ]
  },
  {
   "cell_type": "code",
   "execution_count": 8,
   "metadata": {},
   "outputs": [
    {
     "name": "stdout",
     "output_type": "stream",
     "text": [
      "[bam_sort_core] merging from 1 files and 1 in-memory blocks...\r\n"
     ]
    }
   ],
   "source": [
    "!samtools view -S -b frag.sam | samtools sort - -o frag.bam"
   ]
  },
  {
   "cell_type": "code",
   "execution_count": 9,
   "metadata": {},
   "outputs": [
    {
     "name": "stdout",
     "output_type": "stream",
     "text": [
      "[bam_sort_core] merging from 1 files and 1 in-memory blocks...\r\n"
     ]
    }
   ],
   "source": [
    "!samtools view -S -b jump.sam | samtools sort - -o jump.bam"
   ]
  },
  {
   "cell_type": "code",
   "execution_count": 10,
   "metadata": {},
   "outputs": [
    {
     "name": "stdout",
     "output_type": "stream",
     "text": [
      "3432529 + 0 in total (QC-passed reads + QC-failed reads)\r\n",
      "0 + 0 secondary\r\n",
      "165 + 0 supplementary\r\n",
      "0 + 0 duplicates\r\n",
      "3424657 + 0 mapped (99.77% : N/A)\r\n",
      "3432364 + 0 paired in sequencing\r\n",
      "1716182 + 0 read1\r\n",
      "1716182 + 0 read2\r\n",
      "3407384 + 0 properly paired (99.27% : N/A)\r\n",
      "3416620 + 0 with itself and mate mapped\r\n",
      "7872 + 0 singletons (0.23% : N/A)\r\n",
      "0 + 0 with mate mapped to a different chr\r\n",
      "0 + 0 with mate mapped to a different chr (mapQ>=5)\r\n"
     ]
    }
   ],
   "source": [
    "# 99.77% приложились\n",
    "!samtools flagstat frag.bam"
   ]
  },
  {
   "cell_type": "code",
   "execution_count": 11,
   "metadata": {},
   "outputs": [
    {
     "name": "stdout",
     "output_type": "stream",
     "text": [
      "4328969 + 0 in total (QC-passed reads + QC-failed reads)\r\n",
      "0 + 0 secondary\r\n",
      "13369 + 0 supplementary\r\n",
      "0 + 0 duplicates\r\n",
      "4279501 + 0 mapped (98.86% : N/A)\r\n",
      "4315600 + 0 paired in sequencing\r\n",
      "2157800 + 0 read1\r\n",
      "2157800 + 0 read2\r\n",
      "3764298 + 0 properly paired (87.23% : N/A)\r\n",
      "4216854 + 0 with itself and mate mapped\r\n",
      "49278 + 0 singletons (1.14% : N/A)\r\n",
      "0 + 0 with mate mapped to a different chr\r\n",
      "0 + 0 with mate mapped to a different chr (mapQ>=5)\r\n"
     ]
    }
   ],
   "source": [
    "# 98.86%\n",
    "!samtools flagstat jump.bam"
   ]
  },
  {
   "cell_type": "markdown",
   "metadata": {},
   "source": [
    "## 1"
   ]
  },
  {
   "cell_type": "code",
   "execution_count": 3,
   "metadata": {},
   "outputs": [],
   "source": [
    "def SAM_coverage(fasta, sam):\n",
    "    \n",
    "    with open(fasta) as file:\n",
    "        ref_length = sum([len(line.strip()) for line in file if not line.startswith('>')])\n",
    "        \n",
    "    coverage = np.zeros(ref_length)\n",
    "    \n",
    "    with open(sam) as file:\n",
    "        for i, line in enumerate(file):\n",
    "            if line.startswith('@'):\n",
    "                continue\n",
    "            data = line.strip().split()\n",
    "            start = int(data[3])\n",
    "            read_length = len(data[9])\n",
    "            end = min(start + read_length - 1, ref_length - 1)\n",
    "            coverage[start : end] += 1\n",
    "\n",
    "    return coverage"
   ]
  },
  {
   "cell_type": "code",
   "execution_count": 31,
   "metadata": {},
   "outputs": [],
   "source": [
    "coverage = SAM_coverage('data/B.faecium/ref.fasta', 'frag.sam')\n",
    "n = len(coverage)\n",
    "avg_coverage = coverage.mean()\n",
    "reference_coverage = np.where(coverage > 0)[0].shape[0] / n * 100\n",
    "print(f'mean coverage = {avg_coverage:.2f}')\n",
    "print(f'position coverage = {reference_coverage:.2f}')"
   ]
  },
  {
   "cell_type": "code",
   "execution_count": 97,
   "metadata": {},
   "outputs": [
    {
     "data": {
      "text/plain": [
       "Text(0.5, 1.0, 'Покрытие')"
      ]
     },
     "execution_count": 97,
     "metadata": {},
     "output_type": "execute_result"
    },
    {
     "data": {
      "image/png": "[encoded data removed]",
      "text/plain": [
       "<Figure size 1080x216 with 1 Axes>"
      ]
     },
     "metadata": {
      "needs_background": "light"
     },
     "output_type": "display_data"
    }
   ],
   "source": [
    "step = 10000\n",
    "\n",
    "x_axis = [i * step for i in range(0, int(n / step))]\n",
    "y = [np.mean(coverage[i : i + step]) for i in x_axis]\n",
    "\n",
    "# я не могу подобрать дурацкие width\n",
    "plt.figure(figsize=(15, 3))\n",
    "plt.bar(x_axis, y, width=[5000] * len(y))\n",
    "plt.xlabel('Позиции')\n",
    "plt.ylabel('Среднееокрытие')\n",
    "plt.title('Покрытие')"
   ]
  },
  {
   "cell_type": "code",
   "execution_count": 98,
   "metadata": {},
   "outputs": [
    {
     "name": "stdout",
     "output_type": "stream",
     "text": [
      "mean coverage = 130.28\n",
      "position coverage = 100.00\n"
     ]
    }
   ],
   "source": [
    "coverage = SAM_coverage('data/B.faecium/ref.fasta', 'jump.sam')\n",
    "n = len(coverage)\n",
    "avg_coverage = coverage.mean()\n",
    "reference_coverage = np.where(coverage > 0)[0].shape[0] / n * 100\n",
    "print(f'mean coverage = {avg_coverage:.2f}')\n",
    "print(f'position coverage = {reference_coverage:.2f}')"
   ]
  },
  {
   "cell_type": "code",
   "execution_count": 99,
   "metadata": {},
   "outputs": [
    {
     "data": {
      "text/plain": [
       "Text(0.5, 1.0, 'Покрытие')"
      ]
     },
     "execution_count": 99,
     "metadata": {},
     "output_type": "execute_result"
    },
    {
     "data": {
      "image/png": "[encoded data removed]",
      "text/plain": [
       "<Figure size 1080x216 with 1 Axes>"
      ]
     },
     "metadata": {
      "needs_background": "light"
     },
     "output_type": "display_data"
    }
   ],
   "source": [
    "step = 10000\n",
    "\n",
    "x_axis = [i * step for i in range(0, int(n / step))]\n",
    "y = [np.mean(coverage[i : i + step]) for i in x_axis]\n",
    "\n",
    "# я не могу подобрать дурацкие width\n",
    "plt.figure(figsize=(15, 3))\n",
    "plt.bar(x_axis, y, width=[5000] * len(y))\n",
    "plt.xlabel('Позиции')\n",
    "plt.ylabel('Среднееокрытие')\n",
    "plt.title('Покрытие')"
   ]
  },
  {
   "cell_type": "markdown",
   "metadata": {},
   "source": [
    "## 2"
   ]
  },
  {
   "cell_type": "code",
   "execution_count": 4,
   "metadata": {},
   "outputs": [],
   "source": [
    "def insertion_distance(sam):\n",
    "    distances = []\n",
    "    \n",
    "    with open(sam) as file:\n",
    "        for i, line in enumerate(file):\n",
    "            if line.startswith('@'):\n",
    "                continue\n",
    "            data = line.strip().split()\n",
    "            insertion = int(data[8])\n",
    "            if insertion <= 0:\n",
    "                continue\n",
    "            distances.append(insertion)\n",
    "    return distances"
   ]
  },
  {
   "cell_type": "code",
   "execution_count": 107,
   "metadata": {},
   "outputs": [],
   "source": [
    "distances = insertion_distance('frag.sam')"
   ]
  },
  {
   "cell_type": "code",
   "execution_count": 108,
   "metadata": {},
   "outputs": [
    {
     "name": "stdout",
     "output_type": "stream",
     "text": [
      "With extreme values: mean=2372.5621806589907, std=63457.558974676875\n"
     ]
    }
   ],
   "source": [
    "mean = np.mean(distances)\n",
    "std = np.std(distances)\n",
    "print(f'mean = {mean}, std = {std}')"
   ]
  },
  {
   "cell_type": "code",
   "execution_count": 139,
   "metadata": {},
   "outputs": [
    {
     "name": "stdout",
     "output_type": "stream",
     "text": [
      "for used distances mean = 269.58521460717924, std = 64.3929893374047\n"
     ]
    },
    {
     "data": {
      "text/plain": [
       "Text(0, 0.5, 'Кол-во ридов')"
      ]
     },
     "execution_count": 139,
     "metadata": {},
     "output_type": "execute_result"
    },
    {
     "data": {
      "image/png": "[encoded data removed]",
      "text/plain": [
       "<Figure size 432x288 with 1 Axes>"
      ]
     },
     "metadata": {
      "needs_background": "light"
     },
     "output_type": "display_data"
    }
   ],
   "source": [
    "# если берем все расстояния, то график ниоч\n",
    "distances = [dist for dist in distances if dist <= 600]\n",
    "mean = np.mean(distances)\n",
    "std = np.std(distances)\n",
    "print(f'for used distances mean = {mean}, std = {std}')\n",
    "\n",
    "cnt = Counter(distances)\n",
    "x, y = [], []\n",
    "for key in sorted(cnt.keys()):\n",
    "    x.append(key)\n",
    "    y.append(cnt[key])\n",
    "plt.plot(x, y)\n",
    "plt.xlabel('Расстояние вставки')\n",
    "plt.ylabel('Кол-во ридов')"
   ]
  },
  {
   "cell_type": "code",
   "execution_count": 145,
   "metadata": {},
   "outputs": [
    {
     "name": "stdout",
     "output_type": "stream",
     "text": [
      "mean = 125215.29793333063, std = 463798.2919784304\n"
     ]
    }
   ],
   "source": [
    "distances = insertion_distance('jump.sam')\n",
    "mean = np.mean(distances)\n",
    "std = np.std(distances)\n",
    "print(f'mean = {mean}, std = {std}')"
   ]
  },
  {
   "cell_type": "code",
   "execution_count": 146,
   "metadata": {
    "scrolled": false
   },
   "outputs": [
    {
     "name": "stdout",
     "output_type": "stream",
     "text": [
      "for used distances mean = 7453.38156533642, std = 1437.1836931826424\n"
     ]
    },
    {
     "data": {
      "text/plain": [
       "Text(0, 0.5, 'Кол-во ридов')"
      ]
     },
     "execution_count": 146,
     "metadata": {},
     "output_type": "execute_result"
    },
    {
     "data": {
      "image/png": "[encoded data removed]",
      "text/plain": [
       "<Figure size 432x288 with 1 Axes>"
      ]
     },
     "metadata": {
      "needs_background": "light"
     },
     "output_type": "display_data"
    }
   ],
   "source": [
    "# если берем все расстояния, то график ниоч\n",
    "distances = [dist for dist in distances if dist <= 15000]\n",
    "mean = np.mean(distances)\n",
    "std = np.std(distances)\n",
    "print(f'for used distances mean = {mean}, std = {std}')\n",
    "\n",
    "cnt = Counter(distances)\n",
    "x, y = [], []\n",
    "for key in sorted(cnt.keys()):\n",
    "    x.append(key)\n",
    "    y.append(cnt[key])\n",
    "plt.plot(x, y)\n",
    "plt.xlabel('Расстояние вставки')\n",
    "plt.ylabel('Кол-во ридов')"
   ]
  },
  {
   "cell_type": "markdown",
   "metadata": {},
   "source": [
    "## 3"
   ]
  },
  {
   "cell_type": "code",
   "execution_count": 35,
   "metadata": {},
   "outputs": [],
   "source": [
    "def sub_matrix(fasta, sam):\n",
    "    with open(fasta) as file:\n",
    "        reference = ''.join([line.strip() for line in file if not line.startswith('>')])\n",
    "    ref_length = len(reference)\n",
    "\n",
    "def substitution_matrix(fasta, sam, poly=3):\n",
    "    letters = {'A': 0, 'C': 1, 'G': 2, 'T': 3, 'N': 4}\n",
    "    \n",
    "    with open(fasta) as file:\n",
    "        reference = ''.join([line.strip() for line in file if not line.startswith('>')])\n",
    "    ref_length = len(reference)\n",
    "    \n",
    "    hp = set()\n",
    "    state = []\n",
    "    for pos, ref_position in enumerate(reference):\n",
    "        if not state or ref_position == state[-1]:\n",
    "            state.append(ref_position)\n",
    "            continue\n",
    "        len_state = len(state)\n",
    "        if len_state >= poly:\n",
    "            for i in range(0, len_state - poly + 1):\n",
    "                hp.add(pos - len_state + i)\n",
    "        state = []\n",
    "        state.append(ref_position)\n",
    "    \n",
    "    sm = np.zeros([5, 5])\n",
    "    reads_length, errors = 0, 0\n",
    "    \n",
    "    with open(sam) as file:\n",
    "        cigars = Counter()\n",
    "        insertions = Counter()\n",
    "        deletions = Counter()\n",
    "        \n",
    "        qinsertions = Counter()\n",
    "        qdeletions = Counter()\n",
    "        stats = Counter()\n",
    "        sum_cnt = Counter()\n",
    "        \n",
    "        sum_quality = Counter()\n",
    "        for i, line in enumerate(file):\n",
    "            if line.startswith('@'):\n",
    "                continue\n",
    "                \n",
    "            data = line.strip().split()\n",
    "            start = int(data[3])\n",
    "            if not start:\n",
    "                continue\n",
    "            read_length = len(data[9])\n",
    "            read = list(data[9])\n",
    "            \n",
    "            end = min(start + read_length - 1, ref_length - 1)\n",
    "            reads_length += read_length\n",
    "            reference_region = reference[start - 1 : end]\n",
    "            \n",
    "            if data[5] and data[5] != '*':\n",
    "                cigar = list(Cigar(data[5]).items())\n",
    "                cigar_str = ''.join([c * cnt for (cnt, c) in cigar])\n",
    "                for (cnt, c) in cigar:\n",
    "                    cigars[c] += cnt\n",
    "                    if c == 'I':\n",
    "                        insertions[cnt] += 1\n",
    "                    elif c == 'D':\n",
    "                        deletions[cnt] += 1\n",
    "                        \n",
    "                for k, c in enumerate(cigar_str):\n",
    "                    if c in ('D', 'H'):\n",
    "                        if c == 'D':\n",
    "                            if start + k <= ref_length:\n",
    "                                qdeletions[reference[start + k - 1]] += 1\n",
    "                    elif c == 'I':\n",
    "                        try:\n",
    "                            qinsertions[read[k]] += 1\n",
    "                        except:\n",
    "                            pass\n",
    "                \n",
    "                        \n",
    "                cigar_str = ''.join([c * cnt for (cnt, c) in cigar if c not in ('D', 'H')])\n",
    "                quality = [ord(c) - 33 for c in data[10]]\n",
    "                for k, c in enumerate(cigar_str):\n",
    "                    sum_cnt[c] += 1\n",
    "                    sum_quality[c] += quality[k]\n",
    "                        \n",
    "            for j, ref_position in enumerate(reference_region):\n",
    "\n",
    "                if ref_position != read[j]:\n",
    "                    sm[letters[read[j]], letters[ref_position]] += 1\n",
    "                    errors += 1    \n",
    "                if data[2] == '*' or data[5] == '*':\n",
    "                    continue\n",
    "                if j in hp:\n",
    "                    cigar_set = set(cigar_str[j : j + poly])\n",
    "                    for s in cigar_set:\n",
    "                        if s == 'M':\n",
    "                            if len(cigar_set) == 1:\n",
    "                                stats[s] += 1\n",
    "                        else:\n",
    "                            stats[s] += 1\n",
    "     \n",
    "    average_quality = {}\n",
    "    for i in cigars.keys():\n",
    "        average_quality[i] = 0 if not sum_cnt[i] else sum_quality[i] / sum_cnt[i]\n",
    "                \n",
    "    return sm, cigars, errors, reads_length, sorted(list(insertions.items())), sorted(list(deletions.items())), \\\n",
    "hp, stats, average_quality, qdeletions, qinsertions"
   ]
  },
  {
   "cell_type": "code",
   "execution_count": 15,
   "metadata": {},
   "outputs": [],
   "source": [
    "def homopolymers(ref, sam):\n",
    "    current_lenght = 0\n",
    "    last_base = ''\n",
    "    letters = ['A', 'T', 'G', 'C']\n",
    "    ref_hp = {key: {} for key in letters}\n",
    "    sam_hp = {key: {} for key in letters}\n",
    "    \n",
    "    with open(ref) as file:\n",
    "        reference = ''.join([line.strip() for line in file if not line.startswith('>')])\n",
    "    \n",
    "    for base in reference:\n",
    "        if base not in letters:\n",
    "            continue\n",
    "        if not current_lenght:\n",
    "            last_base = base\n",
    "            \n",
    "        if last_base == base:\n",
    "            current_lenght += 1\n",
    "            \n",
    "        elif current_lenght >= 3:\n",
    "            if current_lenght > 20:\n",
    "                current_lenght = 0\n",
    "                continue\n",
    "                \n",
    "            key = current_lenght\n",
    "            if key in ref_hp[base]:\n",
    "                ref_hp[base][key] += 1\n",
    "            else:\n",
    "                ref_hp[base][key] = 1\n",
    "            current_lenght = 0\n",
    "            \n",
    "    \n",
    "    current_lenght = 0\n",
    "    last_base = ''\n",
    "    with open(sam) as file:            \n",
    "        for i, line in enumerate(file):\n",
    "            if line.startswith('@'):\n",
    "                continue\n",
    "                \n",
    "            data = line.strip().split()\n",
    "            start = int(data[3])\n",
    "            if not start:\n",
    "                continue\n",
    "            read = list(data[9])\n",
    "            \n",
    "            for base in read:\n",
    "                if base not in letters:\n",
    "                    continue\n",
    "                    \n",
    "                if not current_lenght:\n",
    "                    last_base = base\n",
    "\n",
    "                if last_base == base:\n",
    "                    current_lenght += 1\n",
    "\n",
    "                elif current_lenght >= 3:\n",
    "                    if current_lenght > 20:\n",
    "                        current_lenght = 0\n",
    "                        continue\n",
    "                    \n",
    "                    key = current_lenght\n",
    "                    if key in sam_hp[base]:\n",
    "                        sam_hp[base][key] += 1\n",
    "                    else:\n",
    "                        sam_hp[base][key] = 1\n",
    "                    current_lenght = 0\n",
    "                \n",
    "    return ref_hp, sam_hp"
   ]
  },
  {
   "cell_type": "code",
   "execution_count": 30,
   "metadata": {},
   "outputs": [],
   "source": [
    "def plot_hp(reference, samfile):\n",
    "    fig, axes = plt.subplots(2, 2, figsize=(10, 6))\n",
    "    for ax, base in zip(axes.reshape(-1), ['A', 'T', 'G', 'C']):\n",
    "        ref = reference[base]\n",
    "        sam = samfile[base]\n",
    "    #     ref_max = sum(reference[base].values())\n",
    "    #     sam_max = sum(samfile[base].values())\n",
    "\n",
    "        lists_ref = sorted(ref.items()) \n",
    "        x_ref, y_ref = zip(*lists_ref) \n",
    "    #     y_ref = np.array(y_ref) / ref_max\n",
    "        ax.plot(x_ref, y_ref, label='Reference HPs')\n",
    "\n",
    "        lists_sam = sorted(sam.items()) \n",
    "        x_sam, y_sam = zip(*lists_sam) \n",
    "        ax.plot(x_sam, y_sam, label=f'Base {base} HPs in reads')\n",
    "        ax.set_xlabel('HP length')\n",
    "        ax.set_ylabel('Count')\n",
    "        ax.legend()\n",
    "    plt.tight_layout()"
   ]
  },
  {
   "cell_type": "markdown",
   "metadata": {},
   "source": [
    "#### Frag file"
   ]
  },
  {
   "cell_type": "code",
   "execution_count": 31,
   "metadata": {},
   "outputs": [
    {
     "data": {
      "image/png": "[encoded data removed]",
      "text/plain": [
       "<Figure size 720x432 with 4 Axes>"
      ]
     },
     "metadata": {
      "needs_background": "light"
     },
     "output_type": "display_data"
    }
   ],
   "source": [
    "# Распределения числа гомополимеров по длине\n",
    "ref_hp, sam_hp = homopolymers('data/B.faecium/ref.fasta', 'frag.sam')\n",
    "plot_hp(ref_hp, sam_hp)"
   ]
  },
  {
   "cell_type": "code",
   "execution_count": 12,
   "metadata": {},
   "outputs": [
    {
     "name": "stdout",
     "output_type": "stream",
     "text": [
      "{'A', 'G', 'T', 'C'} ref\n",
      "{'A', 'C', 'T', 'N', 'G'} sam\n"
     ]
    }
   ],
   "source": [
    "res = substitution_matrix('data/B.faecium/ref.fasta', 'frag.sam')"
   ]
  },
  {
   "cell_type": "code",
   "execution_count": 41,
   "metadata": {},
   "outputs": [],
   "source": [
    "sm = res[0]\n",
    "errors = res[2]\n",
    "reads_length = res[3]\n",
    "qdeletions = res[9]\n",
    "qinsertions = res[10]"
   ]
  },
  {
   "cell_type": "code",
   "execution_count": 31,
   "metadata": {},
   "outputs": [
    {
     "name": "stdout",
     "output_type": "stream",
     "text": [
      "mean errors = 19.79%\n"
     ]
    }
   ],
   "source": [
    "letters = ['A', 'C', 'G', 'T', 'N']\n",
    "sm = pd.DataFrame(sm, index=letters, columns=letters)\n",
    "\n",
    "print(f'mean errors = {(errors / reads_length * 100):.2f}%')"
   ]
  },
  {
   "cell_type": "code",
   "execution_count": 50,
   "metadata": {},
   "outputs": [
    {
     "data": {
      "text/plain": [
       "Counter({'T': 3342, 'C': 9898, 'A': 3409, 'G': 9517, 'N': 2})"
      ]
     },
     "execution_count": 50,
     "metadata": {},
     "output_type": "execute_result"
    }
   ],
   "source": [
    "# замены\n",
    "qinsertions"
   ]
  },
  {
   "cell_type": "code",
   "execution_count": 43,
   "metadata": {},
   "outputs": [
    {
     "data": {
      "text/plain": [
       "Counter({'A': 4965, 'G': 8123, 'C': 8425, 'T': 4982})"
      ]
     },
     "execution_count": 43,
     "metadata": {},
     "output_type": "execute_result"
    }
   ],
   "source": [
    "# удаления\n",
    "qdeletions"
   ]
  },
  {
   "cell_type": "code",
   "execution_count": 32,
   "metadata": {},
   "outputs": [
    {
     "data": {
      "text/html": [
       "<div>\n",
       "<style scoped>\n",
       "    .dataframe tbody tr th:only-of-type {\n",
       "        vertical-align: middle;\n",
       "    }\n",
       "\n",
       "    .dataframe tbody tr th {\n",
       "        vertical-align: top;\n",
       "    }\n",
       "\n",
       "    .dataframe thead th {\n",
       "        text-align: right;\n",
       "    }\n",
       "</style>\n",
       "<table border=\"1\" class=\"dataframe\">\n",
       "  <thead>\n",
       "    <tr style=\"text-align: right;\">\n",
       "      <th></th>\n",
       "      <th>A</th>\n",
       "      <th>C</th>\n",
       "      <th>G</th>\n",
       "      <th>T</th>\n",
       "      <th>N</th>\n",
       "    </tr>\n",
       "  </thead>\n",
       "  <tbody>\n",
       "    <tr>\n",
       "      <td>A</td>\n",
       "      <td>0.0</td>\n",
       "      <td>7158289.0</td>\n",
       "      <td>6324606.0</td>\n",
       "      <td>2526446.0</td>\n",
       "      <td>0.0</td>\n",
       "    </tr>\n",
       "    <tr>\n",
       "      <td>C</td>\n",
       "      <td>8412076.0</td>\n",
       "      <td>0.0</td>\n",
       "      <td>18867478.0</td>\n",
       "      <td>7792695.0</td>\n",
       "      <td>0.0</td>\n",
       "    </tr>\n",
       "    <tr>\n",
       "      <td>G</td>\n",
       "      <td>7605851.0</td>\n",
       "      <td>18576735.0</td>\n",
       "      <td>0.0</td>\n",
       "      <td>8400516.0</td>\n",
       "      <td>0.0</td>\n",
       "    </tr>\n",
       "    <tr>\n",
       "      <td>T</td>\n",
       "      <td>2546878.0</td>\n",
       "      <td>6670784.0</td>\n",
       "      <td>6902596.0</td>\n",
       "      <td>0.0</td>\n",
       "      <td>0.0</td>\n",
       "    </tr>\n",
       "    <tr>\n",
       "      <td>N</td>\n",
       "      <td>14039.0</td>\n",
       "      <td>35266.0</td>\n",
       "      <td>35603.0</td>\n",
       "      <td>13935.0</td>\n",
       "      <td>0.0</td>\n",
       "    </tr>\n",
       "  </tbody>\n",
       "</table>\n",
       "</div>"
      ],
      "text/plain": [
       "           A           C           G          T    N\n",
       "A        0.0   7158289.0   6324606.0  2526446.0  0.0\n",
       "C  8412076.0         0.0  18867478.0  7792695.0  0.0\n",
       "G  7605851.0  18576735.0         0.0  8400516.0  0.0\n",
       "T  2546878.0   6670784.0   6902596.0        0.0  0.0\n",
       "N    14039.0     35266.0     35603.0    13935.0  0.0"
      ]
     },
     "execution_count": 32,
     "metadata": {},
     "output_type": "execute_result"
    }
   ],
   "source": [
    "# матрица частоты замен\n",
    "sm"
   ]
  },
  {
   "cell_type": "markdown",
   "metadata": {},
   "source": [
    "#### Jump file"
   ]
  },
  {
   "cell_type": "code",
   "execution_count": null,
   "metadata": {},
   "outputs": [],
   "source": [
    "res = substitution_matrix('data/B.faecium/ref.fasta', 'jump.sam')"
   ]
  },
  {
   "cell_type": "code",
   "execution_count": 32,
   "metadata": {},
   "outputs": [
    {
     "data": {
      "image/png": "[encoded data removed]",
      "text/plain": [
       "<Figure size 720x432 with 4 Axes>"
      ]
     },
     "metadata": {
      "needs_background": "light"
     },
     "output_type": "display_data"
    }
   ],
   "source": [
    "# Распределения числа гомополимеров по длине\n",
    "ref_hp, sam_hp = homopolymers('data/B.faecium/ref.fasta', 'jump.sam')\n",
    "plot_hp(ref_hp, sam_hp)"
   ]
  },
  {
   "cell_type": "code",
   "execution_count": 55,
   "metadata": {},
   "outputs": [
    {
     "name": "stdout",
     "output_type": "stream",
     "text": [
      "mean errors = 9.98%\n"
     ]
    }
   ],
   "source": [
    "sm = res[0]\n",
    "errors = res[2]\n",
    "reads_length = res[3]\n",
    "qdeletions = res[9]\n",
    "qinsertions = res[10]\n",
    "letters = ['A', 'C', 'G', 'T', 'N']\n",
    "sm = pd.DataFrame(sm, index=letters, columns=letters)\n",
    "\n",
    "print(f'mean errors = {(errors / reads_length * 100):.2f}%')"
   ]
  },
  {
   "cell_type": "code",
   "execution_count": 52,
   "metadata": {},
   "outputs": [
    {
     "data": {
      "text/plain": [
       "Counter({'C': 2727, 'G': 2723, 'A': 664, 'T': 667})"
      ]
     },
     "execution_count": 52,
     "metadata": {},
     "output_type": "execute_result"
    }
   ],
   "source": [
    "# замены\n",
    "qinsertions"
   ]
  },
  {
   "cell_type": "code",
   "execution_count": 53,
   "metadata": {},
   "outputs": [
    {
     "data": {
      "text/plain": [
       "Counter({'T': 2716, 'G': 4747, 'C': 4742, 'A': 2793})"
      ]
     },
     "execution_count": 53,
     "metadata": {},
     "output_type": "execute_result"
    }
   ],
   "source": [
    "# удаления\n",
    "qdeletions"
   ]
  },
  {
   "cell_type": "code",
   "execution_count": 56,
   "metadata": {
    "scrolled": true
   },
   "outputs": [
    {
     "data": {
      "text/html": [
       "<div>\n",
       "<style scoped>\n",
       "    .dataframe tbody tr th:only-of-type {\n",
       "        vertical-align: middle;\n",
       "    }\n",
       "\n",
       "    .dataframe tbody tr th {\n",
       "        vertical-align: top;\n",
       "    }\n",
       "\n",
       "    .dataframe thead th {\n",
       "        text-align: right;\n",
       "    }\n",
       "</style>\n",
       "<table border=\"1\" class=\"dataframe\">\n",
       "  <thead>\n",
       "    <tr style=\"text-align: right;\">\n",
       "      <th></th>\n",
       "      <th>A</th>\n",
       "      <th>C</th>\n",
       "      <th>G</th>\n",
       "      <th>T</th>\n",
       "      <th>N</th>\n",
       "    </tr>\n",
       "  </thead>\n",
       "  <tbody>\n",
       "    <tr>\n",
       "      <td>A</td>\n",
       "      <td>0.0</td>\n",
       "      <td>2949109.0</td>\n",
       "      <td>2777913.0</td>\n",
       "      <td>1176516.0</td>\n",
       "      <td>0.0</td>\n",
       "    </tr>\n",
       "    <tr>\n",
       "      <td>C</td>\n",
       "      <td>4260833.0</td>\n",
       "      <td>0.0</td>\n",
       "      <td>8594157.0</td>\n",
       "      <td>3899452.0</td>\n",
       "      <td>0.0</td>\n",
       "    </tr>\n",
       "    <tr>\n",
       "      <td>G</td>\n",
       "      <td>3833550.0</td>\n",
       "      <td>8527320.0</td>\n",
       "      <td>0.0</td>\n",
       "      <td>4241471.0</td>\n",
       "      <td>0.0</td>\n",
       "    </tr>\n",
       "    <tr>\n",
       "      <td>T</td>\n",
       "      <td>1183500.0</td>\n",
       "      <td>2869376.0</td>\n",
       "      <td>2885232.0</td>\n",
       "      <td>0.0</td>\n",
       "      <td>0.0</td>\n",
       "    </tr>\n",
       "    <tr>\n",
       "      <td>N</td>\n",
       "      <td>32050.0</td>\n",
       "      <td>77343.0</td>\n",
       "      <td>77415.0</td>\n",
       "      <td>32229.0</td>\n",
       "      <td>0.0</td>\n",
       "    </tr>\n",
       "  </tbody>\n",
       "</table>\n",
       "</div>"
      ],
      "text/plain": [
       "           A          C          G          T    N\n",
       "A        0.0  2949109.0  2777913.0  1176516.0  0.0\n",
       "C  4260833.0        0.0  8594157.0  3899452.0  0.0\n",
       "G  3833550.0  8527320.0        0.0  4241471.0  0.0\n",
       "T  1183500.0  2869376.0  2885232.0        0.0  0.0\n",
       "N    32050.0    77343.0    77415.0    32229.0  0.0"
      ]
     },
     "execution_count": 56,
     "metadata": {},
     "output_type": "execute_result"
    }
   ],
   "source": [
    "# матрица частоты замен\n",
    "sm"
   ]
  },
  {
   "cell_type": "markdown",
   "metadata": {},
   "source": [
    "# Часть 2"
   ]
  },
  {
   "cell_type": "code",
   "execution_count": 1,
   "metadata": {
    "scrolled": true
   },
   "outputs": [
    {
     "name": "stdout",
     "output_type": "stream",
     "text": [
      "[bwa_index] Pack FASTA... 0.05 sec\n",
      "[bwa_index] Construct BWT for the packed sequence...\n",
      "[bwa_index] 1.80 seconds elapse.\n",
      "[bwa_index] Update BWT... 0.03 sec\n",
      "[bwa_index] Pack forward-only FASTA... 0.03 sec\n",
      "[bwa_index] Construct SA from BWT and Occ... 0.67 sec\n",
      "[main] Version: 0.7.17-r1188\n",
      "[main] CMD: bwa index data/DH10B-K12.fasta\n",
      "[main] Real time: 2.667 sec; CPU: 2.578 sec\n",
      "[M::bwa_idx_load_from_disk] read 0 ALT contigs\n",
      "[M::process] read 40748 sequences (10000257 bp)...\n",
      "[M::process] read 40830 sequences (10000256 bp)...\n",
      "[M::mem_process_seqs] Processed 40748 reads in 3.889 CPU sec, 3.833 real sec\n",
      "[M::process] read 40678 sequences (10000475 bp)...\n",
      "[M::mem_process_seqs] Processed 40830 reads in 3.902 CPU sec, 3.799 real sec\n",
      "[M::process] read 40934 sequences (10000123 bp)...\n",
      "[M::mem_process_seqs] Processed 40678 reads in 4.726 CPU sec, 4.613 real sec\n",
      "[M::process] read 40668 sequences (10000353 bp)...\n",
      "[M::mem_process_seqs] Processed 40934 reads in 3.476 CPU sec, 3.352 real sec\n",
      "[M::process] read 40714 sequences (10000220 bp)...\n",
      "[M::mem_process_seqs] Processed 40668 reads in 3.415 CPU sec, 3.287 real sec\n",
      "[M::process] read 40714 sequences (10000207 bp)...\n",
      "[M::mem_process_seqs] Processed 40714 reads in 4.387 CPU sec, 4.253 real sec\n",
      "[M::process] read 40584 sequences (10000468 bp)...\n",
      "[M::mem_process_seqs] Processed 40714 reads in 3.579 CPU sec, 3.438 real sec\n",
      "[M::process] read 40728 sequences (10000278 bp)...\n",
      "[M::mem_process_seqs] Processed 40584 reads in 4.037 CPU sec, 3.906 real sec\n",
      "[M::process] read 40746 sequences (10000126 bp)...\n",
      "[M::mem_process_seqs] Processed 40728 reads in 3.535 CPU sec, 3.400 real sec\n",
      "[M::process] read 40890 sequences (10000295 bp)...\n",
      "[M::mem_process_seqs] Processed 40746 reads in 3.697 CPU sec, 3.577 real sec\n",
      "[M::process] read 40758 sequences (10000106 bp)...\n",
      "[M::mem_process_seqs] Processed 40890 reads in 3.735 CPU sec, 3.629 real sec\n",
      "[M::process] read 40668 sequences (10000113 bp)...\n",
      "[M::mem_process_seqs] Processed 40758 reads in 3.796 CPU sec, 3.685 real sec\n",
      "[M::process] read 40834 sequences (10000508 bp)...\n",
      "[M::mem_process_seqs] Processed 40668 reads in 3.642 CPU sec, 3.515 real sec\n",
      "[M::process] read 40740 sequences (10000085 bp)...\n",
      "[M::mem_process_seqs] Processed 40834 reads in 4.018 CPU sec, 3.877 real sec\n",
      "[M::process] read 40748 sequences (10000509 bp)...\n",
      "[M::mem_process_seqs] Processed 40740 reads in 4.027 CPU sec, 3.891 real sec\n",
      "[M::process] read 33424 sequences (7905189 bp)...\n",
      "[M::mem_process_seqs] Processed 40748 reads in 3.895 CPU sec, 3.774 real sec\n",
      "[M::mem_process_seqs] Processed 33424 reads in 2.707 CPU sec, 2.653 real sec\n",
      "[main] Version: 0.7.17-r1188\n",
      "[main] CMD: bwa mem -v 3 data/DH10B-K12.fasta data/C24-698.fastq\n",
      "[main] Real time: 63.826 sec; CPU: 64.611 sec\n",
      "[M::bwa_idx_load_from_disk] read 0 ALT contigs\n",
      "[M::process] read 30580 sequences (10000589 bp)...\n",
      "[M::process] read 30700 sequences (10000499 bp)...\n",
      "[M::mem_process_seqs] Processed 30580 reads in 5.830 CPU sec, 5.747 real sec\n",
      "[M::process] read 30654 sequences (10000464 bp)...\n",
      "[M::mem_process_seqs] Processed 30700 reads in 6.535 CPU sec, 6.448 real sec\n",
      "[M::process] read 30558 sequences (10000069 bp)...\n",
      "[M::mem_process_seqs] Processed 30654 reads in 7.284 CPU sec, 7.170 real sec\n",
      "[M::process] read 30468 sequences (10000148 bp)...\n",
      "[M::mem_process_seqs] Processed 30558 reads in 5.190 CPU sec, 5.084 real sec\n",
      "[M::process] read 30596 sequences (10000413 bp)...\n",
      "[M::mem_process_seqs] Processed 30468 reads in 5.216 CPU sec, 5.133 real sec\n",
      "[M::process] read 30514 sequences (10000381 bp)...\n",
      "[M::mem_process_seqs] Processed 30596 reads in 5.695 CPU sec, 5.578 real sec\n",
      "[M::process] read 30520 sequences (10000266 bp)...\n",
      "[M::mem_process_seqs] Processed 30514 reads in 4.959 CPU sec, 4.843 real sec\n",
      "[M::process] read 30396 sequences (10000010 bp)...\n",
      "[M::mem_process_seqs] Processed 30520 reads in 5.677 CPU sec, 5.558 real sec\n",
      "[M::process] read 30478 sequences (10000118 bp)...\n",
      "[M::mem_process_seqs] Processed 30396 reads in 5.148 CPU sec, 5.067 real sec\n",
      "[M::process] read 30562 sequences (10000033 bp)...\n",
      "[M::mem_process_seqs] Processed 30478 reads in 5.458 CPU sec, 5.353 real sec\n",
      "[M::process] read 30576 sequences (10000499 bp)...\n",
      "[M::mem_process_seqs] Processed 30562 reads in 5.381 CPU sec, 5.270 real sec\n",
      "[M::process] read 30436 sequences (10000698 bp)...\n",
      "[M::mem_process_seqs] Processed 30576 reads in 5.273 CPU sec, 5.182 real sec\n",
      "[M::process] read 30768 sequences (10000324 bp)...\n",
      "[M::mem_process_seqs] Processed 30436 reads in 5.608 CPU sec, 5.504 real sec\n",
      "[M::process] read 30638 sequences (10000103 bp)...\n",
      "[M::mem_process_seqs] Processed 30768 reads in 5.847 CPU sec, 5.747 real sec\n",
      "[M::process] read 30718 sequences (10000240 bp)...\n",
      "[M::mem_process_seqs] Processed 30638 reads in 6.441 CPU sec, 6.355 real sec\n",
      "[M::process] read 5759 sequences (1147709 bp)...\n",
      "[M::mem_process_seqs] Processed 30718 reads in 5.971 CPU sec, 5.924 real sec\n",
      "[M::mem_process_seqs] Processed 5759 reads in 0.750 CPU sec, 0.689 real sec\n",
      "[main] Version: 0.7.17-r1188\n",
      "[main] CMD: bwa mem -v 3 data/DH10B-K12.fasta data/B22-730.fastq\n",
      "[main] Real time: 90.981 sec; CPU: 92.352 sec\n"
     ]
    }
   ],
   "source": [
    "!bwa index data/DH10B-K12.fasta\n",
    "!bwa mem -v 3 data/DH10B-K12.fasta data/C24-698.fastq > c24.sam\n",
    "!bwa mem -v 3 data/DH10B-K12.fasta data/B22-730.fastq > b22.sam"
   ]
  },
  {
   "cell_type": "code",
   "execution_count": 9,
   "metadata": {},
   "outputs": [
    {
     "name": "stdout",
     "output_type": "stream",
     "text": [
      "mean coverage = 35.71\n",
      "position coverage = 100.00\n"
     ]
    },
    {
     "data": {
      "text/plain": [
       "Text(0.5, 1.0, 'Покрытие C24')"
      ]
     },
     "execution_count": 9,
     "metadata": {},
     "output_type": "execute_result"
    },
    {
     "data": {
      "image/png": "[encoded data removed]",
      "text/plain": [
       "<Figure size 1080x216 with 1 Axes>"
      ]
     },
     "metadata": {
      "needs_background": "light"
     },
     "output_type": "display_data"
    }
   ],
   "source": [
    "coverage = SAM_coverage('data/DH10B-K12.fasta', 'c24.sam')\n",
    "n = len(coverage)\n",
    "avg_coverage = coverage.mean()\n",
    "reference_coverage = np.where(coverage > 0)[0].shape[0] / n * 100\n",
    "print(f'mean coverage = {avg_coverage:.2f}')\n",
    "print(f'position coverage = {reference_coverage:.2f}')\n",
    "step = 10000\n",
    "\n",
    "x_axis = [i * step for i in range(0, int(n / step))]\n",
    "y = [np.mean(coverage[i : i + step]) for i in x_axis]\n",
    "\n",
    "# я не могу подобрать дурацкие width\n",
    "plt.figure(figsize=(15, 3))\n",
    "plt.bar(x_axis, y, width=[5000] * len(y))\n",
    "plt.xlabel('Позиции')\n",
    "plt.ylabel('Среднееокрытие')\n",
    "plt.title('Покрытие C24')"
   ]
  },
  {
   "cell_type": "code",
   "execution_count": 10,
   "metadata": {},
   "outputs": [
    {
     "name": "stdout",
     "output_type": "stream",
     "text": [
      "mean coverage = 34.35\n",
      "position coverage = 99.99\n"
     ]
    },
    {
     "data": {
      "text/plain": [
       "Text(0.5, 1.0, 'Покрытие B22')"
      ]
     },
     "execution_count": 10,
     "metadata": {},
     "output_type": "execute_result"
    },
    {
     "data": {
      "image/png": "[encoded data removed]",
      "text/plain": [
       "<Figure size 1080x216 with 1 Axes>"
      ]
     },
     "metadata": {
      "needs_background": "light"
     },
     "output_type": "display_data"
    }
   ],
   "source": [
    "coverage = SAM_coverage('data/DH10B-K12.fasta', 'b22.sam')\n",
    "n = len(coverage)\n",
    "avg_coverage = coverage.mean()\n",
    "reference_coverage = np.where(coverage > 0)[0].shape[0] / n * 100\n",
    "print(f'mean coverage = {avg_coverage:.2f}')\n",
    "print(f'position coverage = {reference_coverage:.2f}')\n",
    "step = 10000\n",
    "\n",
    "x_axis = [i * step for i in range(0, int(n / step))]\n",
    "y = [np.mean(coverage[i : i + step]) for i in x_axis]\n",
    "\n",
    "# я не могу подобрать дурацкие width\n",
    "plt.figure(figsize=(15, 3))\n",
    "plt.bar(x_axis, y, width=[5000] * len(y))\n",
    "plt.xlabel('Позиции')\n",
    "plt.ylabel('Среднееокрытие')\n",
    "plt.title('Покрытие B22')"
   ]
  },
  {
   "cell_type": "markdown",
   "metadata": {},
   "source": [
    "#### B22 file"
   ]
  },
  {
   "cell_type": "code",
   "execution_count": 36,
   "metadata": {},
   "outputs": [],
   "source": [
    "sm, cigar, errors, reads_length, insertions, deletions, hp, stats, average_quality, qdeletions, \\\n",
    "qinsertons = substitution_matrix(\n",
    "    'data/DH10B-K12.fasta', 'b22.sam')"
   ]
  },
  {
   "cell_type": "code",
   "execution_count": 33,
   "metadata": {},
   "outputs": [
    {
     "data": {
      "image/png": "[encoded data removed]",
      "text/plain": [
       "<Figure size 720x432 with 4 Axes>"
      ]
     },
     "metadata": {
      "needs_background": "light"
     },
     "output_type": "display_data"
    }
   ],
   "source": [
    "# Распределения числа гомополимеров по длине\n",
    "ref_hp, sam_hp = homopolymers('data/DH10B-K12.fasta', 'b22.sam')\n",
    "plot_hp(ref_hp, sam_hp)"
   ]
  },
  {
   "cell_type": "code",
   "execution_count": 59,
   "metadata": {
    "scrolled": true
   },
   "outputs": [
    {
     "name": "stdout",
     "output_type": "stream",
     "text": [
      "Процент ошибок 1.858%\n"
     ]
    }
   ],
   "source": [
    "pr_errors = (sum(cigar.values()) - cigar['M']) / sum(cigar.values())\n",
    "print(f'Процент ошибок {pr_errors * 100 :.3f}%')"
   ]
  },
  {
   "cell_type": "code",
   "execution_count": 39,
   "metadata": {},
   "outputs": [
    {
     "data": {
      "text/plain": [
       "Counter({'C': 89289, 'T': 181261, 'A': 170247, 'G': 84365})"
      ]
     },
     "execution_count": 39,
     "metadata": {},
     "output_type": "execute_result"
    }
   ],
   "source": [
    "# замены\n",
    "qinsertons"
   ]
  },
  {
   "cell_type": "code",
   "execution_count": 40,
   "metadata": {},
   "outputs": [
    {
     "data": {
      "text/plain": [
       "Counter({'A': 115248, 'C': 75710, 'T': 117301, 'G': 75650})"
      ]
     },
     "execution_count": 40,
     "metadata": {},
     "output_type": "execute_result"
    }
   ],
   "source": [
    "# удаления\n",
    "qdeletions"
   ]
  },
  {
   "cell_type": "code",
   "execution_count": 60,
   "metadata": {
    "scrolled": true
   },
   "outputs": [
    {
     "data": {
      "text/html": [
       "<div>\n",
       "<style scoped>\n",
       "    .dataframe tbody tr th:only-of-type {\n",
       "        vertical-align: middle;\n",
       "    }\n",
       "\n",
       "    .dataframe tbody tr th {\n",
       "        vertical-align: top;\n",
       "    }\n",
       "\n",
       "    .dataframe thead th {\n",
       "        text-align: right;\n",
       "    }\n",
       "</style>\n",
       "<table border=\"1\" class=\"dataframe\">\n",
       "  <thead>\n",
       "    <tr style=\"text-align: right;\">\n",
       "      <th></th>\n",
       "      <th>A</th>\n",
       "      <th>C</th>\n",
       "      <th>G</th>\n",
       "      <th>T</th>\n",
       "      <th>N</th>\n",
       "    </tr>\n",
       "  </thead>\n",
       "  <tbody>\n",
       "    <tr>\n",
       "      <td>A</td>\n",
       "      <td>0.0</td>\n",
       "      <td>4341815.0</td>\n",
       "      <td>4031524.0</td>\n",
       "      <td>4262621.0</td>\n",
       "      <td>0.0</td>\n",
       "    </tr>\n",
       "    <tr>\n",
       "      <td>C</td>\n",
       "      <td>4261408.0</td>\n",
       "      <td>0.0</td>\n",
       "      <td>4784642.0</td>\n",
       "      <td>4014809.0</td>\n",
       "      <td>0.0</td>\n",
       "    </tr>\n",
       "    <tr>\n",
       "      <td>G</td>\n",
       "      <td>4036963.0</td>\n",
       "      <td>4696384.0</td>\n",
       "      <td>0.0</td>\n",
       "      <td>4293938.0</td>\n",
       "      <td>0.0</td>\n",
       "    </tr>\n",
       "    <tr>\n",
       "      <td>T</td>\n",
       "      <td>4288333.0</td>\n",
       "      <td>4067108.0</td>\n",
       "      <td>4266371.0</td>\n",
       "      <td>0.0</td>\n",
       "      <td>0.0</td>\n",
       "    </tr>\n",
       "    <tr>\n",
       "      <td>N</td>\n",
       "      <td>0.0</td>\n",
       "      <td>0.0</td>\n",
       "      <td>0.0</td>\n",
       "      <td>0.0</td>\n",
       "      <td>0.0</td>\n",
       "    </tr>\n",
       "  </tbody>\n",
       "</table>\n",
       "</div>"
      ],
      "text/plain": [
       "           A          C          G          T    N\n",
       "A        0.0  4341815.0  4031524.0  4262621.0  0.0\n",
       "C  4261408.0        0.0  4784642.0  4014809.0  0.0\n",
       "G  4036963.0  4696384.0        0.0  4293938.0  0.0\n",
       "T  4288333.0  4067108.0  4266371.0        0.0  0.0\n",
       "N        0.0        0.0        0.0        0.0  0.0"
      ]
     },
     "execution_count": 60,
     "metadata": {},
     "output_type": "execute_result"
    }
   ],
   "source": [
    "letters = ['A', 'C', 'G', 'T', 'N']\n",
    "sm = pd.DataFrame(sm, index=letters, columns=letters)\n",
    "sm"
   ]
  },
  {
   "cell_type": "code",
   "execution_count": 84,
   "metadata": {},
   "outputs": [
    {
     "data": {
      "text/plain": [
       "Text(0, 0.5, 'Частота')"
      ]
     },
     "execution_count": 84,
     "metadata": {},
     "output_type": "execute_result"
    },
    {
     "data": {
      "image/png": "[encoded data removed]",
      "text/plain": [
       "<Figure size 432x288 with 1 Axes>"
      ]
     },
     "metadata": {
      "needs_background": "light"
     },
     "output_type": "display_data"
    }
   ],
   "source": [
    "insertions = pd.DataFrame(insertions, columns=['x', 'y'])\n",
    "deletions = pd.DataFrame(deletions, columns=['x', 'y'])\n",
    "plt.scatter(insertions.x, insertions.y)\n",
    "plt.plot(insertions.x, insertions.y, label='Insertions')\n",
    "\n",
    "plt.scatter(deletions.x, deletions.y)\n",
    "plt.plot(deletions.x, deletions.y, label='Deletions')\n",
    "\n",
    "plt.legend()\n",
    "plt.title('Распределение длин вставок и удалений, b22')\n",
    "plt.xlabel('Длина')\n",
    "plt.ylabel('Частота')"
   ]
  },
  {
   "cell_type": "code",
   "execution_count": 87,
   "metadata": {},
   "outputs": [
    {
     "name": "stdout",
     "output_type": "stream",
     "text": [
      "Average quality\n",
      "\tS: 19.302%\n",
      "\tM: 28.401%\n",
      "\tD: 0.000%\n",
      "\tI: 16.091%\n",
      "\tH: 0.000%\n"
     ]
    }
   ],
   "source": [
    "print('Average quality')\n",
    "for letter in average_quality:\n",
    "    print(f'\\t{letter}: {average_quality[letter]:.3f}%')"
   ]
  },
  {
   "cell_type": "code",
   "execution_count": 90,
   "metadata": {},
   "outputs": [
    {
     "name": "stdout",
     "output_type": "stream",
     "text": [
      "Freq of insertions\n",
      "\tC: 17.002%\n",
      "\tT: 34.515%\n",
      "\tA: 32.418%\n",
      "\tG: 16.065%\n"
     ]
    }
   ],
   "source": [
    "# вставки\n",
    "print('Freq of insertions')\n",
    "for letter in qinsertons:\n",
    "    print(f'\\t{letter}: {qinsertons[letter] / sum(qinsertons.values()) * 100:.3f}%')"
   ]
  },
  {
   "cell_type": "code",
   "execution_count": 91,
   "metadata": {},
   "outputs": [
    {
     "name": "stdout",
     "output_type": "stream",
     "text": [
      "Freq of deletions\n",
      "\tA: 30.020%\n",
      "\tC: 19.721%\n",
      "\tT: 30.554%\n",
      "\tG: 19.705%\n"
     ]
    }
   ],
   "source": [
    "# удаления\n",
    "print('Freq of deletions')\n",
    "for letter in qdeletions:\n",
    "    print(f'\\t{letter}: {qdeletions[letter] / sum(qdeletions.values()) * 100:.3f}%')"
   ]
  },
  {
   "cell_type": "markdown",
   "metadata": {},
   "source": [
    "#### C24 file"
   ]
  },
  {
   "cell_type": "code",
   "execution_count": 41,
   "metadata": {},
   "outputs": [],
   "source": [
    "sm, cigar, errors, reads_length, insertions, deletions, hp, stats, average_quality, qdeletions, \\\n",
    "qinsertions = substitution_matrix(\n",
    "    'data/DH10B-K12.fasta', 'c24.sam')"
   ]
  },
  {
   "cell_type": "code",
   "execution_count": 42,
   "metadata": {},
   "outputs": [
    {
     "data": {
      "image/png": "[encoded data removed]",
      "text/plain": [
       "<Figure size 720x432 with 4 Axes>"
      ]
     },
     "metadata": {
      "needs_background": "light"
     },
     "output_type": "display_data"
    }
   ],
   "source": [
    "# Распределения числа гомополимеров по длине\n",
    "ref_hp, sam_hp = homopolymers('data/DH10B-K12.fasta', 'b22.sam')\n",
    "plot_hp(ref_hp, sam_hp)"
   ]
  },
  {
   "cell_type": "code",
   "execution_count": 62,
   "metadata": {},
   "outputs": [
    {
     "name": "stdout",
     "output_type": "stream",
     "text": [
      "Процент ошибок 0.736%\n"
     ]
    }
   ],
   "source": [
    "pr_errors = (sum(cigar.values()) - cigar['M']) / sum(cigar.values())\n",
    "print(f'Процент ошибок {pr_errors * 100 :.3f}%')"
   ]
  },
  {
   "cell_type": "code",
   "execution_count": 114,
   "metadata": {},
   "outputs": [
    {
     "data": {
      "text/plain": [
       "Text(0, 0.5, 'Частота')"
      ]
     },
     "execution_count": 114,
     "metadata": {},
     "output_type": "execute_result"
    },
    {
     "data": {
      "image/png": "[encoded data removed]",
      "text/plain": [
       "<Figure size 432x288 with 1 Axes>"
      ]
     },
     "metadata": {
      "needs_background": "light"
     },
     "output_type": "display_data"
    }
   ],
   "source": [
    "insertions = pd.DataFrame(insertions, columns=['x', 'y'])\n",
    "deletions = pd.DataFrame(deletions, columns=['x', 'y'])\n",
    "plt.scatter(insertions.x, insertions.y)\n",
    "plt.plot(insertions.x, insertions.y, label='Insertions')\n",
    "\n",
    "plt.scatter(deletions.x, deletions.y)\n",
    "plt.plot(deletions.x, deletions.y, label='Deletions')\n",
    "\n",
    "plt.legend()\n",
    "plt.title('Распределение длин вставок и удалений, c24')\n",
    "plt.xlabel('Длина')\n",
    "plt.ylabel('Частота')"
   ]
  },
  {
   "cell_type": "code",
   "execution_count": 63,
   "metadata": {},
   "outputs": [
    {
     "name": "stdout",
     "output_type": "stream",
     "text": [
      "Average quality\n",
      "\tS: 19.120%\n",
      "\tM: 29.734%\n",
      "\tI: 15.388%\n",
      "\tD: 0.000%\n",
      "\tH: 0.000%\n",
      "Freq of insertions\n",
      "\tA: 29.887%\n",
      "\tT: 30.802%\n",
      "\tG: 19.217%\n",
      "\tC: 20.094%\n",
      "Freq of deletions\n",
      "\tC: 33.658%\n",
      "\tT: 16.872%\n",
      "\tG: 33.490%\n",
      "\tA: 15.980%\n"
     ]
    }
   ],
   "source": [
    "print('Average quality')\n",
    "for letter in average_quality:\n",
    "    print(f'\\t{letter}: {average_quality[letter]:.3f}%')\n",
    "    \n",
    "# вставки\n",
    "print('Freq of insertions')\n",
    "for letter in qinsertons:\n",
    "    print(f'\\t{letter}: {qinsertons[letter] / sum(qinsertons.values()) * 100:.3f}%')\n",
    "    \n",
    "# удаления\n",
    "print('Freq of deletions')\n",
    "for letter in qdeletions:\n",
    "    print(f'\\t{letter}: {qdeletions[letter] / sum(qdeletions.values()) * 100:.3f}%')"
   ]
  },
  {
   "cell_type": "code",
   "execution_count": 43,
   "metadata": {},
   "outputs": [
    {
     "data": {
      "text/plain": [
       "Counter({'A': 76599, 'T': 78946, 'G': 49254, 'C': 51500})"
      ]
     },
     "execution_count": 43,
     "metadata": {},
     "output_type": "execute_result"
    }
   ],
   "source": [
    "# замены\n",
    "qinsertions"
   ]
  },
  {
   "cell_type": "code",
   "execution_count": 44,
   "metadata": {},
   "outputs": [
    {
     "data": {
      "text/plain": [
       "Counter({'C': 80510, 'T': 40359, 'G': 80108, 'A': 38224})"
      ]
     },
     "execution_count": 44,
     "metadata": {},
     "output_type": "execute_result"
    }
   ],
   "source": [
    "# удаления\n",
    "qdeletions"
   ]
  },
  {
   "cell_type": "code",
   "execution_count": 64,
   "metadata": {},
   "outputs": [
    {
     "data": {
      "text/html": [
       "<div>\n",
       "<style scoped>\n",
       "    .dataframe tbody tr th:only-of-type {\n",
       "        vertical-align: middle;\n",
       "    }\n",
       "\n",
       "    .dataframe tbody tr th {\n",
       "        vertical-align: top;\n",
       "    }\n",
       "\n",
       "    .dataframe thead th {\n",
       "        text-align: right;\n",
       "    }\n",
       "</style>\n",
       "<table border=\"1\" class=\"dataframe\">\n",
       "  <thead>\n",
       "    <tr style=\"text-align: right;\">\n",
       "      <th></th>\n",
       "      <th>A</th>\n",
       "      <th>C</th>\n",
       "      <th>G</th>\n",
       "      <th>T</th>\n",
       "      <th>N</th>\n",
       "    </tr>\n",
       "  </thead>\n",
       "  <tbody>\n",
       "    <tr>\n",
       "      <td>A</td>\n",
       "      <td>0.0</td>\n",
       "      <td>2395137.0</td>\n",
       "      <td>2168350.0</td>\n",
       "      <td>2175875.0</td>\n",
       "      <td>0.0</td>\n",
       "    </tr>\n",
       "    <tr>\n",
       "      <td>C</td>\n",
       "      <td>2257097.0</td>\n",
       "      <td>0.0</td>\n",
       "      <td>2736368.0</td>\n",
       "      <td>2154742.0</td>\n",
       "      <td>0.0</td>\n",
       "    </tr>\n",
       "    <tr>\n",
       "      <td>G</td>\n",
       "      <td>2120963.0</td>\n",
       "      <td>2640979.0</td>\n",
       "      <td>0.0</td>\n",
       "      <td>2378682.0</td>\n",
       "      <td>0.0</td>\n",
       "    </tr>\n",
       "    <tr>\n",
       "      <td>T</td>\n",
       "      <td>2323376.0</td>\n",
       "      <td>2146734.0</td>\n",
       "      <td>2279404.0</td>\n",
       "      <td>0.0</td>\n",
       "      <td>0.0</td>\n",
       "    </tr>\n",
       "    <tr>\n",
       "      <td>N</td>\n",
       "      <td>0.0</td>\n",
       "      <td>0.0</td>\n",
       "      <td>0.0</td>\n",
       "      <td>0.0</td>\n",
       "      <td>0.0</td>\n",
       "    </tr>\n",
       "  </tbody>\n",
       "</table>\n",
       "</div>"
      ],
      "text/plain": [
       "           A          C          G          T    N\n",
       "A        0.0  2395137.0  2168350.0  2175875.0  0.0\n",
       "C  2257097.0        0.0  2736368.0  2154742.0  0.0\n",
       "G  2120963.0  2640979.0        0.0  2378682.0  0.0\n",
       "T  2323376.0  2146734.0  2279404.0        0.0  0.0\n",
       "N        0.0        0.0        0.0        0.0  0.0"
      ]
     },
     "execution_count": 64,
     "metadata": {},
     "output_type": "execute_result"
    }
   ],
   "source": [
    "# Таблица замен\n",
    "letters = ['A', 'C', 'G', 'T', 'N']\n",
    "sm = pd.DataFrame(sm, index=letters, columns=letters)\n",
    "sm"
   ]
  },
  {
   "cell_type": "code",
   "execution_count": null,
   "metadata": {},
   "outputs": [],
   "source": [
    "# то же самое, но с другим выравнивателем"
   ]
  },
  {
   "cell_type": "code",
   "execution_count": 105,
   "metadata": {},
   "outputs": [
    {
     "name": "stdout",
     "output_type": "stream",
     "text": [
      "Settings:\n",
      "  Output files: \"idx.*.bt2\"\n",
      "  Line rate: 6 (line is 64 bytes)\n",
      "  Lines per side: 1 (side is 64 bytes)\n",
      "  Offset rate: 4 (one in 16)\n",
      "  FTable chars: 10\n",
      "  Strings: unpacked\n",
      "  Max bucket size: default\n",
      "  Max bucket size, sqrt multiplier: default\n",
      "  Max bucket size, len divisor: 4\n",
      "  Difference-cover sample period: 1024\n",
      "  Endianness: little\n",
      "  Actual local endianness: little\n",
      "  Sanity checking: disabled\n",
      "  Assertions: disabled\n",
      "  Random seed: 0\n",
      "  Sizeofs: void*:8, int:4, long:8, size_t:8\n",
      "Input files DNA, FASTA:\n",
      "  data/DH10B-K12.fasta\n",
      "Building a SMALL index\n",
      "Reading reference sizes\n",
      "  Time reading reference sizes: 00:00:00\n",
      "Calculating joined length\n",
      "Writing header\n",
      "Reserving space for joined string\n",
      "Joining reference sequences\n",
      "  Time to join reference sequences: 00:00:00\n",
      "bmax according to bmaxDivN setting: 1171534\n",
      "Using parameters --bmax 878651 --dcv 1024\n",
      "  Doing ahead-of-time memory usage test\n",
      "  Passed!  Constructing with these parameters: --bmax 878651 --dcv 1024\n",
      "Constructing suffix-array element generator\n",
      "Building DifferenceCoverSample\n",
      "  Building sPrime\n",
      "  Building sPrimeOrder\n",
      "  V-Sorting samples\n",
      "  V-Sorting samples time: 00:00:00\n",
      "  Allocating rank array\n",
      "  Ranking v-sort output\n",
      "  Ranking v-sort output time: 00:00:00\n",
      "  Invoking Larsson-Sadakane on ranks\n",
      "  Invoking Larsson-Sadakane on ranks time: 00:00:00\n",
      "  Sanity-checking and returning\n",
      "Building samples\n",
      "Reserving space for 12 sample suffixes\n",
      "Generating random suffixes\n",
      "QSorting 12 sample offsets, eliminating duplicates\n",
      "QSorting sample offsets, eliminating duplicates time: 00:00:00\n",
      "Multikey QSorting 12 samples\n",
      "  (Using difference cover)\n",
      "  Multikey QSorting samples time: 00:00:00\n",
      "Calculating bucket sizes\n",
      "  Binary sorting into buckets\n",
      "  10%\n",
      "  20%\n",
      "  30%\n",
      "  40%\n",
      "  50%\n",
      "  60%\n",
      "  70%\n",
      "  80%\n",
      "  90%\n",
      "  100%\n",
      "  Binary sorting into buckets time: 00:00:00\n",
      "Splitting and merging\n",
      "  Splitting and merging time: 00:00:00\n",
      "Split 1, merged 7; iterating...\n",
      "  Binary sorting into buckets\n",
      "  10%\n",
      "  20%\n",
      "  30%\n",
      "  40%\n",
      "  50%\n",
      "  60%\n",
      "  70%\n",
      "  80%\n",
      "  90%\n",
      "  100%\n",
      "  Binary sorting into buckets time: 00:00:00\n",
      "Splitting and merging\n",
      "  Splitting and merging time: 00:00:00\n",
      "Split 1, merged 0; iterating...\n",
      "  Binary sorting into buckets\n",
      "  10%\n",
      "  20%\n",
      "  30%\n",
      "  40%\n",
      "  50%\n",
      "  60%\n",
      "  70%\n",
      "  80%\n",
      "  90%\n",
      "  100%\n",
      "  Binary sorting into buckets time: 00:00:00\n",
      "Splitting and merging\n",
      "  Splitting and merging time: 00:00:00\n",
      "Avg bucket size: 585766 (target: 878650)\n",
      "Converting suffix-array elements to index image\n",
      "Allocating ftab, absorbFtab\n",
      "Entering Ebwt loop\n",
      "Getting block 1 of 8\n",
      "  Reserving size (878651) for bucket\n",
      "  Calculating Z arrays\n",
      "  Calculating Z arrays time: 00:00:00\n",
      "  Entering block accumulator loop:\n",
      "  10%\n",
      "  20%\n",
      "  30%\n",
      "  40%\n",
      "  50%\n",
      "  60%\n",
      "  70%\n",
      "  80%\n",
      "  90%\n",
      "  100%\n",
      "  Block accumulator loop time: 00:00:00\n",
      "  Sorting block of length 513937\n",
      "  (Using difference cover)\n",
      "  Sorting block time: 00:00:01\n",
      "Returning block of 513938\n",
      "Getting block 2 of 8\n",
      "  Reserving size (878651) for bucket\n",
      "  Calculating Z arrays\n",
      "  Calculating Z arrays time: 00:00:00\n",
      "  Entering block accumulator loop:\n",
      "  10%\n",
      "  20%\n",
      "  30%\n",
      "  40%\n",
      "  50%\n",
      "  60%\n",
      "  70%\n",
      "  80%\n",
      "  90%\n",
      "  100%\n",
      "  Block accumulator loop time: 00:00:00\n",
      "  Sorting block of length 638081\n",
      "  (Using difference cover)\n",
      "  Sorting block time: 00:00:00\n",
      "Returning block of 638082\n",
      "Getting block 3 of 8\n",
      "  Reserving size (878651) for bucket\n",
      "  Calculating Z arrays\n",
      "  Calculating Z arrays time: 00:00:00\n",
      "  Entering block accumulator loop:\n",
      "  10%\n",
      "  20%\n",
      "  30%\n",
      "  40%\n",
      "  50%\n",
      "  60%\n",
      "  70%\n",
      "  80%\n",
      "  90%\n",
      "  100%\n",
      "  Block accumulator loop time: 00:00:00\n",
      "  Sorting block of length 591621\n",
      "  (Using difference cover)\n",
      "  Sorting block time: 00:00:00\n",
      "Returning block of 591622\n",
      "Getting block 4 of 8\n",
      "  Reserving size (878651) for bucket\n",
      "  Calculating Z arrays\n",
      "  Calculating Z arrays time: 00:00:00\n",
      "  Entering block accumulator loop:\n",
      "  10%\n",
      "  20%\n",
      "  30%\n",
      "  40%\n",
      "  50%\n",
      "  60%\n",
      "  70%\n",
      "  80%\n",
      "  90%\n",
      "  100%\n",
      "  Block accumulator loop time: 00:00:00\n",
      "  Sorting block of length 327022\n",
      "  (Using difference cover)\n",
      "  Sorting block time: 00:00:00\n",
      "Returning block of 327023\n",
      "Getting block 5 of 8\n",
      "  Reserving size (878651) for bucket\n",
      "  Calculating Z arrays\n",
      "  Calculating Z arrays time: 00:00:00\n",
      "  Entering block accumulator loop:\n",
      "  10%\n",
      "  20%\n",
      "  30%\n",
      "  40%\n",
      "  50%\n",
      "  60%\n",
      "  70%\n",
      "  80%\n",
      "  90%\n",
      "  100%\n",
      "  Block accumulator loop time: 00:00:01\n",
      "  Sorting block of length 611568\n",
      "  (Using difference cover)\n",
      "  Sorting block time: 00:00:00\n",
      "Returning block of 611569\n",
      "Getting block 6 of 8\n",
      "  Reserving size (878651) for bucket\n",
      "  Calculating Z arrays\n",
      "  Calculating Z arrays time: 00:00:00\n",
      "  Entering block accumulator loop:\n",
      "  10%\n",
      "  20%\n",
      "  30%\n",
      "  40%\n",
      "  50%\n",
      "  60%\n",
      "  70%\n",
      "  80%\n",
      "  90%\n",
      "  100%\n",
      "  Block accumulator loop time: 00:00:00\n",
      "  Sorting block of length 352779\n",
      "  (Using difference cover)\n",
      "  Sorting block time: 00:00:00\n",
      "Returning block of 352780\n",
      "Getting block 7 of 8\n",
      "  Reserving size (878651) for bucket\n",
      "  Calculating Z arrays\n",
      "  Calculating Z arrays time: 00:00:00\n",
      "  Entering block accumulator loop:\n",
      "  10%\n",
      "  20%\n",
      "  30%\n",
      "  40%\n",
      "  50%\n",
      "  60%\n",
      "  70%\n",
      "  80%\n",
      "  90%\n",
      "  100%\n",
      "  Block accumulator loop time: 00:00:00\n",
      "  Sorting block of length 828842\n",
      "  (Using difference cover)\n",
      "  Sorting block time: 00:00:00\n",
      "Returning block of 828843\n",
      "Getting block 8 of 8\n",
      "  Reserving size (878651) for bucket\n",
      "  Calculating Z arrays\n",
      "  Calculating Z arrays time: 00:00:00\n",
      "  Entering block accumulator loop:\n",
      "  10%\n",
      "  20%\n",
      "  30%\n",
      "  40%\n",
      "  50%\n",
      "  60%\n",
      "  70%\n",
      "  80%\n",
      "  90%\n",
      "  100%\n",
      "  Block accumulator loop time: 00:00:00\n",
      "  Sorting block of length 822280\n",
      "  (Using difference cover)\n",
      "  Sorting block time: 00:00:01\n",
      "Returning block of 822281\n",
      "Exited Ebwt loop\n",
      "fchr[A]: 0\n",
      "fchr[C]: 1153641\n",
      "fchr[G]: 2344522\n",
      "fchr[T]: 3533323\n",
      "fchr[$]: 4686137\n",
      "Exiting Ebwt::buildToDisk()\n",
      "Returning from initFromVector\n",
      "Wrote 5756612 bytes to primary EBWT file: idx.1.bt2\n",
      "Wrote 1171540 bytes to secondary EBWT file: idx.2.bt2\n",
      "Re-opening _in1 and _in2 as input streams\n",
      "Returning from Ebwt constructor\n",
      "Headers:\n",
      "    len: 4686137\n",
      "    bwtLen: 4686138\n",
      "    sz: 1171535\n",
      "    bwtSz: 1171535\n",
      "    lineRate: 6\n",
      "    offRate: 4\n",
      "    offMask: 0xfffffff0\n",
      "    ftabChars: 10\n",
      "    eftabLen: 20\n",
      "    eftabSz: 80\n",
      "    ftabLen: 1048577\n",
      "    ftabSz: 4194308\n",
      "    offsLen: 292884\n",
      "    offsSz: 1171536\n",
      "    lineSz: 64\n",
      "    sideSz: 64\n",
      "    sideBwtSz: 48\n",
      "    sideBwtLen: 192\n",
      "    numSides: 24407\n",
      "    numLines: 24407\n",
      "    ebwtTotLen: 1562048\n",
      "    ebwtTotSz: 1562048\n",
      "    color: 0\n",
      "    reverse: 0\n",
      "Total time for call to driver() for forward index: 00:00:04\n",
      "Reading reference sizes\n",
      "  Time reading reference sizes: 00:00:00\n",
      "Calculating joined length\n",
      "Writing header\n",
      "Reserving space for joined string\n",
      "Joining reference sequences\n",
      "  Time to join reference sequences: 00:00:00\n",
      "  Time to reverse reference sequence: 00:00:00\n",
      "bmax according to bmaxDivN setting: 1171534\n",
      "Using parameters --bmax 878651 --dcv 1024\n",
      "  Doing ahead-of-time memory usage test\n",
      "  Passed!  Constructing with these parameters: --bmax 878651 --dcv 1024\n",
      "Constructing suffix-array element generator\n",
      "Building DifferenceCoverSample\n",
      "  Building sPrime\n",
      "  Building sPrimeOrder\n",
      "  V-Sorting samples\n",
      "  V-Sorting samples time: 00:00:00\n",
      "  Allocating rank array\n",
      "  Ranking v-sort output\n",
      "  Ranking v-sort output time: 00:00:00\n",
      "  Invoking Larsson-Sadakane on ranks\n",
      "  Invoking Larsson-Sadakane on ranks time: 00:00:00\n",
      "  Sanity-checking and returning\n",
      "Building samples\n",
      "Reserving space for 12 sample suffixes\n",
      "Generating random suffixes\n",
      "QSorting 12 sample offsets, eliminating duplicates\n",
      "QSorting sample offsets, eliminating duplicates time: 00:00:00\n",
      "Multikey QSorting 12 samples\n",
      "  (Using difference cover)\n",
      "  Multikey QSorting samples time: 00:00:00\n",
      "Calculating bucket sizes\n",
      "  Binary sorting into buckets\n",
      "  10%\n",
      "  20%\n",
      "  30%\n",
      "  40%\n",
      "  50%\n",
      "  60%\n",
      "  70%\n",
      "  80%\n",
      "  90%\n",
      "  100%\n",
      "  Binary sorting into buckets time: 00:00:00\n",
      "Splitting and merging\n",
      "  Splitting and merging time: 00:00:00\n",
      "Split 1, merged 6; iterating...\n",
      "  Binary sorting into buckets\n",
      "  10%\n",
      "  20%\n",
      "  30%\n",
      "  40%\n",
      "  50%\n",
      "  60%\n",
      "  70%\n",
      "  80%\n",
      "  90%\n",
      "  100%\n",
      "  Binary sorting into buckets time: 00:00:00\n",
      "Splitting and merging\n",
      "  Splitting and merging time: 00:00:00\n",
      "Split 1, merged 1; iterating...\n",
      "  Binary sorting into buckets\n",
      "  10%\n",
      "  20%\n",
      "  30%\n",
      "  40%\n",
      "  50%\n",
      "  60%\n",
      "  70%\n",
      "  80%\n",
      "  90%\n",
      "  100%\n",
      "  Binary sorting into buckets time: 00:00:00\n",
      "Splitting and merging\n",
      "  Splitting and merging time: 00:00:00\n",
      "Avg bucket size: 669447 (target: 878650)\n",
      "Converting suffix-array elements to index image\n",
      "Allocating ftab, absorbFtab\n",
      "Entering Ebwt loop\n",
      "Getting block 1 of 7\n",
      "  Reserving size (878651) for bucket\n",
      "  Calculating Z arrays\n",
      "  Calculating Z arrays time: 00:00:00\n",
      "  Entering block accumulator loop:\n",
      "  10%\n",
      "  20%\n"
     ]
    },
    {
     "name": "stdout",
     "output_type": "stream",
     "text": [
      "  30%\n",
      "  40%\n",
      "  50%\n",
      "  60%\n",
      "  70%\n",
      "  80%\n",
      "  90%\n",
      "  100%\n",
      "  Block accumulator loop time: 00:00:00\n",
      "  Sorting block of length 783065\n",
      "  (Using difference cover)\n",
      "  Sorting block time: 00:00:00\n",
      "Returning block of 783066\n",
      "Getting block 2 of 7\n",
      "  Reserving size (878651) for bucket\n",
      "  Calculating Z arrays\n",
      "  Calculating Z arrays time: 00:00:00\n",
      "  Entering block accumulator loop:\n",
      "  10%\n",
      "  20%\n",
      "  30%\n",
      "  40%\n",
      "  50%\n",
      "  60%\n",
      "  70%\n",
      "  80%\n",
      "  90%\n",
      "  100%\n",
      "  Block accumulator loop time: 00:00:00\n",
      "  Sorting block of length 708346\n",
      "  (Using difference cover)\n",
      "  Sorting block time: 00:00:00\n",
      "Returning block of 708347\n",
      "Getting block 3 of 7\n",
      "  Reserving size (878651) for bucket\n",
      "  Calculating Z arrays\n",
      "  Calculating Z arrays time: 00:00:00\n",
      "  Entering block accumulator loop:\n",
      "  10%\n",
      "  20%\n",
      "  30%\n",
      "  40%\n",
      "  50%\n",
      "  60%\n",
      "  70%\n",
      "  80%\n",
      "  90%\n",
      "  100%\n",
      "  Block accumulator loop time: 00:00:00\n",
      "  Sorting block of length 729530\n",
      "  (Using difference cover)\n",
      "  Sorting block time: 00:00:00\n",
      "Returning block of 729531\n",
      "Getting block 4 of 7\n",
      "  Reserving size (878651) for bucket\n",
      "  Calculating Z arrays\n",
      "  Calculating Z arrays time: 00:00:00\n",
      "  Entering block accumulator loop:\n",
      "  10%\n",
      "  20%\n",
      "  30%\n",
      "  40%\n",
      "  50%\n",
      "  60%\n",
      "  70%\n",
      "  80%\n",
      "  90%\n",
      "  100%\n",
      "  Block accumulator loop time: 00:00:01\n",
      "  Sorting block of length 330749\n",
      "  (Using difference cover)\n",
      "  Sorting block time: 00:00:00\n",
      "Returning block of 330750\n",
      "Getting block 5 of 7\n",
      "  Reserving size (878651) for bucket\n",
      "  Calculating Z arrays\n",
      "  Calculating Z arrays time: 00:00:00\n",
      "  Entering block accumulator loop:\n",
      "  10%\n",
      "  20%\n",
      "  30%\n",
      "  40%\n",
      "  50%\n",
      "  60%\n",
      "  70%\n",
      "  80%\n",
      "  90%\n",
      "  100%\n",
      "  Block accumulator loop time: 00:00:00\n",
      "  Sorting block of length 774984\n",
      "  (Using difference cover)\n",
      "  Sorting block time: 00:00:00\n",
      "Returning block of 774985\n",
      "Getting block 6 of 7\n",
      "  Reserving size (878651) for bucket\n",
      "  Calculating Z arrays\n",
      "  Calculating Z arrays time: 00:00:00\n",
      "  Entering block accumulator loop:\n",
      "  10%\n",
      "  20%\n",
      "  30%\n",
      "  40%\n",
      "  50%\n",
      "  60%\n",
      "  70%\n",
      "  80%\n",
      "  90%\n",
      "  100%\n",
      "  Block accumulator loop time: 00:00:00\n",
      "  Sorting block of length 627619\n",
      "  (Using difference cover)\n",
      "  Sorting block time: 00:00:00\n",
      "Returning block of 627620\n",
      "Getting block 7 of 7\n",
      "  Reserving size (878651) for bucket\n",
      "  Calculating Z arrays\n",
      "  Calculating Z arrays time: 00:00:00\n",
      "  Entering block accumulator loop:\n",
      "  10%\n",
      "  20%\n",
      "  30%\n",
      "  40%\n",
      "  50%\n",
      "  60%\n",
      "  70%\n",
      "  80%\n",
      "  90%\n",
      "  100%\n",
      "  Block accumulator loop time: 00:00:00\n",
      "  Sorting block of length 731838\n",
      "  (Using difference cover)\n",
      "  Sorting block time: 00:00:00\n",
      "Returning block of 731839\n",
      "Exited Ebwt loop\n",
      "fchr[A]: 0\n",
      "fchr[C]: 1153641\n",
      "fchr[G]: 2344522\n",
      "fchr[T]: 3533323\n",
      "fchr[$]: 4686137\n",
      "Exiting Ebwt::buildToDisk()\n",
      "Returning from initFromVector\n",
      "Wrote 5756612 bytes to primary EBWT file: idx.rev.1.bt2\n",
      "Wrote 1171540 bytes to secondary EBWT file: idx.rev.2.bt2\n",
      "Re-opening _in1 and _in2 as input streams\n",
      "Returning from Ebwt constructor\n",
      "Headers:\n",
      "    len: 4686137\n",
      "    bwtLen: 4686138\n",
      "    sz: 1171535\n",
      "    bwtSz: 1171535\n",
      "    lineRate: 6\n",
      "    offRate: 4\n",
      "    offMask: 0xfffffff0\n",
      "    ftabChars: 10\n",
      "    eftabLen: 20\n",
      "    eftabSz: 80\n",
      "    ftabLen: 1048577\n",
      "    ftabSz: 4194308\n",
      "    offsLen: 292884\n",
      "    offsSz: 1171536\n",
      "    lineSz: 64\n",
      "    sideSz: 64\n",
      "    sideBwtSz: 48\n",
      "    sideBwtLen: 192\n",
      "    numSides: 24407\n",
      "    numLines: 24407\n",
      "    ebwtTotLen: 1562048\n",
      "    ebwtTotSz: 1562048\n",
      "    color: 0\n",
      "    reverse: 1\n",
      "Total time for backward call to driver() for mirror index: 00:00:03\n"
     ]
    }
   ],
   "source": [
    "!bowtie2-build data/DH10B-K12.fasta idx"
   ]
  },
  {
   "cell_type": "code",
   "execution_count": 106,
   "metadata": {},
   "outputs": [
    {
     "name": "stdout",
     "output_type": "stream",
     "text": [
      "494921 reads; of these:\r\n",
      "  494921 (100.00%) were unpaired; of these:\r\n",
      "    10992 (2.22%) aligned 0 times\r\n",
      "    448286 (90.58%) aligned exactly 1 time\r\n",
      "    35643 (7.20%) aligned >1 times\r\n",
      "97.78% overall alignment rate\r\n"
     ]
    }
   ],
   "source": [
    "!bowtie2 -x idx -U data/B22-730.fastq -S 'b22_bowtie2.sam'"
   ]
  },
  {
   "cell_type": "code",
   "execution_count": 108,
   "metadata": {},
   "outputs": [
    {
     "name": "stdout",
     "output_type": "stream",
     "text": [
      "685406 reads; of these:\r\n",
      "  685406 (100.00%) were unpaired; of these:\r\n",
      "    5140 (0.75%) aligned 0 times\r\n",
      "    629223 (91.80%) aligned exactly 1 time\r\n",
      "    51043 (7.45%) aligned >1 times\r\n",
      "99.25% overall alignment rate\r\n"
     ]
    }
   ],
   "source": [
    "!bowtie2 -x idx -U data/C24-698.fastq -S 'c24_bowtie2.sam'"
   ]
  },
  {
   "cell_type": "code",
   "execution_count": 65,
   "metadata": {},
   "outputs": [],
   "source": [
    "sm, cigar, errors, reads_length, insertions, deletions, hp, stats, average_quality, qdeletions, \\\n",
    "qinsertons = substitution_matrix(\n",
    "    'data/DH10B-K12.fasta', 'c24_bowtie2.sam')"
   ]
  },
  {
   "cell_type": "code",
   "execution_count": 120,
   "metadata": {},
   "outputs": [
    {
     "name": "stdout",
     "output_type": "stream",
     "text": [
      "Процент ошибок 0.305%\n"
     ]
    }
   ],
   "source": [
    "# получился ниже, чем с другим выравнивателем\n",
    "pr_errors = (sum(cigar.values()) - cigar['M']) / sum(cigar.values())\n",
    "print(f'Процент ошибок {pr_errors * 100 :.3f}%')"
   ]
  },
  {
   "cell_type": "code",
   "execution_count": 66,
   "metadata": {},
   "outputs": [
    {
     "name": "stdout",
     "output_type": "stream",
     "text": [
      "Average quality\n",
      "\tM: 29.708%\n",
      "\tI: 15.694%\n",
      "\tD: 0.000%\n",
      "Freq of insertions\n",
      "\tA: 29.659%\n",
      "\tC: 20.330%\n",
      "\tG: 19.415%\n",
      "\tT: 30.596%\n",
      "Freq of deletions\n",
      "\tC: 33.963%\n",
      "\tT: 16.426%\n",
      "\tA: 15.615%\n",
      "\tG: 33.997%\n"
     ]
    }
   ],
   "source": [
    "print('Average quality')\n",
    "for letter in average_quality:\n",
    "    print(f'\\t{letter}: {average_quality[letter]:.3f}%')\n",
    "    \n",
    "# вставки\n",
    "print('Freq of insertions')\n",
    "for letter in qinsertons:\n",
    "    print(f'\\t{letter}: {qinsertons[letter] / sum(qinsertons.values()) * 100:.3f}%')\n",
    "    \n",
    "# удаления\n",
    "print('Freq of deletions')\n",
    "for letter in qdeletions:\n",
    "    print(f'\\t{letter}: {qdeletions[letter] / sum(qdeletions.values()) * 100:.3f}%')"
   ]
  },
  {
   "cell_type": "code",
   "execution_count": 121,
   "metadata": {},
   "outputs": [
    {
     "data": {
      "text/plain": [
       "Text(0, 0.5, 'Частота')"
      ]
     },
     "execution_count": 121,
     "metadata": {},
     "output_type": "execute_result"
    },
    {
     "data": {
      "image/png": "[encoded data removed]",
      "text/plain": [
       "<Figure size 432x288 with 1 Axes>"
      ]
     },
     "metadata": {
      "needs_background": "light"
     },
     "output_type": "display_data"
    }
   ],
   "source": [
    "insertions = pd.DataFrame(insertions, columns=['x', 'y'])\n",
    "deletions = pd.DataFrame(deletions, columns=['x', 'y'])\n",
    "plt.scatter(insertions.x, insertions.y)\n",
    "plt.plot(insertions.x, insertions.y, label='Insertions')\n",
    "\n",
    "plt.scatter(deletions.x, deletions.y)\n",
    "plt.plot(deletions.x, deletions.y, label='Deletions')\n",
    "\n",
    "plt.legend()\n",
    "plt.title('Распределение длин вставок и удалений, c24')\n",
    "plt.xlabel('Длина')\n",
    "plt.ylabel('Частота')"
   ]
  },
  {
   "cell_type": "code",
   "execution_count": 67,
   "metadata": {},
   "outputs": [],
   "source": [
    "sm, cigar, errors, reads_length, insertions, deletions, hp, stats, average_quality, qdeletions, \\\n",
    "qinsertons = substitution_matrix(\n",
    "    'data/DH10B-K12.fasta', 'b22_bowtie2.sam')"
   ]
  },
  {
   "cell_type": "code",
   "execution_count": 117,
   "metadata": {
    "scrolled": true
   },
   "outputs": [
    {
     "name": "stdout",
     "output_type": "stream",
     "text": [
      "Процент ошибок 0.609%\n"
     ]
    }
   ],
   "source": [
    "# также получился ниже, чем с другим выравнивателем\n",
    "pr_errors = (sum(cigar.values()) - cigar['M']) / sum(cigar.values())\n",
    "print(f'Процент ошибок {pr_errors * 100 :.3f}%')"
   ]
  },
  {
   "cell_type": "code",
   "execution_count": 68,
   "metadata": {},
   "outputs": [
    {
     "name": "stdout",
     "output_type": "stream",
     "text": [
      "Average quality\n",
      "\tM: 28.340%\n",
      "\tI: 16.525%\n",
      "\tD: 0.000%\n",
      "Freq of insertions\n",
      "\tC: 17.476%\n",
      "\tA: 31.978%\n",
      "\tT: 33.968%\n",
      "\tG: 16.579%\n",
      "Freq of deletions\n",
      "\tA: 30.119%\n",
      "\tC: 19.618%\n",
      "\tT: 30.750%\n",
      "\tG: 19.513%\n"
     ]
    }
   ],
   "source": [
    "print('Average quality')\n",
    "for letter in average_quality:\n",
    "    print(f'\\t{letter}: {average_quality[letter]:.3f}%')\n",
    "    \n",
    "# вставки\n",
    "print('Freq of insertions')\n",
    "for letter in qinsertons:\n",
    "    print(f'\\t{letter}: {qinsertons[letter] / sum(qinsertons.values()) * 100:.3f}%')\n",
    "    \n",
    "# удаления\n",
    "print('Freq of deletions')\n",
    "for letter in qdeletions:\n",
    "    print(f'\\t{letter}: {qdeletions[letter] / sum(qdeletions.values()) * 100:.3f}%')"
   ]
  },
  {
   "cell_type": "code",
   "execution_count": 70,
   "metadata": {},
   "outputs": [
    {
     "data": {
      "text/plain": [
       "Text(0, 0.5, 'Частота, log')"
      ]
     },
     "execution_count": 70,
     "metadata": {},
     "output_type": "execute_result"
    },
    {
     "data": {
      "image/png": "[encoded data removed]",
      "text/plain": [
       "<Figure size 432x288 with 1 Axes>"
      ]
     },
     "metadata": {
      "needs_background": "light"
     },
     "output_type": "display_data"
    }
   ],
   "source": [
    "insertions = pd.DataFrame(insertions, columns=['x', 'y'])\n",
    "deletions = pd.DataFrame(deletions, columns=['x', 'y'])\n",
    "plt.scatter(insertions.x, np.log(insertions.y))\n",
    "plt.plot(insertions.x, np.log(insertions.y), label='Insertions')\n",
    "\n",
    "plt.scatter(deletions.x, np.log(deletions.y))\n",
    "plt.plot(deletions.x, np.log(deletions.y), label='Deletions')\n",
    "\n",
    "plt.legend()\n",
    "plt.title('Распределение длин вставок и удалений, b22')\n",
    "plt.xlabel('Длина')\n",
    "plt.ylabel('Частота, log')"
   ]
  },
  {
   "cell_type": "code",
   "execution_count": null,
   "metadata": {},
   "outputs": [],
   "source": []
  }
 ],
 "metadata": {
  "kernelspec": {
   "display_name": "Python 3",
   "language": "python",
   "name": "python3"
  },
  "language_info": {
   "codemirror_mode": {
    "name": "ipython",
    "version": 3
   },
   "file_extension": ".py",
   "mimetype": "text/x-python",
   "name": "python",
   "nbconvert_exporter": "python",
   "pygments_lexer": "ipython3",
   "version": "3.7.4"
  }
 },
 "nbformat": 4,
 "nbformat_minor": 2
}
